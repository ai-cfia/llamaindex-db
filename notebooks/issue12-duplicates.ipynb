{
 "cells": [
  {
   "cell_type": "markdown",
   "metadata": {},
   "source": [
    "# Issue [#12](https://github.com/ai-cfia/llamaindex-db/issues/12)\n"
   ]
  },
  {
   "cell_type": "code",
   "execution_count": 52,
   "metadata": {},
   "outputs": [
    {
     "data": {
      "text/plain": [
       "True"
      ]
     },
     "execution_count": 52,
     "metadata": {},
     "output_type": "execute_result"
    }
   ],
   "source": [
    "from llama_index.core import VectorStoreIndex\n",
    "from llama_index.vector_stores.postgres import PGVectorStore\n",
    "from llama_index.embeddings.azure_openai import AzureOpenAIEmbedding\n",
    "from llama_index.llms.azure_openai import AzureOpenAI\n",
    "from llama_index.core import Settings\n",
    "from llama_index.core.schema import NodeWithScore, TextNode\n",
    "import os\n",
    "from dotenv import load_dotenv\n",
    "import psycopg\n",
    "from psycopg.rows import dict_row\n",
    "from pprint import pprint\n",
    "\n",
    "load_dotenv()"
   ]
  },
  {
   "cell_type": "markdown",
   "metadata": {},
   "source": [
    "## Setup LLM and Embed Model\n"
   ]
  },
  {
   "cell_type": "code",
   "execution_count": 53,
   "metadata": {},
   "outputs": [],
   "source": [
    "llm = AzureOpenAI(\n",
    "    model=\"gpt-4\",\n",
    "    deployment_name=\"ailab-llm\",\n",
    "    api_key=os.getenv(\"API_KEY\"),\n",
    "    azure_endpoint=os.getenv(\"AZURE_ENDPOINT\"),\n",
    "    api_version=os.getenv(\"API_VERSION\"),\n",
    ")\n",
    "\n",
    "embed_model = AzureOpenAIEmbedding(\n",
    "    model=\"text-embedding-ada-002\",\n",
    "    deployment_name=\"ada\",\n",
    "    api_key=os.getenv(\"API_KEY\"),\n",
    "    azure_endpoint=os.getenv(\"AZURE_ENDPOINT\"),\n",
    "    api_version=os.getenv(\"API_VERSION\"),\n",
    ")\n",
    "\n",
    "Settings.llm = llm\n",
    "Settings.embed_model = embed_model"
   ]
  },
  {
   "cell_type": "markdown",
   "metadata": {},
   "source": [
    "## Variables\n"
   ]
  },
  {
   "cell_type": "code",
   "execution_count": 54,
   "metadata": {},
   "outputs": [],
   "source": [
    "database = os.getenv(\"DB_NAME\")\n",
    "host = os.getenv(\"DB_HOST\")\n",
    "password = os.getenv(\"DB_PASSWORD\")\n",
    "port = os.getenv(\"DB_PORT\")\n",
    "user = os.getenv(\"DB_USER\")\n",
    "llamaindex_db = \"llamaindex_db_legacy\"\n",
    "llamaindex_schema = \"v_0_0_1\""
   ]
  },
  {
   "cell_type": "markdown",
   "metadata": {},
   "source": [
    "## Observed problem\n"
   ]
  },
  {
   "cell_type": "code",
   "execution_count": 55,
   "metadata": {},
   "outputs": [],
   "source": [
    "vector_store = PGVectorStore.from_params(\n",
    "    database=llamaindex_db,\n",
    "    host=host,\n",
    "    password=password,\n",
    "    port=port,\n",
    "    user=user,\n",
    "    embed_dim=1536,\n",
    ")\n",
    "\n",
    "index = VectorStoreIndex.from_vector_store(vector_store=vector_store)\n",
    "retriever = index.as_retriever(similarity_top_k=10)"
   ]
  },
  {
   "cell_type": "code",
   "execution_count": 56,
   "metadata": {},
   "outputs": [],
   "source": [
    "query = \"what are the fertilizer labelling requirements?\"\n",
    "nodes = retriever.retrieve(query)"
   ]
  },
  {
   "cell_type": "code",
   "execution_count": 57,
   "metadata": {},
   "outputs": [
    {
     "name": "stdout",
     "output_type": "stream",
     "text": [
      "{'meta': {'chunk_id': '1854fdc5-af24-41e4-81ef-a742a08c6684',\n",
      "          'id': '8780a201-a628-44a3-babb-c8830b68de72',\n",
      "          'last_updated': '2020-11-13',\n",
      "          'score': 0.534927215363663,\n",
      "          'subtitle': 'Registered Fertilizer-Pesticides Labelling',\n",
      "          'title': 'T-4- 102 - Requirements for fertilizer-pesticides under '\n",
      "                   'the Fertilizers Act - Canadian Food Inspection Agency',\n",
      "          'tokens_count': 305,\n",
      "          'url': 'https://inspection.canada.ca/plant-health/fertilizers/trade-memoranda/t-4-102/eng/1307854513877/1307854674148'},\n",
      " 'node_id': '8780a201-a628-44a3-babb-c8830b68de72',\n",
      " 'score': 0.9085487454359314}\n",
      "{'meta': {'chunk_id': 'f57c95ef-1dd7-4d03-886e-d82b7fa22563',\n",
      "          'id': '8780a201-a628-44a3-babb-c8830b68de72',\n",
      "          'last_updated': '2020-11-13',\n",
      "          'score': 0.534927215363663,\n",
      "          'subtitle': 'Exemptions from Registration;Customer Formula '\n",
      "                      'Fertilizer-Pesticide Labelling',\n",
      "          'title': 'T-4- 102 - Requirements for fertilizer-pesticides under '\n",
      "                   'the Fertilizers Act - Canadian Food Inspection Agency',\n",
      "          'tokens_count': 273,\n",
      "          'url': 'https://inspection.canada.ca/plant-health/fertilizers/trade-memoranda/t-4-102/eng/1307854513877/1307854674148'},\n",
      " 'node_id': '8780a201-a628-44a3-babb-c8830b68de72',\n",
      " 'score': 0.9085487454359314}\n",
      "{'meta': {'chunk_id': '09f04937-a60d-4a5d-a2bd-1754101d7ca8',\n",
      "          'id': '8780a201-a628-44a3-babb-c8830b68de72',\n",
      "          'last_updated': '2020-11-13',\n",
      "          'score': 0.534927215363663,\n",
      "          'subtitle': '6. Contact information',\n",
      "          'title': 'T-4- 102 - Requirements for fertilizer-pesticides under '\n",
      "                   'the Fertilizers Act - Canadian Food Inspection Agency',\n",
      "          'tokens_count': 78,\n",
      "          'url': 'https://inspection.canada.ca/plant-health/fertilizers/trade-memoranda/t-4-102/eng/1307854513877/1307854674148'},\n",
      " 'node_id': '8780a201-a628-44a3-babb-c8830b68de72',\n",
      " 'score': 0.9085487454359314}\n",
      "{'meta': {'chunk_id': '7cd497c1-dcf7-4ad7-bdb8-d0d60c997bba',\n",
      "          'id': '8780a201-a628-44a3-babb-c8830b68de72',\n",
      "          'last_updated': '2020-11-13',\n",
      "          'score': 0.534927215363663,\n",
      "          'subtitle': '4. Labelling;5. Compendium of fertilizer-use pesticides',\n",
      "          'title': 'T-4- 102 - Requirements for fertilizer-pesticides under '\n",
      "                   'the Fertilizers Act - Canadian Food Inspection Agency',\n",
      "          'tokens_count': 437,\n",
      "          'url': 'https://inspection.canada.ca/plant-health/fertilizers/trade-memoranda/t-4-102/eng/1307854513877/1307854674148'},\n",
      " 'node_id': '8780a201-a628-44a3-babb-c8830b68de72',\n",
      " 'score': 0.9085487454359314}\n",
      "{'meta': {'chunk_id': 'a5c3fa21-259b-43b9-a59f-5083a2f9f120',\n",
      "          'id': '8780a201-a628-44a3-babb-c8830b68de72',\n",
      "          'last_updated': '2020-11-13',\n",
      "          'score': 0.534927215363663,\n",
      "          'subtitle': '1. Purpose;2. Standards;3. Registration requirements',\n",
      "          'title': 'T-4- 102 - Requirements for fertilizer-pesticides under '\n",
      "                   'the Fertilizers Act - Canadian Food Inspection Agency',\n",
      "          'tokens_count': 358,\n",
      "          'url': 'https://inspection.canada.ca/plant-health/fertilizers/trade-memoranda/t-4-102/eng/1307854513877/1307854674148'},\n",
      " 'node_id': '8780a201-a628-44a3-babb-c8830b68de72',\n",
      " 'score': 0.9085487454359314}\n",
      "{'meta': {'chunk_id': '3fbafdcd-6a0e-44ac-8901-867aa3ec94ff',\n",
      "          'id': '61cfc05e-565a-42eb-8ed0-5908a98ea816',\n",
      "          'last_updated': '2022-07-15',\n",
      "          'score': 0.5726020874138481,\n",
      "          'subtitle': 'Label verification;Marketplace monitoring',\n",
      "          'title': 'Fertilizer Program overview - Canadian Food Inspection '\n",
      "                   'Agency',\n",
      "          'tokens_count': 233,\n",
      "          'url': 'https://inspection.canada.ca/plant-health/fertilizers/program-overview/eng/1330891097865/1330891293225'},\n",
      " 'node_id': '61cfc05e-565a-42eb-8ed0-5908a98ea816',\n",
      " 'score': 0.886424290837645}\n",
      "{'meta': {'chunk_id': '6e794a39-ad46-45e0-ae2f-48a598dfe87b',\n",
      "          'id': '53d3cd70-bcd5-4b2d-b2e1-27237a0cfc07',\n",
      "          'last_updated': '2022-01-06',\n",
      "          'score': 0.49127928626424366,\n",
      "          'subtitle': '5.2.3 Third review',\n",
      "          'title': 'T-4- 122 – Service delivery standards for fertilizer and '\n",
      "                   'supplement registration-related submissions under the '\n",
      "                   'Fertilizers Act and regulations - Canadian Food Inspection '\n",
      "                   'Agency',\n",
      "          'tokens_count': 145,\n",
      "          'url': 'https://inspection.canada.ca/plant-health/fertilizers/trade-memoranda/t-4-122/eng/1305609994431/1307910971122'},\n",
      " 'node_id': '53d3cd70-bcd5-4b2d-b2e1-27237a0cfc07',\n",
      " 'score': 0.8705808520318067}\n",
      "{'meta': {'chunk_id': '3791be04-4f09-4c83-a22d-fe7bf19908e2',\n",
      "          'id': '53d3cd70-bcd5-4b2d-b2e1-27237a0cfc07',\n",
      "          'last_updated': '2022-01-06',\n",
      "          'score': 0.49127928626424366,\n",
      "          'subtitle': '5.2.1 First review;5.2.2 Second review',\n",
      "          'title': 'T-4- 122 – Service delivery standards for fertilizer and '\n",
      "                   'supplement registration-related submissions under the '\n",
      "                   'Fertilizers Act and regulations - Canadian Food Inspection '\n",
      "                   'Agency',\n",
      "          'tokens_count': 369,\n",
      "          'url': 'https://inspection.canada.ca/plant-health/fertilizers/trade-memoranda/t-4-122/eng/1305609994431/1307910971122'},\n",
      " 'node_id': '53d3cd70-bcd5-4b2d-b2e1-27237a0cfc07',\n",
      " 'score': 0.8705808520318067}\n",
      "{'meta': {'chunk_id': '1af065f1-8c27-4f40-ab7d-49215bc93f49',\n",
      "          'id': '53d3cd70-bcd5-4b2d-b2e1-27237a0cfc07',\n",
      "          'last_updated': '2022-01-06',\n",
      "          'score': 0.49127928626424366,\n",
      "          'subtitle': '5.1 Pre-screening',\n",
      "          'title': 'T-4- 122 – Service delivery standards for fertilizer and '\n",
      "                   'supplement registration-related submissions under the '\n",
      "                   'Fertilizers Act and regulations - Canadian Food Inspection '\n",
      "                   'Agency',\n",
      "          'tokens_count': 399,\n",
      "          'url': 'https://inspection.canada.ca/plant-health/fertilizers/trade-memoranda/t-4-122/eng/1305609994431/1307910971122'},\n",
      " 'node_id': '53d3cd70-bcd5-4b2d-b2e1-27237a0cfc07',\n",
      " 'score': 0.8705808520318067}\n",
      "{'meta': {'chunk_id': '088fbaed-f0d8-4ab2-a614-61e556e59be3',\n",
      "          'id': '53d3cd70-bcd5-4b2d-b2e1-27237a0cfc07',\n",
      "          'last_updated': '2022-01-06',\n",
      "          'score': 0.49127928626424366,\n",
      "          'subtitle': '4.5 Ingredient Source Change Inquiry (ISCI)',\n",
      "          'title': 'T-4- 122 – Service delivery standards for fertilizer and '\n",
      "                   'supplement registration-related submissions under the '\n",
      "                   'Fertilizers Act and regulations - Canadian Food Inspection '\n",
      "                   'Agency',\n",
      "          'tokens_count': 306,\n",
      "          'url': 'https://inspection.canada.ca/plant-health/fertilizers/trade-memoranda/t-4-122/eng/1305609994431/1307910971122'},\n",
      " 'node_id': '53d3cd70-bcd5-4b2d-b2e1-27237a0cfc07',\n",
      " 'score': 0.8705808520318067}\n"
     ]
    }
   ],
   "source": [
    "for n in nodes:\n",
    "    pprint({\"meta\": n.metadata, \"score\": n.score, \"node_id\": n.node_id})"
   ]
  },
  {
   "cell_type": "markdown",
   "metadata": {},
   "source": [
    "We can observe that multiple documents reference the same url (document).\n"
   ]
  },
  {
   "cell_type": "markdown",
   "metadata": {},
   "source": [
    "## Root cause\n",
    "\n",
    "A long enough document is split into chunks (html sections in our case). A node is a chunk and all it's metadata. A query's vector can simultaneously be similar to multiple nodes in the same document. For instance the subject of `fertilizer labelling requirements` might span multiple sections in the original webpage. Even then, we should expect nodes from the same documents to have different scores. It's not the case here, which suggests that there is a deeper issue here.\n",
    "\n",
    "I just noticed: nodes from the same document have the same `node_id`. This suggest that the `node_ids` are referencing the document instead of the chunks. Indeed, looking at the node creation code in [pgvector_ailab_db.ipynb](./pgvector_ailab_db.ipynb), in section \"Creating nodes from louis_v005.documents\" at the moment this was written, we can see that it's the case.\n",
    "\n",
    "```python\n",
    "query = \"\"\"\n",
    "    SELECT id, content, embedding, chunk_id, url, title, subtitle, tokens_count, last_updated, score\n",
    "    FROM louis_v005.documents\n",
    "\"\"\"\n",
    "nodes = []\n",
    "with psycopg.connect(conn_string) as conn:\n",
    "    with conn.cursor(row_factory=dict_row) as cur:\n",
    "        results = cur.execute(query).fetchall()\n",
    "        for r in tqdm(results, desc=\"Processing records\"):\n",
    "            node = TextNode(\n",
    "                text=r[\"content\"],\n",
    "                id_=str(r[\"id\"]), # <---- Here\n",
    "                embedding=json.loads(r[\"embedding\"]),\n",
    "            )\n",
    "```\n",
    "\n",
    "Something else I noticed: many of the nodes that reference the same documents have the same embedding, which is virtually impossible.\n"
   ]
  },
  {
   "cell_type": "code",
   "execution_count": 58,
   "metadata": {},
   "outputs": [
    {
     "name": "stdout",
     "output_type": "stream",
     "text": [
      "8780a201-a628-44a3-babb-c8830b68de72\n"
     ]
    }
   ],
   "source": [
    "conn_string = (\n",
    "    f\"dbname={llamaindex_db} \"\n",
    "    f\"user={user} \"\n",
    "    f\"password={password} \"\n",
    "    f\"host={host} \"\n",
    "    f\"port={port}\"\n",
    ")\n",
    "\n",
    "node_id = nodes[0].node_id\n",
    "print(node_id)\n",
    "\n",
    "query = \"\"\"\n",
    "    SELECT node_id, embedding\n",
    "    FROM public.data_llamaindex\n",
    "    WHERE node_id = %s\n",
    "\"\"\"\n",
    "with psycopg.connect(conn_string) as conn:\n",
    "    with conn.cursor(row_factory=dict_row) as cur:\n",
    "        results = cur.execute(query, (node_id,)).fetchall()"
   ]
  },
  {
   "cell_type": "code",
   "execution_count": null,
   "metadata": {},
   "outputs": [],
   "source": [
    "pprint(results)"
   ]
  },
  {
   "cell_type": "code",
   "execution_count": 60,
   "metadata": {},
   "outputs": [
    {
     "name": "stdout",
     "output_type": "stream",
     "text": [
      "results[1] and results[2] are the same: True\n"
     ]
    }
   ],
   "source": [
    "print(\"results[1] and results[2] are the same:\", results[1] == results[2])"
   ]
  },
  {
   "cell_type": "markdown",
   "metadata": {},
   "source": [
    "For comparison, here are the chunks from the same document in `louis_v005`:\n"
   ]
  },
  {
   "cell_type": "code",
   "execution_count": 61,
   "metadata": {},
   "outputs": [
    {
     "name": "stdout",
     "output_type": "stream",
     "text": [
      "8780a201-a628-44a3-babb-c8830b68de72\n"
     ]
    }
   ],
   "source": [
    "conn_string = (\n",
    "    f\"dbname={database} \"\n",
    "    f\"user={user} \"\n",
    "    f\"password={password} \"\n",
    "    f\"host={host} \"\n",
    "    f\"port={port}\"\n",
    ")\n",
    "\n",
    "node_id = nodes[0].node_id\n",
    "print(node_id)\n",
    "\n",
    "query = \"\"\"\n",
    "    SELECT id, chunk_id, embedding\n",
    "    FROM louis_v005.documents\n",
    "    WHERE id = %s\n",
    "\"\"\"\n",
    "with psycopg.connect(conn_string) as conn:\n",
    "    with conn.cursor(row_factory=dict_row) as cur:\n",
    "        results = cur.execute(query, (node_id,)).fetchall()"
   ]
  },
  {
   "cell_type": "code",
   "execution_count": null,
   "metadata": {},
   "outputs": [],
   "source": [
    "pprint(results)"
   ]
  },
  {
   "cell_type": "code",
   "execution_count": 69,
   "metadata": {},
   "outputs": [
    {
     "name": "stdout",
     "output_type": "stream",
     "text": [
      "results[1] and results[2] are the same: False\n"
     ]
    }
   ],
   "source": [
    "print(\"results[1] and results[2] are the same:\", results[1] == results[2])"
   ]
  },
  {
   "cell_type": "markdown",
   "metadata": {},
   "source": [
    "We can see that the embeddings are never the same. So, in the node creation process, probably due to using the same (document) id for nodes, they were duplicated.\n"
   ]
  },
  {
   "cell_type": "markdown",
   "metadata": {},
   "source": [
    "## Fix wrong `node_ids`\n",
    "\n",
    "To fix this, we will have to modify the node creation code and rebuild the index. Fortunately, all the embeddings are already created and should not generate cost. In my estimation, the only costs would be due to db read write operations.\n",
    "\n",
    "New node generation code:\n",
    "\n",
    "```python\n",
    "#...\n",
    "            node = TextNode(\n",
    "                text=r[\"content\"],\n",
    "                id_=str(r[\"chunk_id\"]), # changed \"id\" to \"chunk_id\"\n",
    "                embedding=json.loads(r[\"embedding\"]),\n",
    "            )\n",
    "#...\n",
    "```\n"
   ]
  },
  {
   "cell_type": "markdown",
   "metadata": {},
   "source": [
    "## Testing the `node_id` fix\n"
   ]
  },
  {
   "cell_type": "code",
   "execution_count": 63,
   "metadata": {},
   "outputs": [],
   "source": [
    "vector_store = PGVectorStore.from_params(\n",
    "    database=llamaindex_db,\n",
    "    host=host,\n",
    "    password=password,\n",
    "    port=port,\n",
    "    user=user,\n",
    "    schema_name=llamaindex_schema,\n",
    "    embed_dim=1536,\n",
    ")\n",
    "\n",
    "index = VectorStoreIndex.from_vector_store(vector_store=vector_store)\n",
    "retriever = index.as_retriever(similarity_top_k=10)"
   ]
  },
  {
   "cell_type": "code",
   "execution_count": 64,
   "metadata": {},
   "outputs": [],
   "source": [
    "query = \"what are the fertilizer labelling requirements?\"\n",
    "nodes = retriever.retrieve(query)"
   ]
  },
  {
   "cell_type": "code",
   "execution_count": 65,
   "metadata": {},
   "outputs": [
    {
     "name": "stdout",
     "output_type": "stream",
     "text": [
      "{'meta': {'chunk_id': '1854fdc5-af24-41e4-81ef-a742a08c6684',\n",
      "          'id': '8780a201-a628-44a3-babb-c8830b68de72',\n",
      "          'last_updated': '2020-11-13',\n",
      "          'score': 0.534927215363663,\n",
      "          'subtitle': 'Registered Fertilizer-Pesticides Labelling',\n",
      "          'title': 'T-4- 102 - Requirements for fertilizer-pesticides under '\n",
      "                   'the Fertilizers Act - Canadian Food Inspection Agency',\n",
      "          'tokens_count': 305,\n",
      "          'url': 'https://inspection.canada.ca/plant-health/fertilizers/trade-memoranda/t-4-102/eng/1307854513877/1307854674148'},\n",
      " 'node_id': '1854fdc5-af24-41e4-81ef-a742a08c6684',\n",
      " 'score': 0.9085487454359314}\n",
      "{'meta': {'chunk_id': '8144cb04-e745-49a4-b68b-809a700dee90',\n",
      "          'id': '1ca75f55-e758-4830-9226-0577f9220482',\n",
      "          'last_updated': '2022-06-08',\n",
      "          'score': 0.5186214394910862,\n",
      "          'subtitle': 'IV. Labelling',\n",
      "          'title': 'T-4- 120 – Regulation of compost under the Fertilizers Act '\n",
      "                   'and Regulations - Canadian Food Inspection Agency',\n",
      "          'tokens_count': 66,\n",
      "          'url': 'https://inspection.canada.ca/plant-health/fertilizers/trade-memoranda/t-4-120/eng/1307910204607/1307910352783'},\n",
      " 'node_id': '8144cb04-e745-49a4-b68b-809a700dee90',\n",
      " 'score': 0.9001759946242166}\n",
      "{'meta': {'chunk_id': 'fbcefc20-e2d3-4ce6-bc4d-442790ed5b6e',\n",
      "          'id': '1ca75f55-e758-4830-9226-0577f9220482',\n",
      "          'last_updated': '2022-06-08',\n",
      "          'score': 0.5186214394910862,\n",
      "          'subtitle': '4. Labelling;5. Import and export',\n",
      "          'title': 'T-4- 120 – Regulation of compost under the Fertilizers Act '\n",
      "                   'and Regulations - Canadian Food Inspection Agency',\n",
      "          'tokens_count': 463,\n",
      "          'url': 'https://inspection.canada.ca/plant-health/fertilizers/trade-memoranda/t-4-120/eng/1307910204607/1307910352783'},\n",
      " 'node_id': 'fbcefc20-e2d3-4ce6-bc4d-442790ed5b6e',\n",
      " 'score': 0.8976572460957771}\n",
      "{'meta': {'chunk_id': 'cd8b99b1-ff30-4f9c-97fe-7411d85e9917',\n",
      "          'id': 'fa6f8f8b-7242-4632-b7a3-a2881dd90d44',\n",
      "          'last_updated': '2020-11-13',\n",
      "          'score': 0.4413583232153546,\n",
      "          'subtitle': '4. Labelling;5. Application to land and disposal',\n",
      "          'title': 'T-4- 112 – By-products and other Waste-derived materials '\n",
      "                   'sold as fertilizers or supplements - Canadian Food '\n",
      "                   'Inspection Agency',\n",
      "          'tokens_count': 301,\n",
      "          'url': 'https://inspection.canada.ca/plant-health/fertilizers/trade-memoranda/t-4-112/eng/1307864536371/1320192988468'},\n",
      " 'node_id': 'cd8b99b1-ff30-4f9c-97fe-7411d85e9917',\n",
      " 'score': 0.8968562133655295}\n",
      "{'meta': {'chunk_id': '53aa18d3-bb87-428f-92d8-c77239382110',\n",
      "          'id': '087656d4-6033-411d-85b3-aaff7193df6f',\n",
      "          'last_updated': '2021-05-04',\n",
      "          'score': 0.5603678073399798,\n",
      "          'subtitle': '4. Registration application and labelling requirements',\n",
      "          'title': 'T-4- 129 – Requirements for micronutrient fertilizers - '\n",
      "                   'Canadian Food Inspection Agency',\n",
      "          'tokens_count': 293,\n",
      "          'url': 'https://inspection.canada.ca/plant-health/fertilizers/trade-memoranda/t-4-129/eng/1584933233868/1584933234227'},\n",
      " 'node_id': '53aa18d3-bb87-428f-92d8-c77239382110',\n",
      " 'score': 0.8958321542790785}\n",
      "{'meta': {'chunk_id': '91b5eef0-89af-4eeb-8cf8-a82e77172fe7',\n",
      "          'id': 'c1193ed0-caa0-4d8b-950d-8e3a7c55c6bd',\n",
      "          'last_updated': '2021-12-09',\n",
      "          'score': 0.501755443654494,\n",
      "          'subtitle': 'On this page',\n",
      "          'title': 'T-4- 130 – Labeling requirements for fertilizers and '\n",
      "                   'supplements - Canadian Food Inspection Agency',\n",
      "          'tokens_count': 258,\n",
      "          'url': 'https://inspection.canada.ca/plant-health/fertilizers/trade-memoranda/t-4-130/eng/1604424185581/1604424268008'},\n",
      " 'node_id': '91b5eef0-89af-4eeb-8cf8-a82e77172fe7',\n",
      " 'score': 0.8948309923024215}\n",
      "{'meta': {'chunk_id': 'a7557d42-153b-4a82-94fd-06485e72a2fd',\n",
      "          'id': 'c1193ed0-caa0-4d8b-950d-8e3a7c55c6bd',\n",
      "          'last_updated': '2021-12-09',\n",
      "          'score': 0.501755443654494,\n",
      "          'subtitle': '1. Purpose;2. General regulatory labelling requirements',\n",
      "          'title': 'T-4- 130 – Labeling requirements for fertilizers and '\n",
      "                   'supplements - Canadian Food Inspection Agency',\n",
      "          'tokens_count': 385,\n",
      "          'url': 'https://inspection.canada.ca/plant-health/fertilizers/trade-memoranda/t-4-130/eng/1604424185581/1604424268008'},\n",
      " 'node_id': 'a7557d42-153b-4a82-94fd-06485e72a2fd',\n",
      " 'score': 0.8939795873238195}\n",
      "{'meta': {'chunk_id': '76cab52f-4319-4794-ae65-597e71f63014',\n",
      "          'id': '3580764b-afd9-44e1-a112-4fa4ce82b32f',\n",
      "          'last_updated': '2022-02-10',\n",
      "          'score': 0.494491397467521,\n",
      "          'subtitle': '4. Registration application and labelling requirements',\n",
      "          'title': 'T-4- 109 – Requirements for microbial supplements - '\n",
      "                   'Canadian Food Inspection Agency',\n",
      "          'tokens_count': 295,\n",
      "          'url': 'https://inspection.canada.ca/plant-health/fertilizers/trade-memoranda/t-4-109/eng/1307863769159/1307863893593'},\n",
      " 'node_id': '76cab52f-4319-4794-ae65-597e71f63014',\n",
      " 'score': 0.8939686340755415}\n",
      "{'meta': {'chunk_id': '614b1537-6442-45d0-9815-d0dacb85d82a',\n",
      "          'id': '95d1c453-6a57-43dc-868d-d9df3a518ed3',\n",
      "          'last_updated': '2022-02-10',\n",
      "          'score': 0.4981329550451097,\n",
      "          'subtitle': '3. Labelling requirements – Fertilizers Act',\n",
      "          'title': 'T-4- 105 – Requirements for seeds treated with fertilizers '\n",
      "                   'or supplements - Canadian Food Inspection Agency',\n",
      "          'tokens_count': 465,\n",
      "          'url': 'https://inspection.canada.ca/plant-health/fertilizers/trade-memoranda/t-4-105/eng/1307856047195/1307856175577'},\n",
      " 'node_id': '614b1537-6442-45d0-9815-d0dacb85d82a',\n",
      " 'score': 0.8896327746352795}\n",
      "{'meta': {'chunk_id': '7cd497c1-dcf7-4ad7-bdb8-d0d60c997bba',\n",
      "          'id': '8780a201-a628-44a3-babb-c8830b68de72',\n",
      "          'last_updated': '2020-11-13',\n",
      "          'score': 0.534927215363663,\n",
      "          'subtitle': '4. Labelling;5. Compendium of fertilizer-use pesticides',\n",
      "          'title': 'T-4- 102 - Requirements for fertilizer-pesticides under '\n",
      "                   'the Fertilizers Act - Canadian Food Inspection Agency',\n",
      "          'tokens_count': 437,\n",
      "          'url': 'https://inspection.canada.ca/plant-health/fertilizers/trade-memoranda/t-4-102/eng/1307854513877/1307854674148'},\n",
      " 'node_id': '7cd497c1-dcf7-4ad7-bdb8-d0d60c997bba',\n",
      " 'score': 0.8895923162478899}\n"
     ]
    }
   ],
   "source": [
    "for n in nodes:\n",
    "    pprint({\"meta\": n.metadata, \"score\": n.score, \"node_id\": n.node_id})"
   ]
  },
  {
   "cell_type": "markdown",
   "metadata": {},
   "source": [
    "- ✅ `node_ids` are no longer duplicated\n",
    "- ✅ `scores` are no longer equal\n",
    "- ❌ there are still nodes referencing the same url, but a lot less\n"
   ]
  },
  {
   "cell_type": "markdown",
   "metadata": {},
   "source": [
    "## Solution to return only the highest score node per document (url)\n",
    "\n",
    "A simple temporary approach is to input a high enough `similarity_top_k` and apply a filter on the nodes to keep only the highest score node per url.\n",
    "\n",
    "The filter function would look like:\n"
   ]
  },
  {
   "cell_type": "code",
   "execution_count": 66,
   "metadata": {},
   "outputs": [],
   "source": [
    "def select_highest_scored_nodes_by_url(nodes: list[NodeWithScore]):\n",
    "    best_nodes: dict[str, NodeWithScore] = {}\n",
    "    for node in nodes:\n",
    "        url: str = node.node.metadata[\"url\"]\n",
    "        if url not in best_nodes or best_nodes[url].score < node.score:\n",
    "            best_nodes[url] = node\n",
    "    return list(best_nodes.values())"
   ]
  },
  {
   "cell_type": "code",
   "execution_count": 67,
   "metadata": {},
   "outputs": [],
   "source": [
    "filtered_nodes = select_highest_scored_nodes_by_url(nodes)"
   ]
  },
  {
   "cell_type": "code",
   "execution_count": 68,
   "metadata": {},
   "outputs": [
    {
     "name": "stdout",
     "output_type": "stream",
     "text": [
      "{'meta': {'chunk_id': '1854fdc5-af24-41e4-81ef-a742a08c6684',\n",
      "          'id': '8780a201-a628-44a3-babb-c8830b68de72',\n",
      "          'last_updated': '2020-11-13',\n",
      "          'score': 0.534927215363663,\n",
      "          'subtitle': 'Registered Fertilizer-Pesticides Labelling',\n",
      "          'title': 'T-4- 102 - Requirements for fertilizer-pesticides under '\n",
      "                   'the Fertilizers Act - Canadian Food Inspection Agency',\n",
      "          'tokens_count': 305,\n",
      "          'url': 'https://inspection.canada.ca/plant-health/fertilizers/trade-memoranda/t-4-102/eng/1307854513877/1307854674148'},\n",
      " 'node_id': '1854fdc5-af24-41e4-81ef-a742a08c6684',\n",
      " 'score': 0.9085487454359314}\n",
      "{'meta': {'chunk_id': '8144cb04-e745-49a4-b68b-809a700dee90',\n",
      "          'id': '1ca75f55-e758-4830-9226-0577f9220482',\n",
      "          'last_updated': '2022-06-08',\n",
      "          'score': 0.5186214394910862,\n",
      "          'subtitle': 'IV. Labelling',\n",
      "          'title': 'T-4- 120 – Regulation of compost under the Fertilizers Act '\n",
      "                   'and Regulations - Canadian Food Inspection Agency',\n",
      "          'tokens_count': 66,\n",
      "          'url': 'https://inspection.canada.ca/plant-health/fertilizers/trade-memoranda/t-4-120/eng/1307910204607/1307910352783'},\n",
      " 'node_id': '8144cb04-e745-49a4-b68b-809a700dee90',\n",
      " 'score': 0.9001759946242166}\n",
      "{'meta': {'chunk_id': 'cd8b99b1-ff30-4f9c-97fe-7411d85e9917',\n",
      "          'id': 'fa6f8f8b-7242-4632-b7a3-a2881dd90d44',\n",
      "          'last_updated': '2020-11-13',\n",
      "          'score': 0.4413583232153546,\n",
      "          'subtitle': '4. Labelling;5. Application to land and disposal',\n",
      "          'title': 'T-4- 112 – By-products and other Waste-derived materials '\n",
      "                   'sold as fertilizers or supplements - Canadian Food '\n",
      "                   'Inspection Agency',\n",
      "          'tokens_count': 301,\n",
      "          'url': 'https://inspection.canada.ca/plant-health/fertilizers/trade-memoranda/t-4-112/eng/1307864536371/1320192988468'},\n",
      " 'node_id': 'cd8b99b1-ff30-4f9c-97fe-7411d85e9917',\n",
      " 'score': 0.8968562133655295}\n",
      "{'meta': {'chunk_id': '53aa18d3-bb87-428f-92d8-c77239382110',\n",
      "          'id': '087656d4-6033-411d-85b3-aaff7193df6f',\n",
      "          'last_updated': '2021-05-04',\n",
      "          'score': 0.5603678073399798,\n",
      "          'subtitle': '4. Registration application and labelling requirements',\n",
      "          'title': 'T-4- 129 – Requirements for micronutrient fertilizers - '\n",
      "                   'Canadian Food Inspection Agency',\n",
      "          'tokens_count': 293,\n",
      "          'url': 'https://inspection.canada.ca/plant-health/fertilizers/trade-memoranda/t-4-129/eng/1584933233868/1584933234227'},\n",
      " 'node_id': '53aa18d3-bb87-428f-92d8-c77239382110',\n",
      " 'score': 0.8958321542790785}\n",
      "{'meta': {'chunk_id': '91b5eef0-89af-4eeb-8cf8-a82e77172fe7',\n",
      "          'id': 'c1193ed0-caa0-4d8b-950d-8e3a7c55c6bd',\n",
      "          'last_updated': '2021-12-09',\n",
      "          'score': 0.501755443654494,\n",
      "          'subtitle': 'On this page',\n",
      "          'title': 'T-4- 130 – Labeling requirements for fertilizers and '\n",
      "                   'supplements - Canadian Food Inspection Agency',\n",
      "          'tokens_count': 258,\n",
      "          'url': 'https://inspection.canada.ca/plant-health/fertilizers/trade-memoranda/t-4-130/eng/1604424185581/1604424268008'},\n",
      " 'node_id': '91b5eef0-89af-4eeb-8cf8-a82e77172fe7',\n",
      " 'score': 0.8948309923024215}\n",
      "{'meta': {'chunk_id': '76cab52f-4319-4794-ae65-597e71f63014',\n",
      "          'id': '3580764b-afd9-44e1-a112-4fa4ce82b32f',\n",
      "          'last_updated': '2022-02-10',\n",
      "          'score': 0.494491397467521,\n",
      "          'subtitle': '4. Registration application and labelling requirements',\n",
      "          'title': 'T-4- 109 – Requirements for microbial supplements - '\n",
      "                   'Canadian Food Inspection Agency',\n",
      "          'tokens_count': 295,\n",
      "          'url': 'https://inspection.canada.ca/plant-health/fertilizers/trade-memoranda/t-4-109/eng/1307863769159/1307863893593'},\n",
      " 'node_id': '76cab52f-4319-4794-ae65-597e71f63014',\n",
      " 'score': 0.8939686340755415}\n",
      "{'meta': {'chunk_id': '614b1537-6442-45d0-9815-d0dacb85d82a',\n",
      "          'id': '95d1c453-6a57-43dc-868d-d9df3a518ed3',\n",
      "          'last_updated': '2022-02-10',\n",
      "          'score': 0.4981329550451097,\n",
      "          'subtitle': '3. Labelling requirements – Fertilizers Act',\n",
      "          'title': 'T-4- 105 – Requirements for seeds treated with fertilizers '\n",
      "                   'or supplements - Canadian Food Inspection Agency',\n",
      "          'tokens_count': 465,\n",
      "          'url': 'https://inspection.canada.ca/plant-health/fertilizers/trade-memoranda/t-4-105/eng/1307856047195/1307856175577'},\n",
      " 'node_id': '614b1537-6442-45d0-9815-d0dacb85d82a',\n",
      " 'score': 0.8896327746352795}\n",
      "len(nodes): 10 len(filtered_nodes): 7\n"
     ]
    }
   ],
   "source": [
    "for n in filtered_nodes:\n",
    "    pprint({\"meta\": n.metadata, \"score\": n.score, \"node_id\": n.node_id})\n",
    "\n",
    "print(\"len(nodes):\", len(nodes), \"len(filtered_nodes):\", len(filtered_nodes))"
   ]
  },
  {
   "cell_type": "markdown",
   "metadata": {},
   "source": [
    "- ✅ no duplicated urls\n",
    "\n",
    "Almost half the nodes have been filtered out. Let's temporarily choose `similarity_top_k` to be double the number of results the user asks, until we find a more robust solution.\n"
   ]
  },
  {
   "cell_type": "markdown",
   "metadata": {},
   "source": [
    "## Potential improvements\n",
    "\n",
    "- Implement pagination (with `top` and `skip` params)\n",
    "- Implement a caching strategy to support pagination\n",
    "\n",
    "![pagination & caching](../docs/img/pagination_caching_sequence.png)\n"
   ]
  }
 ],
 "metadata": {
  "kernelspec": {
   "display_name": "llamaindex-db",
   "language": "python",
   "name": "python3"
  },
  "language_info": {
   "codemirror_mode": {
    "name": "ipython",
    "version": 3
   },
   "file_extension": ".py",
   "mimetype": "text/x-python",
   "name": "python",
   "nbconvert_exporter": "python",
   "pygments_lexer": "ipython3",
   "version": "3.11.8"
  }
 },
 "nbformat": 4,
 "nbformat_minor": 2
}
