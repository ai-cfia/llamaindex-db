{
  "cells": [
    {
      "cell_type": "markdown",
      "id": "bccd47fc",
      "metadata": {
        "id": "bccd47fc"
      },
      "source": [
        "<a href=\"https://colab.research.google.com/github/run-llama/llama_index/blob/main/docs/examples/vector_stores/postgres.ipynb\" target=\"_parent\"><img src=\"https://colab.research.google.com/assets/colab-badge.svg\" alt=\"Open In Colab\"/></a>\n"
      ]
    },
    {
      "cell_type": "markdown",
      "id": "e243db04",
      "metadata": {},
      "source": [
        "# Issue [#17](https://github.com/ai-cfia/llamaindex-db/issues/17)\n"
      ]
    },
    {
      "cell_type": "code",
      "execution_count": 1,
      "id": "d2fc9c18",
      "metadata": {
        "id": "d2fc9c18",
        "metadata": {}
      },
      "outputs": [],
      "source": [
        "# %pip install -r ../../requirements.txt"
      ]
    },
    {
      "cell_type": "code",
      "execution_count": 2,
      "id": "c2d1c538",
      "metadata": {
        "id": "c2d1c538",
        "metadata": {}
      },
      "outputs": [
        {
          "data": {
            "text/plain": [
              "True"
            ]
          },
          "execution_count": 2,
          "metadata": {},
          "output_type": "execute_result"
        }
      ],
      "source": [
        "import logging\n",
        "import sys\n",
        "from llama_index.core import StorageContext\n",
        "from llama_index.core import VectorStoreIndex\n",
        "from llama_index.vector_stores.postgres import PGVectorStore\n",
        "from llama_index.embeddings.azure_openai import AzureOpenAIEmbedding\n",
        "from llama_index.llms.azure_openai import AzureOpenAI\n",
        "from llama_index.core import Settings\n",
        "import os\n",
        "from dotenv import load_dotenv\n",
        "from llama_index.storage.index_store.postgres import PostgresIndexStore\n",
        "from llama_index.storage.docstore.postgres import PostgresDocumentStore\n",
        "from llama_index.core.node_parser import SentenceSplitter\n",
        "from pprint import pprint\n",
        "import psycopg\n",
        "import pickle\n",
        "from llama_index.readers.web import SimpleWebPageReader\n",
        "from llama_index.core.extractors import QuestionsAnsweredExtractor\n",
        "from psycopg.sql import SQL, Identifier\n",
        "import nest_asyncio\n",
        "\n",
        "nest_asyncio.apply()\n",
        "load_dotenv()\n",
        "\n",
        "# # Uncomment to see debug logs\n",
        "# logging.basicConfig(stream=sys.stdout, level=logging.DEBUG)\n",
        "# logging.getLogger().addHandler(logging.StreamHandler(stream=sys.stdout))"
      ]
    },
    {
      "cell_type": "code",
      "execution_count": 4,
      "id": "7ef96d95",
      "metadata": {
        "metadata": {}
      },
      "outputs": [],
      "source": [
        "def save_to_pickle(data, filename):\n",
        "    with open(filename, \"wb\") as file:\n",
        "        pickle.dump(data, file)\n",
        "\n",
        "\n",
        "def load_from_pickle(filename):\n",
        "    with open(filename, \"rb\") as file:\n",
        "        return pickle.load(file)"
      ]
    },
    {
      "cell_type": "markdown",
      "id": "26c71b6d",
      "metadata": {
        "id": "26c71b6d"
      },
      "source": [
        "## Setup LLM and Embed Model\n"
      ]
    },
    {
      "cell_type": "code",
      "execution_count": 5,
      "id": "67b86621",
      "metadata": {
        "id": "67b86621",
        "metadata": {}
      },
      "outputs": [],
      "source": [
        "llm = AzureOpenAI(\n",
        "    model=\"gpt-4\",\n",
        "    deployment_name=\"ailab-llm\",\n",
        "    api_key=os.getenv(\"API_KEY\"),\n",
        "    azure_endpoint=os.getenv(\"AZURE_ENDPOINT\"),\n",
        "    api_version=os.getenv(\"API_VERSION\"),\n",
        ")\n",
        "\n",
        "embed_model = AzureOpenAIEmbedding(\n",
        "    model=\"text-embedding-ada-002\",\n",
        "    deployment_name=\"ada\",\n",
        "    api_key=os.getenv(\"API_KEY\"),\n",
        "    azure_endpoint=os.getenv(\"AZURE_ENDPOINT\"),\n",
        "    api_version=os.getenv(\"API_VERSION\"),\n",
        "    max_retries=1000,\n",
        ")\n",
        "\n",
        "Settings.llm = llm\n",
        "Settings.embed_model = embed_model"
      ]
    },
    {
      "cell_type": "markdown",
      "id": "df4206bc",
      "metadata": {},
      "source": [
        "## Variables\n"
      ]
    },
    {
      "cell_type": "code",
      "execution_count": 7,
      "id": "c50c26f2",
      "metadata": {
        "metadata": {}
      },
      "outputs": [],
      "source": [
        "database = os.getenv(\"DB_NAME\")\n",
        "host = os.getenv(\"DB_HOST\")\n",
        "password = os.getenv(\"DB_PASSWORD\")\n",
        "port = os.getenv(\"DB_PORT\")\n",
        "user = os.getenv(\"DB_USER\")\n",
        "llamaindex_db = \"llamaindex_db_legacy\"\n",
        "llamaindex_schema = \"v_0_0_2\"\n",
        "\n",
        "def verify(context_nodes, answer_urls):\n",
        "    found = False\n",
        "    for i, n in enumerate(context_nodes):\n",
        "        if n.metadata[\"url\"] in answer_urls:\n",
        "            found = True\n",
        "            print(f\"Position: {i+1}\", n.metadata[\"title\"])\n",
        "\n",
        "    if not found:\n",
        "        print(\"Not found\")"
      ]
    },
    {
      "cell_type": "markdown",
      "id": "727e278f",
      "metadata": {},
      "source": [
        "## Observed problem\n"
      ]
    },
    {
      "cell_type": "code",
      "execution_count": 60,
      "id": "5a04f603",
      "metadata": {},
      "outputs": [],
      "source": [
        "vector_store_1 = PGVectorStore.from_params(\n",
        "    database=llamaindex_db,\n",
        "    host=host,\n",
        "    password=password,\n",
        "    port=port,\n",
        "    user=user,\n",
        "    embed_dim=1536,\n",
        "    schema_name=\"v_0_0_1\",\n",
        ")\n",
        "\n",
        "retriever_1 = VectorStoreIndex.from_vector_store(\n",
        "    vector_store=vector_store_1\n",
        ").as_retriever(similarity_top_k=100)"
      ]
    },
    {
      "cell_type": "code",
      "execution_count": 61,
      "id": "f3e708bc",
      "metadata": {},
      "outputs": [],
      "source": [
        "question = \"Procédure opérationnelle : Inspection des contrôles préventifs des aliments - Vérification de la mise en oeuvre\"\n",
        "answer_urls_1 = [\n",
        "    \"https://inspection.canada.ca/fra/1679330680137/1679330831583\",\n",
        "]\n",
        "context_nodes_1 = retriever_1.retrieve(question)"
      ]
    },
    {
      "cell_type": "code",
      "execution_count": 62,
      "id": "4b75cfb4",
      "metadata": {},
      "outputs": [
        {
          "name": "stdout",
          "output_type": "stream",
          "text": [
            "Not found\n"
          ]
        }
      ],
      "source": [
        "verify(context_nodes_1, answer_urls_1)"
      ]
    },
    {
      "cell_type": "markdown",
      "id": "642fc3f0",
      "metadata": {},
      "source": [
        "We can see that the page is not found despite searching for it's exact title.\n"
      ]
    },
    {
      "cell_type": "markdown",
      "id": "fb0eabdb",
      "metadata": {},
      "source": [
        "## Root cause\n",
        "\n",
        "After investigating the data in `louis_v005`, I noticed that for a given url, the page title is not included in the content of any of the generated chunks. And assuming that the embeddings were generated only on the contents, the observed problem is expected.\n"
      ]
    },
    {
      "cell_type": "markdown",
      "id": "748581ba",
      "metadata": {},
      "source": [
        "## Solution: add metadata in embeddings\n",
        "\n",
        "Obviously we'll need to regenerate the embeddings, which can be done by providing llamaindex nodes (chunks) without embeddings. The node metadata are then automatically included in the embedding generation. We can specify which metadata to exclude from the embeddings. We want to include at least the document `title` so that searching those yields accurate results. Other metadata that would be interesting to include are `keywords` as configured in the webpage's `head` section.\n",
        "\n",
        "Exemple of a `head` section:\n",
        "\n",
        "```html\n",
        "<head>\n",
        "  <meta charset=\"utf-8\" />\n",
        "  <title>\n",
        "    Certifications biologiques révoquées - Agence canadienne d'inspection des\n",
        "    aliments\n",
        "  </title>\n",
        "  <meta content=\"width=device-width,initial-scale=1\" name=\"viewport\" />\n",
        "  <meta name=\"dcterms.title\" content=\"Certifications biologiques révoquées\" />\n",
        "  <meta\n",
        "    name=\"description\"\n",
        "    content=\"Les organismes de certification accrédités par ...\"\n",
        "  />\n",
        "  <meta\n",
        "    name=\"dcterms.description\"\n",
        "    content=\"Les organismes de certification ...\"\n",
        "  />\n",
        "  <meta\n",
        "    name=\"keywords\"\n",
        "    content=\"Loi sur les produits agricoles au Canada, R&#232;glement sur les produits biologiques, 2009, Organisme de certification accr&#233;dit&#233;, annulation, suspension, 2023\"\n",
        "  />\n",
        "  <meta\n",
        "    name=\"dcterms.subject\"\n",
        "    content=\"inspection,législation,réglementation\"\n",
        "    title=\"gccore\"\n",
        "  />\n",
        "  <meta\n",
        "    name=\"dcterms.creator\"\n",
        "    content=\"Gouvernement du Canada,Agence canadienne d'inspection des aliments\"\n",
        "  />\n",
        "  <meta name=\"dcterms.language\" content=\"fra\" title=\"ISO639-2\" />\n",
        "  <meta name=\"dcterms.issued\" content=\"2023-05-12\" title=\"W3CDTF\" />\n",
        "  <meta name=\"dcterms.modified\" content=\"2024-04-29\" title=\"W3CDTF\" />\n",
        "  <meta\n",
        "    name=\"dcterms.type\"\n",
        "    content=\"législation et règlements,matériel de référence,statistiques\"\n",
        "    title=\"gctype\"\n",
        "  />\n",
        "  <meta\n",
        "    name=\"dcterms.audience\"\n",
        "    content=\"entreprises,grand public,gouvernement\"\n",
        "    title=\"gcaudience\"\n",
        "  />\n",
        "  <meta property=\"dcterms:service\" content=\"CFIA-ACIA\" />\n",
        "  <meta property=\"dcterms:accessRights\" content=\"2\" />\n",
        "  ...\n",
        "</head>\n",
        "```\n",
        "\n",
        "These are important information. We should probably not include them all in the embeddings because they require additional tokens, but they should be added to the nodes metadata.\n",
        "\n",
        "I haven't researched the optimal chunk size topic (in terms of tokens) deeply, but the general recommendation seems to be between `256` and `1024`. Too low, chunks may not provide enough contextual information. Too high, the information can be diluted. Both can result in loss of accuracy.\n"
      ]
    },
    {
      "cell_type": "markdown",
      "id": "45551f5d",
      "metadata": {},
      "source": [
        "## Implementation\n",
        "\n",
        "### Get the list of all `url_ids`\n",
        "\n",
        "`url_ids` are unique webpage identifiers. Ex: `/eng/1569265402509/1569265408887`. Combine with `https://inspection.canada.ca` to access a page. They are introduced in [fix #21](https://github.com/ai-cfia/llamaindex-db/pull/21) to prevent having alternate urls to access a single page. It's an effective way of removing duplicates.\n"
      ]
    },
    {
      "cell_type": "code",
      "execution_count": 6,
      "id": "fb97d6a1",
      "metadata": {
        "metadata": {}
      },
      "outputs": [],
      "source": [
        "conn_string = (\n",
        "    f\"dbname={database} \"\n",
        "    f\"user={user} \"\n",
        "    f\"password={password} \"\n",
        "    f\"host={host} \"\n",
        "    f\"port={port}\"\n",
        ")\n",
        "query = \"\"\"\n",
        "    SELECT DISTINCT url_id\n",
        "    FROM louis_v005.unique_documents\n",
        "    WHERE url_id IS NOT NULL;\n",
        "    \"\"\"\n",
        "with psycopg.connect(conn_string) as conn:\n",
        "    with conn.cursor() as cur:\n",
        "        results = cur.execute(query).fetchall()\n",
        "        url_ids = [r[0] for r in results]\n",
        "\n",
        "pprint(url_ids[0:5])\n",
        "save_to_pickle(url_ids, \"url_ids.pkl\")"
      ]
    },
    {
      "cell_type": "markdown",
      "id": "6618cbf5",
      "metadata": {},
      "source": [
        "### Create documents from `url_ids`\n",
        "\n",
        "Documents are just bigger nodes.\n",
        "\n",
        "#### Utility classes and functions\n"
      ]
    },
    {
      "cell_type": "code",
      "execution_count": 25,
      "metadata": {},
      "outputs": [],
      "source": [
        "import re\n",
        "from datetime import datetime, timezone\n",
        "from typing import Callable\n",
        "from urllib.parse import urljoin\n",
        "import asyncio\n",
        "import aiohttp\n",
        "\n",
        "import html2text\n",
        "from bs4 import BeautifulSoup\n",
        "from llama_index.core.schema import Document\n",
        "\n",
        "\n",
        "DEFAULT_BASE_URL = \"https://inspection.canada.ca\"\n",
        "DEFAULT_N_WORKERS = 100\n",
        "DEFAULT_EXCLUDED_KEYS = [  # <------ excluded metadata. \"title\" and \"keywords\" are not.\n",
        "    \"url_id\",\n",
        "    \"last_crawled\",\n",
        "    \"url\",\n",
        "    \"description\",\n",
        "    \"viewport\",\n",
        "    \"language\",\n",
        "    \"type\",\n",
        "    \"subject\",\n",
        "    \"creator\",\n",
        "    \"issued\",\n",
        "    \"modified\",\n",
        "    \"audience\",\n",
        "]\n",
        "DEFAULT_URL_ID_REGEX = r\"/[a-z]{3}/[0-9]+/[0-9]+$\"\n",
        "\n",
        "\n",
        "class AsyncWorkerQueue:\n",
        "    \"\"\"A class representing an asynchronous worker queue.\"\"\"\n",
        "\n",
        "    def __init__(self, num_workers, maxsize=0):\n",
        "        self.num_workers = num_workers\n",
        "        self.queue = asyncio.Queue(maxsize=maxsize)\n",
        "        self.futures = []\n",
        "        self.workers = []\n",
        "\n",
        "    async def worker(self, name):\n",
        "        \"\"\"A coroutine that processes tasks from the queue.\"\"\"\n",
        "        while True:\n",
        "            future, task, args, kwargs = await self.queue.get()\n",
        "            if task is None:\n",
        "                break\n",
        "            try:\n",
        "                result = await task(*args, **kwargs)\n",
        "                future.set_result(result)\n",
        "            except Exception as e:\n",
        "                print(f\"Worker {name} encountered an error: {e}\")\n",
        "                # error_trace = traceback.format_exc()\n",
        "                # print(f\"Worker {name} encountered an error: {e}\\n{error_trace}\")\n",
        "                future.set_exception(e)\n",
        "            finally:\n",
        "                self.queue.task_done()\n",
        "\n",
        "    async def run(self, tasks_with_params):\n",
        "        \"\"\"\n",
        "        A coroutine that runs the worker tasks and processes the given tasks\n",
        "        with parameters.\n",
        "        \"\"\"\n",
        "        self.workers = [\n",
        "            asyncio.create_task(self.worker(f\"Worker-{i}\"))\n",
        "            for i in range(self.num_workers)\n",
        "        ]\n",
        "\n",
        "        for task, args, kwargs in tasks_with_params:\n",
        "            future = asyncio.Future()\n",
        "            self.futures.append(future)\n",
        "            await self.queue.put((future, task, args, kwargs))\n",
        "\n",
        "        await self.queue.join()\n",
        "\n",
        "        for _ in self.workers:\n",
        "            await self.queue.put((None, None, None, None))\n",
        "        await asyncio.gather(*self.workers, return_exceptions=True)\n",
        "\n",
        "        results = []\n",
        "        for future in self.futures:\n",
        "            try:\n",
        "                result = await future\n",
        "                results.append(result)\n",
        "            finally:\n",
        "                continue\n",
        "\n",
        "        return results\n",
        "\n",
        "\n",
        "class WebPageReader:\n",
        "    @classmethod\n",
        "    async def get_html_from_url(cls, url):\n",
        "        \"\"\"Retrieve HTML content from a given URL asynchronously\"\"\"\n",
        "        async with aiohttp.ClientSession() as session:\n",
        "            async with session.get(url) as response:\n",
        "                response.raise_for_status()\n",
        "                content_type = response.headers.get(\"content-type\")\n",
        "                if \"text/html\" not in content_type:\n",
        "                    raise ValueError(\"The returned content is not HTML\")\n",
        "                return await response.text()\n",
        "\n",
        "\n",
        "class MetadataExtractor:  # <--------- This extracts the metadata from the head section\n",
        "    @classmethod\n",
        "    async def extract_from_soup(cls, soup: BeautifulSoup):\n",
        "        \"\"\"Extract metadata from the soup\"\"\"\n",
        "        metadata: dict[str, str] = {}\n",
        "        if header := soup.find(\"head\"):\n",
        "            metas = header.find_all(\"meta\")\n",
        "            for meta in metas:\n",
        "                name = meta.get(\"name\", \"\").replace(\"dcterms.\", \"\")\n",
        "                content = meta.get(\"content\")\n",
        "                if name and content:\n",
        "                    metadata[name] = content\n",
        "        return metadata\n",
        "\n",
        "\n",
        "class AiLabWebPageReader:\n",
        "    \"\"\"AiLab web page reader.\"\"\"\n",
        "\n",
        "    html_to_text: bool\n",
        "    base_url: str\n",
        "    _metadata_fn: Callable[[str], dict] | None\n",
        "    url_id_regex: str\n",
        "\n",
        "    def __init__(\n",
        "        self,\n",
        "        html_to_text: bool = False,\n",
        "        base_url: str = DEFAULT_BASE_URL,\n",
        "        url_id_regex: str = DEFAULT_URL_ID_REGEX,\n",
        "        metadata_fn: Callable[[BeautifulSoup], dict] | None = None,\n",
        "    ) -> None:\n",
        "        \"\"\"Initialize with parameters.\"\"\"\n",
        "        self.html_to_text = html_to_text\n",
        "        self.base_url = base_url\n",
        "        self.url_id_regex = url_id_regex\n",
        "        self._metadata_fn = metadata_fn\n",
        "\n",
        "    async def load_document(\n",
        "        self, url_id: str, excluded_keys: list[str] = DEFAULT_EXCLUDED_KEYS\n",
        "    ):\n",
        "        \"\"\"Load data from the input directory.\"\"\"\n",
        "        assert re.match(self.url_id_regex, url_id), \"Invalid URL ID\"\n",
        "        url = urljoin(self.base_url, url_id)\n",
        "        response = await WebPageReader.get_html_from_url(url)\n",
        "        response = BeautifulSoup(response, \"html.parser\")\n",
        "\n",
        "        metadata: dict[str, str] | None = None  # <----------- metadata extraction here\n",
        "        if self._metadata_fn is not None:\n",
        "            metadata = await self._metadata_fn(response)\n",
        "            metadata[\"url\"] = url\n",
        "            metadata[\"url_id\"] = url_id\n",
        "            metadata[\"last_crawled\"] = datetime.now(timezone.utc).isoformat()\n",
        "\n",
        "        # prune irrelevant sections like header, footer, etc.\n",
        "        response = (response.find(\"main\") or response).prettify()\n",
        "\n",
        "        if self.html_to_text:\n",
        "            response = html2text.html2text(response)\n",
        "\n",
        "        return Document(\n",
        "            text=response,\n",
        "            id_=url,\n",
        "            metadata=metadata or {},  # <---------- metadata are added to the nodes here\n",
        "            excluded_embed_metadata_keys=excluded_keys,\n",
        "            excluded_llm_metadata_keys=excluded_keys,\n",
        "        )\n",
        "\n",
        "    async def load_documents(\n",
        "        self,\n",
        "        url_ids: list[str],\n",
        "        n_workers: int = DEFAULT_N_WORKERS,\n",
        "        excluded_keys: list[str] = DEFAULT_EXCLUDED_KEYS,\n",
        "    ) -> list[Document]:\n",
        "        \"\"\"Load data from the input directory.\"\"\"\n",
        "        assert isinstance(url_ids, list), \"urls must be a list of strings.\"\n",
        "        tasks = [(self.load_document, (u, excluded_keys), {}) for u in url_ids]\n",
        "        async_queue = AsyncWorkerQueue(num_workers=n_workers)\n",
        "        documents = await async_queue.run(tasks)\n",
        "        return documents"
      ]
    },
    {
      "cell_type": "markdown",
      "id": "461a198d",
      "metadata": {},
      "source": [
        "#### Creating the documents\n"
      ]
    },
    {
      "cell_type": "code",
      "execution_count": null,
      "id": "2b126c54",
      "metadata": {
        "metadata": {}
      },
      "outputs": [],
      "source": [
        "url_ids = load_from_pickle(\"url_ids.pkl\")\n",
        "pprint(url_ids[2:4])\n",
        "documents = await AiLabWebPageReader(\n",
        "    html_to_text=True, metadata_fn=MetadataExtractor.extract_from_soup\n",
        ").load_documents(url_ids)\n",
        "save_to_pickle(documents, \"documents.pkl\")"
      ]
    },
    {
      "cell_type": "code",
      "execution_count": 28,
      "id": "6ffe4828",
      "metadata": {},
      "outputs": [
        {
          "name": "stdout",
          "output_type": "stream",
          "text": [
            "11056\n"
          ]
        }
      ],
      "source": [
        "documents = load_from_pickle(\"documents.pkl\")\n",
        "print(len(documents))"
      ]
    },
    {
      "cell_type": "markdown",
      "id": "59bb559f",
      "metadata": {},
      "source": [
        "### Create nodes from documents\n",
        "\n",
        "By trial, I found that a chunk size of `512` tokens raises an error where, for some nodes, the metadata size is already larger than `512` tokens, leaving no room for the actual node text. I resorted to using `768` which is still reasonable.\n",
        "\n",
        "The `overlap` parameter used below helps ensure that contextual information isn't lost by cutting the text abruptly from one chunk to another.\n"
      ]
    },
    {
      "cell_type": "code",
      "execution_count": 20,
      "id": "eba7c2dc",
      "metadata": {},
      "outputs": [
        {
          "name": "stderr",
          "output_type": "stream",
          "text": [
            "Parsing nodes: 100%|██████████| 11056/11056 [00:48<00:00, 229.83it/s]\n"
          ]
        }
      ],
      "source": [
        "parser = SentenceSplitter(chunk_size=768, chunk_overlap=50)  # <--------- chunk size 768\n",
        "nodes = parser.get_nodes_from_documents(documents, show_progress=True)\n",
        "save_to_pickle(nodes, \"nodes.pkl\")"
      ]
    },
    {
      "cell_type": "code",
      "execution_count": 31,
      "id": "588efbf7",
      "metadata": {
        "metadata": {}
      },
      "outputs": [
        {
          "name": "stdout",
          "output_type": "stream",
          "text": [
            "80818\n",
            "('title: Alpha Meat Packers Ltd. brand Beef Burgers and Lean Ground Beef '\n",
            " 'recalled due to E. coli O157:H7\\n'\n",
            " 'keywords: food recall, food recalls, health hazard alert, public warning, '\n",
            " 'food safety, food borne illness, food poisoning, foodborne pathogens, E. '\n",
            " 'coli, Alpha Meat Packers Ltd., Beef Burgers, Lean Ground Beef,')\n"
          ]
        }
      ],
      "source": [
        "nodes = load_from_pickle(\"nodes.pkl\")\n",
        "print(len(nodes))\n",
        "pprint(parser._get_metadata_str(nodes[0]))"
      ]
    },
    {
      "cell_type": "markdown",
      "id": "71c49e0e",
      "metadata": {},
      "source": [
        "- ✅ `title` and `keywords` metadata will be included in embeddings\n"
      ]
    },
    {
      "cell_type": "markdown",
      "id": "c0232fd1",
      "metadata": {
        "id": "c0232fd1"
      },
      "source": [
        "### Create the tables\n"
      ]
    },
    {
      "cell_type": "code",
      "execution_count": null,
      "id": "8731da62",
      "metadata": {
        "colab": {
          "referenced_widgets": [
            "55d642be4afd424dbeddcc98a6313baa",
            "4bedc19d901346dbafbeff1d25638562"
          ]
        },
        "id": "8731da62",
        "metadata": {},
        "outputId": "bc5f1134-e829-4357-9caa-f3012cc011be"
      },
      "outputs": [],
      "source": [
        "# nodes = load_from_pickle(\"nodes.pkl\")\n",
        "vector_store = PGVectorStore.from_params(\n",
        "    database=llamaindex_db,\n",
        "    host=host,\n",
        "    password=password,\n",
        "    port=port,\n",
        "    user=user,\n",
        "    embed_dim=1536,\n",
        "    schema_name=llamaindex_schema,\n",
        ")\n",
        "\n",
        "document_store = PostgresDocumentStore.from_params(\n",
        "    database=llamaindex_db,\n",
        "    host=host,\n",
        "    password=password,\n",
        "    port=port,\n",
        "    user=user,\n",
        "    schema_name=llamaindex_schema,\n",
        ")\n",
        "\n",
        "index_store = PostgresIndexStore.from_params(\n",
        "    database=llamaindex_db,\n",
        "    host=host,\n",
        "    password=password,\n",
        "    port=port,\n",
        "    user=user,\n",
        "    schema_name=llamaindex_schema,\n",
        ")\n",
        "\n",
        "storage_context = StorageContext.from_defaults(\n",
        "    docstore=document_store,\n",
        "    index_store=index_store,\n",
        "    vector_store=vector_store,\n",
        ")\n",
        "\n",
        "storage_context.docstore.add_documents(nodes, batch_size=512)\n",
        "\n",
        "index = VectorStoreIndex(\n",
        "    nodes, storage_context=storage_context, show_progress=True, insert_batch_size=512\n",
        ")"
      ]
    },
    {
      "cell_type": "markdown",
      "id": "15962400",
      "metadata": {},
      "source": [
        "### Create the index\n"
      ]
    },
    {
      "cell_type": "code",
      "execution_count": 7,
      "id": "e7ad283b",
      "metadata": {
        "metadata": {}
      },
      "outputs": [],
      "source": [
        "connection_string = (\n",
        "    f\"dbname={llamaindex_db} \"\n",
        "    f\"user={user} \"\n",
        "    f\"password={password} \"\n",
        "    f\"host={host} \"\n",
        "    f\"port={port}\"\n",
        ")\n",
        "\n",
        "schema = Identifier(llamaindex_schema)\n",
        "query = SQL(\n",
        "    \"CREATE INDEX ON {}.data_llamaindex USING hnsw (embedding vector_cosine_ops)\"\n",
        ").format(schema)\n",
        "\n",
        "with psycopg.connect(connection_string) as conn:\n",
        "    conn.autocommit = True\n",
        "    with conn.cursor() as cur:\n",
        "        cur.execute(query)"
      ]
    },
    {
      "cell_type": "markdown",
      "id": "02df37ac",
      "metadata": {},
      "source": [
        "## Testing\n"
      ]
    },
    {
      "cell_type": "code",
      "execution_count": 8,
      "id": "06ff052a",
      "metadata": {},
      "outputs": [],
      "source": [
        "vector_store = PGVectorStore.from_params(\n",
        "    database=llamaindex_db,\n",
        "    host=host,\n",
        "    password=password,\n",
        "    port=port,\n",
        "    user=user,\n",
        "    embed_dim=1536,\n",
        "    schema_name=llamaindex_schema,\n",
        ")\n",
        "\n",
        "retriever = VectorStoreIndex.from_vector_store(vector_store=vector_store).as_retriever(\n",
        "    similarity_top_k=5\n",
        ")"
      ]
    },
    {
      "cell_type": "code",
      "execution_count": 9,
      "id": "f9c4c3b7",
      "metadata": {
        "metadata": {}
      },
      "outputs": [],
      "source": [
        "question = \"Procédure opérationnelle : Inspection des contrôles préventifs des aliments - Vérification de la mise en oeuvre\"\n",
        "answer_urls = [\n",
        "    \"https://inspection.canada.ca/fra/1679330680137/1679330831583\",\n",
        "]\n",
        "context_nodes = retriever.retrieve(question)"
      ]
    },
    {
      "cell_type": "code",
      "execution_count": 10,
      "id": "1b5a4850",
      "metadata": {
        "metadata": {}
      },
      "outputs": [
        {
          "name": "stdout",
          "output_type": "stream",
          "text": [
            "Position: 1 Procédure opérationnelle : Inspection des contrôles préventifs des aliments – Vérification de la mise en oeuvre\n",
            "Position: 2 Procédure opérationnelle : Inspection des contrôles préventifs des aliments – Vérification de la mise en oeuvre\n",
            "Position: 3 Procédure opérationnelle : Inspection des contrôles préventifs des aliments – Vérification de la mise en oeuvre\n",
            "Position: 4 Procédure opérationnelle : Inspection des contrôles préventifs des aliments – Vérification de la mise en oeuvre\n",
            "Position: 5 Procédure opérationnelle : Inspection des contrôles préventifs des aliments – Vérification de la mise en oeuvre\n"
          ]
        }
      ],
      "source": [
        "verify(context_nodes, answer_urls)"
      ]
    },
    {
      "cell_type": "markdown",
      "id": "b7613ae2",
      "metadata": {},
      "source": [
        "- ✅ searching by page title yields good results"
      ]
    },
    {
      "cell_type": "code",
      "execution_count": 11,
      "id": "144e17e5",
      "metadata": {},
      "outputs": [
        {
          "name": "stdout",
          "output_type": "stream",
          "text": [
            "{'class_name': 'NodeWithScore',\n",
            " 'node': {'class_name': 'TextNode',\n",
            "          'embedding': None,\n",
            "          'end_char_idx': 30370,\n",
            "          'excluded_embed_metadata_keys': ['url_id',\n",
            "                                           'last_crawled',\n",
            "                                           'url',\n",
            "                                           'description',\n",
            "                                           'viewport',\n",
            "                                           'language',\n",
            "                                           'type',\n",
            "                                           'subject',\n",
            "                                           'creator',\n",
            "                                           'issued',\n",
            "                                           'modified',\n",
            "                                           'audience'],\n",
            "          'excluded_llm_metadata_keys': ['url_id',\n",
            "                                         'last_crawled',\n",
            "                                         'url',\n",
            "                                         'description',\n",
            "                                         'viewport',\n",
            "                                         'language',\n",
            "                                         'type',\n",
            "                                         'subject',\n",
            "                                         'creator',\n",
            "                                         'issued',\n",
            "                                         'modified',\n",
            "                                         'audience'],\n",
            "          'id_': 'c79f7ec3-0e7a-451d-ba4e-97a85e774186',\n",
            "          'metadata': {'audience': 'gouvernement',\n",
            "                       'creator': 'Gouvernement du Canada,Agence canadienne '\n",
            "                                  \"d'inspection des aliments\",\n",
            "                       'description': \"L'objectif du présent document est de \"\n",
            "                                      'fournir des directives au personnel '\n",
            "                                      \"d'inspection de l'Agence canadienne \"\n",
            "                                      \"d'inspection des aliments (ACIA) sur \"\n",
            "                                      \"les procédures d'inspection de contrôle \"\n",
            "                                      'préventif (CP) et le contrôle des '\n",
            "                                      'exportations pour les aliments.',\n",
            "                       'issued': '2023-03-31',\n",
            "                       'keywords': 'food, food health, inspection, exportation',\n",
            "                       'language': 'fra',\n",
            "                       'last_crawled': '2024-05-05T11:59:19.855098+00:00',\n",
            "                       'modified': '2023-04-03',\n",
            "                       'subject': 'aliment,exportation,inspection des '\n",
            "                                  'aliments,lignes directrices,matériel '\n",
            "                                  'didactique,publication gouvernementale',\n",
            "                       'title': 'Procédure opérationnelle : Inspection des '\n",
            "                                'contrôles préventifs des aliments – '\n",
            "                                'Vérification de la mise en oeuvre',\n",
            "                       'type': 'matériel de référence',\n",
            "                       'url': 'https://inspection.canada.ca/fra/1679330680137/1679330831583',\n",
            "                       'url_id': '/fra/1679330680137/1679330831583',\n",
            "                       'viewport': 'width=device-width,initial-scale=1'},\n",
            "          'metadata_seperator': '\\n',\n",
            "          'metadata_template': '{key}: {value}',\n",
            "          'relationships': {<NodeRelationship.SOURCE: '1'>: {'class_name': 'RelatedNodeInfo',\n",
            "                                                             'hash': '149a94ec5dee02d17975f5eeb28c4ae48c8defcde933f2688eb4471df8c94800',\n",
            "                                                             'metadata': {'audience': 'gouvernement',\n",
            "                                                                          'creator': 'Gouvernement '\n",
            "                                                                                     'du '\n",
            "                                                                                     'Canada,Agence '\n",
            "                                                                                     'canadienne '\n",
            "                                                                                     \"d'inspection \"\n",
            "                                                                                     'des '\n",
            "                                                                                     'aliments',\n",
            "                                                                          'description': \"L'objectif \"\n",
            "                                                                                         'du '\n",
            "                                                                                         'présent '\n",
            "                                                                                         'document '\n",
            "                                                                                         'est '\n",
            "                                                                                         'de '\n",
            "                                                                                         'fournir '\n",
            "                                                                                         'des '\n",
            "                                                                                         'directives '\n",
            "                                                                                         'au '\n",
            "                                                                                         'personnel '\n",
            "                                                                                         \"d'inspection \"\n",
            "                                                                                         'de '\n",
            "                                                                                         \"l'Agence \"\n",
            "                                                                                         'canadienne '\n",
            "                                                                                         \"d'inspection \"\n",
            "                                                                                         'des '\n",
            "                                                                                         'aliments '\n",
            "                                                                                         '(ACIA) '\n",
            "                                                                                         'sur '\n",
            "                                                                                         'les '\n",
            "                                                                                         'procédures '\n",
            "                                                                                         \"d'inspection \"\n",
            "                                                                                         'de '\n",
            "                                                                                         'contrôle '\n",
            "                                                                                         'préventif '\n",
            "                                                                                         '(CP) '\n",
            "                                                                                         'et '\n",
            "                                                                                         'le '\n",
            "                                                                                         'contrôle '\n",
            "                                                                                         'des '\n",
            "                                                                                         'exportations '\n",
            "                                                                                         'pour '\n",
            "                                                                                         'les '\n",
            "                                                                                         'aliments.',\n",
            "                                                                          'issued': '2023-03-31',\n",
            "                                                                          'keywords': 'food, '\n",
            "                                                                                      'food '\n",
            "                                                                                      'health, '\n",
            "                                                                                      'inspection, '\n",
            "                                                                                      'exportation',\n",
            "                                                                          'language': 'fra',\n",
            "                                                                          'last_crawled': '2024-05-05T11:59:19.855098+00:00',\n",
            "                                                                          'modified': '2023-04-03',\n",
            "                                                                          'subject': 'aliment,exportation,inspection '\n",
            "                                                                                     'des '\n",
            "                                                                                     'aliments,lignes '\n",
            "                                                                                     'directrices,matériel '\n",
            "                                                                                     'didactique,publication '\n",
            "                                                                                     'gouvernementale',\n",
            "                                                                          'title': 'Procédure '\n",
            "                                                                                   'opérationnelle '\n",
            "                                                                                   ': '\n",
            "                                                                                   'Inspection '\n",
            "                                                                                   'des '\n",
            "                                                                                   'contrôles '\n",
            "                                                                                   'préventifs '\n",
            "                                                                                   'des '\n",
            "                                                                                   'aliments '\n",
            "                                                                                   '– '\n",
            "                                                                                   'Vérification '\n",
            "                                                                                   'de '\n",
            "                                                                                   'la '\n",
            "                                                                                   'mise '\n",
            "                                                                                   'en '\n",
            "                                                                                   'oeuvre',\n",
            "                                                                          'type': 'matériel '\n",
            "                                                                                  'de '\n",
            "                                                                                  'référence',\n",
            "                                                                          'url': 'https://inspection.canada.ca/fra/1679330680137/1679330831583',\n",
            "                                                                          'url_id': '/fra/1679330680137/1679330831583',\n",
            "                                                                          'viewport': 'width=device-width,initial-scale=1'},\n",
            "                                                             'node_id': 'https://inspection.canada.ca/fra/1679330680137/1679330831583',\n",
            "                                                             'node_type': <ObjectType.DOCUMENT: '4'>},\n",
            "                            <NodeRelationship.PREVIOUS: '2'>: {'class_name': 'RelatedNodeInfo',\n",
            "                                                               'hash': '93b71a66ea33d7f8d479f03cf3088aa3a9646e14bf07d240808fc53ae978bd48',\n",
            "                                                               'metadata': {'audience': 'gouvernement',\n",
            "                                                                            'creator': 'Gouvernement '\n",
            "                                                                                       'du '\n",
            "                                                                                       'Canada,Agence '\n",
            "                                                                                       'canadienne '\n",
            "                                                                                       \"d'inspection \"\n",
            "                                                                                       'des '\n",
            "                                                                                       'aliments',\n",
            "                                                                            'description': \"L'objectif \"\n",
            "                                                                                           'du '\n",
            "                                                                                           'présent '\n",
            "                                                                                           'document '\n",
            "                                                                                           'est '\n",
            "                                                                                           'de '\n",
            "                                                                                           'fournir '\n",
            "                                                                                           'des '\n",
            "                                                                                           'directives '\n",
            "                                                                                           'au '\n",
            "                                                                                           'personnel '\n",
            "                                                                                           \"d'inspection \"\n",
            "                                                                                           'de '\n",
            "                                                                                           \"l'Agence \"\n",
            "                                                                                           'canadienne '\n",
            "                                                                                           \"d'inspection \"\n",
            "                                                                                           'des '\n",
            "                                                                                           'aliments '\n",
            "                                                                                           '(ACIA) '\n",
            "                                                                                           'sur '\n",
            "                                                                                           'les '\n",
            "                                                                                           'procédures '\n",
            "                                                                                           \"d'inspection \"\n",
            "                                                                                           'de '\n",
            "                                                                                           'contrôle '\n",
            "                                                                                           'préventif '\n",
            "                                                                                           '(CP) '\n",
            "                                                                                           'et '\n",
            "                                                                                           'le '\n",
            "                                                                                           'contrôle '\n",
            "                                                                                           'des '\n",
            "                                                                                           'exportations '\n",
            "                                                                                           'pour '\n",
            "                                                                                           'les '\n",
            "                                                                                           'aliments.',\n",
            "                                                                            'issued': '2023-03-31',\n",
            "                                                                            'keywords': 'food, '\n",
            "                                                                                        'food '\n",
            "                                                                                        'health, '\n",
            "                                                                                        'inspection, '\n",
            "                                                                                        'exportation',\n",
            "                                                                            'language': 'fra',\n",
            "                                                                            'last_crawled': '2024-05-05T11:59:19.855098+00:00',\n",
            "                                                                            'modified': '2023-04-03',\n",
            "                                                                            'subject': 'aliment,exportation,inspection '\n",
            "                                                                                       'des '\n",
            "                                                                                       'aliments,lignes '\n",
            "                                                                                       'directrices,matériel '\n",
            "                                                                                       'didactique,publication '\n",
            "                                                                                       'gouvernementale',\n",
            "                                                                            'title': 'Procédure '\n",
            "                                                                                     'opérationnelle '\n",
            "                                                                                     ': '\n",
            "                                                                                     'Inspection '\n",
            "                                                                                     'des '\n",
            "                                                                                     'contrôles '\n",
            "                                                                                     'préventifs '\n",
            "                                                                                     'des '\n",
            "                                                                                     'aliments '\n",
            "                                                                                     '– '\n",
            "                                                                                     'Vérification '\n",
            "                                                                                     'de '\n",
            "                                                                                     'la '\n",
            "                                                                                     'mise '\n",
            "                                                                                     'en '\n",
            "                                                                                     'oeuvre',\n",
            "                                                                            'type': 'matériel '\n",
            "                                                                                    'de '\n",
            "                                                                                    'référence',\n",
            "                                                                            'url': 'https://inspection.canada.ca/fra/1679330680137/1679330831583',\n",
            "                                                                            'url_id': '/fra/1679330680137/1679330831583',\n",
            "                                                                            'viewport': 'width=device-width,initial-scale=1'},\n",
            "                                                               'node_id': '20966325-6b2f-48ac-b162-5f4fe60090bd',\n",
            "                                                               'node_type': <ObjectType.TEXT: '1'>},\n",
            "                            <NodeRelationship.NEXT: '3'>: {'class_name': 'RelatedNodeInfo',\n",
            "                                                           'hash': '19036a371d84be66c3fce9db3f38828dec3d122bb4d762170c23fc4bba1e0e8b',\n",
            "                                                           'metadata': {},\n",
            "                                                           'node_id': '5bf17071-cb92-4982-8e88-6d63d082bc32',\n",
            "                                                           'node_type': <ObjectType.TEXT: '1'>}},\n",
            "          'start_char_idx': 28068,\n",
            "          'text': '##  7.0 Annexes : Tâches de vérification de la mise en '\n",
            "                  'œuvre pour les produits\\n'\n",
            "                  'alimentaires\\n'\n",
            "                  '\\n'\n",
            "                  'Les informations présentées pour chaque tâche dans les [ '\n",
            "                  'Annexes\\n'\n",
            "                  '](/fra/1590767068489/1590767068842#a7) sont organisées '\n",
            "                  'comme suit :\\n'\n",
            "                  '\\n'\n",
            "                  \"  * **Enregistrement des données d'inspection dans la PPNS \"\n",
            "                  ':** tableau décrivant comment saisir les détails sur la '\n",
            "                  \"tâche d'inspection dans la PPNS \\n\"\n",
            "                  '  * **Fondements juridiques :** fournissent des liens vers '\n",
            "                  \"les exigences réglementaires et les références à l'appui. \"\n",
            "                  \"D'autres références réglementaires peuvent être utilisées, \"\n",
            "                  \"s'il y a lieu. \\n\"\n",
            "                  '  * **Résultat :** état dans lequel les CP/contrôles des '\n",
            "                  'exportations assurent la conformité. \\n'\n",
            "                  '  * **Justification :** explique les répercussions '\n",
            "                  'possibles des CP/contrôles des exportations sur le résultat '\n",
            "                  'de chaque tâche. \\n'\n",
            "                  '  * **Critères de performance :** fondés sur les exigences; '\n",
            "                  \"peuvent être utilisés par l'industrie pour l'aider à \"\n",
            "                  'atteindre les exigences et par les inspecteurs pour les '\n",
            "                  'aider à vérifier les exigences. \\n'\n",
            "                  \"  * **Activités de vérification :** processus qu'un \"\n",
            "                  'inspecteur devrait suivre, pour vérifier la conformité du '\n",
            "                  'titulaire de licence par rapport aux exigences, en '\n",
            "                  'examinant les exigences générales des CP/contrôles des '\n",
            "                  'exportations et des critères de performance applicables à '\n",
            "                  'chaque tâche. Cette section est subdivisée comme suit : \\n'\n",
            "                  '    * examen des documents et des registres \\n'\n",
            "                  '    * sur place : observation et entrevues \\n'\n",
            "                  '\\n'\n",
            "                  'Les inspecteurs peuvent utiliser leur pouvoir '\n",
            "                  'discrétionnaire pour élargir la\\n'\n",
            "                  'vérification des items recommandés, au besoin.\\n'\n",
            "                  '\\n'\n",
            "                  'Les inspecteurs sélectionneront tous les items disponibles '\n",
            "                  \"s'il est impossible\\n\"\n",
            "                  \"de choisir le nombre minimal d'items recommandés.\\n\"\n",
            "                  '\\n'\n",
            "                  '  * [ Annexe 1 – Tâches de vérification de la mise en œuvre '\n",
            "                  '- Produits alimentaires canadiens '\n",
            "                  '](/inspection-et-application-de-la-loi/documents-d-orientation-pour-les-activites-d-inspe/inspection-de-controle-preventif/verification-de-la-mise-en-oeuvre/annexe-1/fra/1680206322592/1680206322936)\\n'\n",
            "                  '  * [ Annexe 2 – Tâches de vérification de la mise en œuvre '\n",
            "                  '– Exportation des produits alimentaires '\n",
            "                  '](/inspection-et-application-de-la-loi/documents-d-orientation-pour-les-activites-d-inspe/inspection-de-controle-preventif/verification-de-la-mise-en-oeuvre/annexe-2/fra/1680207339104/1680207339526)\\n'\n",
            "                  '\\n'\n",
            "                  'Date de modification :\\n'\n",
            "                  '\\n'\n",
            "                  '     2023-04-03',\n",
            "          'text_template': '{metadata_str}\\n\\n{content}'},\n",
            " 'score': 0.9279393043590487}\n"
          ]
        }
      ],
      "source": [
        "pprint(context_nodes[0].dict()) "
      ]
    }
  ],
  "metadata": {
    "colab": {
      "provenance": []
    },
    "kernelspec": {
      "display_name": "Python 3 (ipykernel)",
      "language": "python",
      "name": "python3"
    },
    "language_info": {
      "codemirror_mode": {
        "name": "ipython",
        "version": 3
      },
      "file_extension": ".py",
      "mimetype": "text/x-python",
      "name": "python",
      "nbconvert_exporter": "python",
      "pygments_lexer": "ipython3",
      "version": "3.11.8"
    }
  },
  "nbformat": 4,
  "nbformat_minor": 5
}
