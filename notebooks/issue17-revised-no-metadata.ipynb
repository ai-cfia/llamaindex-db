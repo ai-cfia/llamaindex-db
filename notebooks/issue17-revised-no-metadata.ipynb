{
  "cells": [
    {
      "cell_type": "markdown",
      "id": "bccd47fc",
      "metadata": {
        "id": "bccd47fc"
      },
      "source": [
        "<a href=\"https://colab.research.google.com/github/run-llama/llama_index/blob/main/docs/examples/vector_stores/postgres.ipynb\" target=\"_parent\"><img src=\"https://colab.research.google.com/assets/colab-badge.svg\" alt=\"Open In Colab\"/></a>\n"
      ]
    },
    {
      "cell_type": "markdown",
      "id": "e243db04",
      "metadata": {},
      "source": [
        "# Issue [#17](https://github.com/ai-cfia/llamaindex-db/issues/17)\n"
      ]
    },
    {
      "cell_type": "code",
      "execution_count": 1,
      "id": "d2fc9c18",
      "metadata": {
        "id": "d2fc9c18",
        "metadata": {}
      },
      "outputs": [],
      "source": [
        "# %pip install -r ../../requirements.txt"
      ]
    },
    {
      "cell_type": "code",
      "execution_count": 85,
      "id": "c2d1c538",
      "metadata": {
        "id": "c2d1c538",
        "metadata": {}
      },
      "outputs": [
        {
          "data": {
            "text/plain": [
              "True"
            ]
          },
          "execution_count": 85,
          "metadata": {},
          "output_type": "execute_result"
        }
      ],
      "source": [
        "import logging\n",
        "import sys\n",
        "from llama_index.core import StorageContext\n",
        "from llama_index.core import VectorStoreIndex\n",
        "from llama_index.vector_stores.postgres import PGVectorStore\n",
        "from llama_index.embeddings.azure_openai import AzureOpenAIEmbedding\n",
        "from llama_index.llms.azure_openai import AzureOpenAI\n",
        "from llama_index.core import Settings\n",
        "import os\n",
        "from dotenv import load_dotenv\n",
        "from llama_index.storage.index_store.postgres import PostgresIndexStore\n",
        "from llama_index.storage.docstore.postgres import PostgresDocumentStore\n",
        "from llama_index.core.node_parser import SentenceSplitter\n",
        "from pprint import pprint\n",
        "import psycopg\n",
        "import pickle\n",
        "from llama_index.readers.web import SimpleWebPageReader\n",
        "from llama_index.core.extractors import QuestionsAnsweredExtractor\n",
        "from psycopg.sql import SQL, Identifier\n",
        "import nest_asyncio\n",
        "import os\n",
        "import re\n",
        "from llama_index.core.schema import Document\n",
        "\n",
        "nest_asyncio.apply()\n",
        "load_dotenv()\n",
        "\n",
        "# # Uncomment to see debug logs\n",
        "# logging.basicConfig(stream=sys.stdout, level=logging.DEBUG)\n",
        "# logging.getLogger().addHandler(logging.StreamHandler(stream=sys.stdout))"
      ]
    },
    {
      "cell_type": "code",
      "execution_count": 64,
      "id": "7ef96d95",
      "metadata": {
        "metadata": {}
      },
      "outputs": [],
      "source": [
        "FOLDER = \"issue17/exclude/\"\n",
        "\n",
        "\n",
        "def save_to_pickle(data, filename, folder=FOLDER):\n",
        "    os.makedirs(folder, exist_ok=True)\n",
        "    with open(f\"{folder}{filename}\", \"wb\") as file:\n",
        "        pickle.dump(data, file)\n",
        "\n",
        "\n",
        "def load_from_pickle(filename, folder=FOLDER):\n",
        "    with open(f\"{folder}{filename}\", \"rb\") as file:\n",
        "        return pickle.load(file)"
      ]
    },
    {
      "cell_type": "markdown",
      "id": "26c71b6d",
      "metadata": {
        "id": "26c71b6d"
      },
      "source": [
        "## Setup LLM and Embed Model\n"
      ]
    },
    {
      "cell_type": "code",
      "execution_count": 3,
      "id": "67b86621",
      "metadata": {
        "id": "67b86621",
        "metadata": {}
      },
      "outputs": [],
      "source": [
        "llm = AzureOpenAI(\n",
        "    model=\"gpt-4\",\n",
        "    deployment_name=\"ailab-llm\",\n",
        "    api_key=os.getenv(\"API_KEY\"),\n",
        "    azure_endpoint=os.getenv(\"AZURE_ENDPOINT\"),\n",
        "    api_version=os.getenv(\"API_VERSION\"),\n",
        ")\n",
        "\n",
        "embed_model = AzureOpenAIEmbedding(\n",
        "    model=\"text-embedding-ada-002\",\n",
        "    deployment_name=\"ada\",\n",
        "    api_key=os.getenv(\"API_KEY\"),\n",
        "    azure_endpoint=os.getenv(\"AZURE_ENDPOINT\"),\n",
        "    api_version=os.getenv(\"API_VERSION\"),\n",
        "    max_retries=100000,\n",
        ")\n",
        "\n",
        "Settings.llm = llm\n",
        "Settings.embed_model = embed_model"
      ]
    },
    {
      "cell_type": "markdown",
      "id": "df4206bc",
      "metadata": {},
      "source": [
        "## Variables\n"
      ]
    },
    {
      "cell_type": "code",
      "execution_count": 127,
      "id": "c50c26f2",
      "metadata": {
        "metadata": {}
      },
      "outputs": [],
      "source": [
        "database = os.getenv(\"DB_NAME\")\n",
        "host = os.getenv(\"DB_HOST\")\n",
        "password = os.getenv(\"DB_PASSWORD\")\n",
        "port = os.getenv(\"DB_PORT\")\n",
        "user = os.getenv(\"DB_USER\")\n",
        "llamaindex_db = \"llamaindex_db_legacy\"\n",
        "llamaindex_schema = \"v_0_0_4\"\n",
        "\n",
        "\n",
        "def get_url_id(url):\n",
        "    match = re.search(r\"/[a-z]{3}/[0-9]+/[0-9]+$\", url)\n",
        "    return match.group() if match else None\n",
        "\n",
        "\n",
        "def get_url_from_id(url_id):\n",
        "    return f\"https://inspection.canada.ca{url_id}\" if url_id else None\n",
        "\n",
        "\n",
        "def get_minimal_url(url):\n",
        "    return get_url_from_id(get_url_id(url))\n",
        "\n",
        "\n",
        "def verify(context_nodes, answer_urls, question):\n",
        "    for i, n in enumerate(context_nodes):\n",
        "        full_url = get_minimal_url(n.metadata[\"url\"])\n",
        "        if full_url in answer_urls:\n",
        "            print(f\"✅ '{question}, {answer_urls[0]}'\")\n",
        "            return True\n",
        "\n",
        "    print(f\"❌ '{question}, {answer_urls[0]}'\")\n",
        "\n",
        "\n",
        "def test_index(schema, questions_urls):\n",
        "    retriever = VectorStoreIndex.from_vector_store(\n",
        "        PGVectorStore.from_params(\n",
        "            database=llamaindex_db,\n",
        "            host=host,\n",
        "            password=password,\n",
        "            port=port,\n",
        "            user=user,\n",
        "            embed_dim=1536,\n",
        "            schema_name=schema,\n",
        "        )\n",
        "    ).as_retriever(similarity_top_k=10)\n",
        "    i = 0\n",
        "    for question, urls in questions_urls:\n",
        "        context_nodes = retriever.retrieve(question)\n",
        "        if verify(context_nodes, urls, question):\n",
        "            i += 1\n",
        "    print(f\"Accuracy: {i}/{len(questions_urls)}\")"
      ]
    },
    {
      "cell_type": "markdown",
      "id": "727e278f",
      "metadata": {},
      "source": [
        "## Observed problem\n",
        "\n",
        "After embedding the metadata, we noticed a drastic drop in accuracy.\n"
      ]
    },
    {
      "cell_type": "markdown",
      "id": "ed5437cc",
      "metadata": {},
      "source": [
        "### Before the change\n"
      ]
    },
    {
      "cell_type": "code",
      "execution_count": 128,
      "id": "38f3a1af",
      "metadata": {},
      "outputs": [
        {
          "name": "stdout",
          "output_type": "stream",
          "text": [
            "✅ 'Who to consult when regulatory action is required on the regulated party's permissions?, https://inspection.canada.ca/eng/1651258246384/1651258246869'\n",
            "✅ 'Comment sera évalué le résultat de la détection de Lm dans un produit de catégorie 2B?, https://inspection.canada.ca/fra/1540575149362/1540575299761'\n",
            "✅ 'Peut-on fournir un rapport d'analyse (RA) externe du SIESAL à la partie réglementée, pour les échantillons soumis à l'ACIA ou aux laboratoires contractuels tiers?, https://inspection.canada.ca/fra/1540234969218/1540235089869'\n",
            "Accuracy: 3/3\n"
          ]
        }
      ],
      "source": [
        "questions_urls = [\n",
        "    (\n",
        "        \"Who to consult when regulatory action is required on the regulated party's permissions?\",\n",
        "        [\"https://inspection.canada.ca/eng/1651258246384/1651258246869\"],\n",
        "    ),\n",
        "    (\n",
        "        \"Comment sera évalué le résultat de la détection de Lm dans un produit de catégorie 2B?\",\n",
        "        [\"https://inspection.canada.ca/fra/1540575149362/1540575299761\"],\n",
        "    ),\n",
        "    (\n",
        "        \"Peut-on fournir un rapport d'analyse (RA) externe du SIESAL à la partie réglementée, pour les échantillons soumis à l'ACIA ou aux laboratoires contractuels tiers?\",\n",
        "        [\"https://inspection.canada.ca/fra/1540234969218/1540235089869\"],\n",
        "    ),\n",
        "]\n",
        "test_index(\"v_0_0_1\", questions_urls)"
      ]
    },
    {
      "cell_type": "markdown",
      "id": "323a987f",
      "metadata": {},
      "source": [
        "### After the change\n"
      ]
    },
    {
      "cell_type": "code",
      "execution_count": 129,
      "id": "5a04f603",
      "metadata": {},
      "outputs": [
        {
          "name": "stdout",
          "output_type": "stream",
          "text": [
            "✅ 'Who to consult when regulatory action is required on the regulated party's permissions?, https://inspection.canada.ca/eng/1651258246384/1651258246869'\n",
            "❌ 'Comment sera évalué le résultat de la détection de Lm dans un produit de catégorie 2B?, https://inspection.canada.ca/fra/1540575149362/1540575299761'\n",
            "❌ 'Peut-on fournir un rapport d'analyse (RA) externe du SIESAL à la partie réglementée, pour les échantillons soumis à l'ACIA ou aux laboratoires contractuels tiers?, https://inspection.canada.ca/fra/1540234969218/1540235089869'\n",
            "Accuracy: 1/3\n"
          ]
        }
      ],
      "source": [
        "# index v_0_0_2 was renamed to v_0_0_2_ after applying the fix in this notebook\n",
        "test_index(\"v_0_0_2_\", questions_urls)"
      ]
    },
    {
      "cell_type": "markdown",
      "id": "fb0eabdb",
      "metadata": {},
      "source": [
        "## Root cause\n",
        "\n",
        "What's changed from `v_0_0_1` to `v_0_0_2_`:\n",
        "\n",
        "1. The chunking strategy\n",
        "\n",
        "   `v_0_0_1` is based on the data generated by the legacy crawler into `louis_v005`. The legacy crawler used a custom algorithm to chunk the pages:\n",
        "\n",
        "   - Group headings and the immediately following texts. The headings used were `h2` and higher, but not `h1`, hence the original issue [#17](https://github.com/ai-cfia/llamaindex-db/issues/17)\n",
        "   - Concatenate enough groups to make a chunk of `~256` tokens\n",
        "   - Try to break chunks of more than `512` tokens into smaller chunks with no guaranty of success\n",
        "\n",
        "   In `v_0_0_2_`, I use open source tools for chunking:\n",
        "\n",
        "   - Read the page's html into a `BeautifulSoup`\n",
        "   - Remove unnecessary sections like header and footer\n",
        "   - Transform the html to markdown text with `html2text`\n",
        "   - Create the metadata from the html. From the metadata, only `title` and `keyword` will be embedded.\n",
        "   - Break the text into chunks using llamaindex's `SimpleSentenceSplitter`. I used chunk size of `768` for metadata + text.\n",
        "\n",
        "2. The embeddings\n",
        "\n",
        "   `v_0_0_1` directly used the chunks and their associated embeddings that were generated by the legacy crawler into `louis_v005`.\n",
        "\n",
        "   `v_0_0_2_` is built from scratch with newly generated embeddings and included the `title` and `keywords` metadata.\n",
        "\n",
        "Is the chunk size the major cause of the problem? I rebuilt the index (`v_0_0_3`), this time with only `title` as metadata and chunk size of `256`. Keeping `keywords` wouldn't allow chunk sizes much below `728`.\n"
      ]
    },
    {
      "cell_type": "code",
      "execution_count": 130,
      "id": "f96d2790",
      "metadata": {},
      "outputs": [
        {
          "name": "stdout",
          "output_type": "stream",
          "text": [
            "❌ 'Who to consult when regulatory action is required on the regulated party's permissions?, https://inspection.canada.ca/eng/1651258246384/1651258246869'\n",
            "❌ 'Comment sera évalué le résultat de la détection de Lm dans un produit de catégorie 2B?, https://inspection.canada.ca/fra/1540575149362/1540575299761'\n",
            "❌ 'Peut-on fournir un rapport d'analyse (RA) externe du SIESAL à la partie réglementée, pour les échantillons soumis à l'ACIA ou aux laboratoires contractuels tiers?, https://inspection.canada.ca/fra/1540234969218/1540235089869'\n",
            "Accuracy: 0/3\n"
          ]
        }
      ],
      "source": [
        "# index v_0_0_3 is built with title included in the embeddings and chunk size of 256\n",
        "test_index(\"v_0_0_3\", questions_urls)"
      ]
    },
    {
      "cell_type": "markdown",
      "id": "98655e7e",
      "metadata": {},
      "source": [
        "The results are even worse. This means that including the metadata is the main cause of the problem. To prove that, I built another index `v_0_0_4` (now renamed `v_0_0_2`) with no metadata in the embeddings and chunk size of `256`.\n"
      ]
    },
    {
      "cell_type": "code",
      "execution_count": 131,
      "id": "23f56e9c",
      "metadata": {},
      "outputs": [
        {
          "name": "stdout",
          "output_type": "stream",
          "text": [
            "✅ 'Who to consult when regulatory action is required on the regulated party's permissions?, https://inspection.canada.ca/eng/1651258246384/1651258246869'\n",
            "✅ 'Comment sera évalué le résultat de la détection de Lm dans un produit de catégorie 2B?, https://inspection.canada.ca/fra/1540575149362/1540575299761'\n",
            "✅ 'Peut-on fournir un rapport d'analyse (RA) externe du SIESAL à la partie réglementée, pour les échantillons soumis à l'ACIA ou aux laboratoires contractuels tiers?, https://inspection.canada.ca/fra/1540234969218/1540235089869'\n",
            "Accuracy: 3/3\n"
          ]
        }
      ],
      "source": [
        "# formerly v_0_0_4\n",
        "# Renaming the indexes is not best practice, but it allows me to\n",
        "# switch index in finesse without redeploying\n",
        "test_index(\"v_0_0_2\", questions_urls)"
      ]
    },
    {
      "cell_type": "markdown",
      "id": "c591ed36",
      "metadata": {},
      "source": [
        "It is still unclear to me why including the metadata in the embeddings has such negative effect on the index. My guess is that it introduces noise in the embeddings.\n",
        "\n",
        "Metadata are still very important in classifying webpages. An improvement could be to create one chunk per page that contain the metadata instead of including them in all the chunks embeddings.\n"
      ]
    },
    {
      "cell_type": "markdown",
      "id": "1697f0a7",
      "metadata": {},
      "source": [
        "## Back to the initial `h1` title issue\n",
        "\n",
        "It seems after all that for some pages, the h1 title was included in the text and not for some others.\n"
      ]
    },
    {
      "cell_type": "markdown",
      "id": "fbc6c181",
      "metadata": {},
      "source": [
        "### List of all the titles\n"
      ]
    },
    {
      "cell_type": "code",
      "execution_count": 90,
      "id": "ca2fd065",
      "metadata": {},
      "outputs": [
        {
          "name": "stdout",
          "output_type": "stream",
          "text": [
            "11054\n"
          ]
        }
      ],
      "source": [
        "documents: list[Document] = load_from_pickle(\"documents.pkl\")\n",
        "titles_urlids = [\n",
        "    (d.metadata[\"title\"], get_url_id(d.metadata[\"url\"])) for d in documents\n",
        "]\n",
        "print(len(titles_urlids))"
      ]
    },
    {
      "cell_type": "markdown",
      "id": "691c3a7d",
      "metadata": {},
      "source": [
        "### Documents for which the content doesn't contain the title\n"
      ]
    },
    {
      "cell_type": "code",
      "execution_count": 107,
      "id": "37fc4733",
      "metadata": {},
      "outputs": [
        {
          "name": "stdout",
          "output_type": "stream",
          "text": [
            "44\n"
          ]
        }
      ],
      "source": [
        "connection_string = (\n",
        "    f\"dbname={database} \"\n",
        "    f\"user={user} \"\n",
        "    f\"password={password} \"\n",
        "    f\"host={host} \"\n",
        "    f\"port={port}\"\n",
        ")\n",
        "\n",
        "legacy_schema = \"louis_v005\"\n",
        "with psycopg.connect(connection_string) as conn:\n",
        "    with conn.cursor() as cur:\n",
        "        cur.execute(\"CREATE TEMP TABLE tmp_titles (title TEXT, url_id TEXT)\")\n",
        "        for title, url_id in titles_urlids[:100]:  # <-------------- Sample 100 pages\n",
        "            cur.execute(\n",
        "                \"INSERT INTO tmp_titles (title, url_id) VALUES (%s, %s)\",\n",
        "                (title, url_id),\n",
        "            )\n",
        "        cur.execute(\n",
        "            f\"\"\"\n",
        "            SELECT tt.title, tt.url_id\n",
        "            FROM tmp_titles tt\n",
        "            WHERE NOT EXISTS (\n",
        "                SELECT 1\n",
        "                FROM {legacy_schema}.documents d\n",
        "                WHERE d.content LIKE '%' || tt.title || '%'\n",
        "            )\n",
        "        \"\"\"\n",
        "        )\n",
        "        results = cur.fetchall()\n",
        "        cur.execute(\"DROP TABLE tmp_titles\")\n",
        "        print(len(results))\n",
        "        save_to_pickle(results, \"titles_not_in_content.pkl\")"
      ]
    },
    {
      "cell_type": "markdown",
      "id": "814bd657",
      "metadata": {},
      "source": [
        "On 100 sample pages, 44 did not have the title in the content text.\n"
      ]
    },
    {
      "cell_type": "markdown",
      "id": "9c4d3280",
      "metadata": {},
      "source": [
        "### Testing\n"
      ]
    },
    {
      "cell_type": "code",
      "execution_count": 108,
      "id": "bbb75908",
      "metadata": {},
      "outputs": [
        {
          "name": "stdout",
          "output_type": "stream",
          "text": [
            "('Alpha Meat Packers Ltd. brand Beef Burgers and Lean Ground Beef recalled due to E. coli O157:H7', ['https://inspection.canada.ca/eng/1569265402509/1569265408887'])\n"
          ]
        }
      ],
      "source": [
        "results = load_from_pickle(\"titles_not_in_content.pkl\")\n",
        "titles_urls = [(title, [get_url_from_id(url_id)]) for title, url_id in results]\n",
        "print(titles_urls[0])\n",
        "save_to_pickle(titles_urls, \"titles_urls.pkl\")"
      ]
    },
    {
      "cell_type": "code",
      "execution_count": 132,
      "id": "a00aff80",
      "metadata": {},
      "outputs": [
        {
          "name": "stdout",
          "output_type": "stream",
          "text": [
            "✅ 'Alpha Meat Packers Ltd. brand Beef Burgers and Lean Ground Beef recalled due to E. coli O157:H7, https://inspection.canada.ca/eng/1569265402509/1569265408887'\n",
            "❌ 'Evaluant les systèmes d'inspection des produits de viande de porc et de volaille destinés à l'exportation au Canada, https://inspection.canada.ca/fra/1530280996600/1530281090649'\n",
            "✅ 'DD1998-27 : Détermination du risque associé au cotonnier (Gossypium hirsutum L.) BXNMC de Calgene, https://inspection.canada.ca/fra/1312575778642/1312575878895'\n",
            "✅ 'L'ACIA suspend la licence pour la salubrité des aliments au Canada de Hannibal Inc., https://inspection.canada.ca/fra/1631811887170/1631811887513'\n",
            "✅ 'Néomycine et Chlorhydrate d'oxytétracycline (NEOTC) – Notices sur les substances médicatrices, https://inspection.canada.ca/fra/1591116481035/1591116578791'\n",
            "✅ 'Aflatoxins in Selected Corn Products, Nuts, Nut Products, Raisins, Cocoa Powder, Chili Powder and Paprika - April 1, 2012 to March 31, 2013, https://inspection.canada.ca/eng/1557171015830/1557171066945'\n",
            "❌ 'Privacy Notice Statement applicable to form CFIA/ACIA 5748 - Application for Recognition as a Compartment Under the Domestic Movement Control Program, https://inspection.canada.ca/eng/1416315920388/1416315922263'\n",
            "❌ 'Colorants alimentaires dans certains aliments – 1 avril 2020 au 31 mars 2021, https://inspection.canada.ca/fra/1665086622143/1665086622487'\n",
            "❌ 'Évaluation du programme sur la santé des animaux terrestres – Rapport final, https://inspection.canada.ca/fra/1593138902922/1593138903282'\n",
            "✅ 'Semence de mauvaises herbe : Zygophyllum fabago (Fabagelle), https://inspection.canada.ca/fra/1398182447174/1398182478751'\n",
            "✅ 'Guinéé Équatoriale – Exigences d'exportation pour viande et volaille, https://inspection.canada.ca/fra/1628109388523/1628109388898'\n",
            "✅ 'New OGD extension codes for organic seeds and grains (chapter 7.13) published on March 04, 2020, https://inspection.canada.ca/eng/1585604434137/1585604670154'\n",
            "❌ 'Rapport du Projet sur les aliments destinés aux enfants 2009-2010, https://inspection.canada.ca/fra/1348240784372/1348241294879'\n",
            "✅ 'Sanctions administratives pécuniaires (SAP) :  2023 – janvier à mars, https://inspection.canada.ca/fra/1682087016843/1682087017437'\n",
            "✅ 'Venezuelan Equine Encephalomyelitis (VEE) Fact Sheet, https://inspection.canada.ca/eng/1329841926239/1329842048136'\n",
            "✅ 'DD2002-40: Determination of the Safety of BASF's Imazethapyr Tolerant (CLEARFIELD) Rice, https://inspection.canada.ca/eng/1312560479497/1312560985823'\n",
            "❌ 'Food Product Innovation initiative: summary of changes, https://inspection.canada.ca/eng/1656945690152/1656945690465'\n",
            "✅ 'Présence de gluten non déclaré dans les mélanges à pâtisserie sans gluten — 1 avril 2017 au 31 mars 2018, https://inspection.canada.ca/fra/1612991713363/1612992029819'\n",
            "❌ 'Exigences pour les exploitants d'abattoirs, les usines d'équarrissage, les établissements de collecte de carcasses et les laboratoires d’examen post-mortem : Programme d'identification et de traçabilité des animaux d'élevage, https://inspection.canada.ca/fra/1398951633117/1398951666534'\n",
            "✅ 'Faits sur la salubrité des aliments – grippe porcine, https://inspection.canada.ca/fra/1344126449254/1344126665524'\n",
            "✅ 'Directive 2009-09 : Végétaux à caractères nouveaux réglementés par la partie V du Règlement sur les semences: Notes d'orientation pour déterminer quand aviser l'ACIA, https://inspection.canada.ca/fra/1304466419931/1304466812439'\n",
            "❌ 'Executive Group (EX), https://inspection.canada.ca/eng/1341175126101/1341175229378'\n",
            "✅ 'Pest risk analysis: How we evaluate fruits, vegetables, plants and wood products from new countries of origin, https://inspection.canada.ca/eng/1425496755404/1425496838700'\n",
            "✅ 'Japon - Exigences d'exportation pour viande et volaille, https://inspection.canada.ca/fra/1368732121726/1368732186661'\n",
            "✅ 'Document de décision 2018-123 : Détermination de l'innocuité du coton (Gossypium hirsutum) évènement GHB811 de BASF Canada Inc., https://inspection.canada.ca/fra/1557524933819/1557524934100'\n",
            "❌ 'Tableau détaillé des essais au champ en conditions confinées – 2018, https://inspection.canada.ca/fra/1541802693766/1541802694051'\n",
            "✅ 'Bolivia - Export requirements for fish and seafood, https://inspection.canada.ca/eng/1304357262164/1304358777866'\n",
            "✅ 'European Union (EU) - Export requirements for processed egg, https://inspection.canada.ca/eng/1541613320951/1541613354275'\n",
            "✅ 'DD2008-72: Determination of the Safety of Bayer CropScience's GlyTol™ Cotton Event GHB614, https://inspection.canada.ca/eng/1310671106210/1310671297891'\n",
            "✅ 'DD1995-05 : Détermination du risque environnemental associé à la lignée GTS 40-3-2 de soja (Glycine max L.) tolérante au glyphosate de Monsanto Canada Inc., https://inspection.canada.ca/fra/1303709052087/1303752086643'\n",
            "❌ 'Various raw beef and raw veal products recalled due to E. coli O157:H7, https://inspection.canada.ca/eng/1571192117978/1571192124399'\n",
            "✅ 'D- 97-07: Phytosanitary Requirements for the Importation from the United States and Domestic Movement of Elm Material (Ulmus spp. and Zelkova spp.) to Prevent the Introduction and Spread of Dutch Elm Disease Ophiostoma ulmi (Buisman) Nannf. and Ophiostoma novo-ulmi  (Brasier) within Canada, https://inspection.canada.ca/eng/1323853706282/1323853796330'\n",
            "❌ 'Annexe K : Valeur Fo, https://inspection.canada.ca/fra/1537271958735/1537271958969'\n",
            "✅ 'Avis à l'industrie - nouvelles mesures de conformité pour les établissements qui déplacent du matériel de pépinière hôte de la spongieuse à l'extérieur d'une zone réglementée, https://inspection.canada.ca/fra/1615926058034/1615926326849'\n",
            "✅ 'Bulletin conjoint La spongieuse asiatique (SA) est maintenant désignée sous le nom de « complexe de la spongieuse volante (CSV) », https://inspection.canada.ca/fra/1675710454172/1675710455014'\n",
            "✅ 'Undeclared Allergens and Gluten in Herb and Spice Products – April 1, 2015 to March 31, 2016 and April 1, 2017 to March 31, 2018, https://inspection.canada.ca/eng/1595528213794/1595529245865'\n",
            "✅ 'Primary control zone (PCZ-160 – Ontario), https://inspection.canada.ca/eng/1669770970195/1669770970538'\n",
            "✅ 'Rapport sur ce que nous avons entendu –  Consultation sur les valeurs maximales d'éléments nutritifs dans les aliments destinés aux petits ruminants (moutons et chèvres), https://inspection.canada.ca/fra/1619114442468/1619114442843'\n",
            "✅ 'DD2006-58 : Détermination de l'innocuité du riz (Oryza sativa) LLrice62 tolérant au glufosinate-ammonium mis au point par Bayer CropScience, https://inspection.canada.ca/fra/1311615040608/1311615626192'\n",
            "✅ 'DD2002-38 : Détermination du risque environnemental associé aux lignées de pomme de terre RBMT21-129 et RBMT21-350 résistantes au doryphore de la pomme de terre et au virus de l'enroulement de la pomme de terre par la société Monsanto Canada Inc., https://inspection.canada.ca/fra/1312563281724/1312563343683'\n",
            "❌ 'Expert Advisory Committee: member biographies, https://inspection.canada.ca/eng/1579713552799/1579713553315'\n",
            "❌ 'Importer des végétaux et des matières connexes au Canada, https://inspection.canada.ca/fra/1343413109997/1343413207770'\n",
            "❌ 'Malachite Green - Questions and Answers, https://inspection.canada.ca/eng/1332268890141/1332268947157'\n",
            "❌ 'Permissions émises : 2019 - avril à juin, https://inspection.canada.ca/fra/1566415451679/1566415452113'\n",
            "Accuracy: 29/44\n"
          ]
        }
      ],
      "source": [
        "test_index(\"v_0_0_1\", titles_urls)"
      ]
    },
    {
      "cell_type": "code",
      "execution_count": 133,
      "id": "bda60089",
      "metadata": {},
      "outputs": [
        {
          "name": "stdout",
          "output_type": "stream",
          "text": [
            "❌ 'Alpha Meat Packers Ltd. brand Beef Burgers and Lean Ground Beef recalled due to E. coli O157:H7, https://inspection.canada.ca/eng/1569265402509/1569265408887'\n",
            "✅ 'Evaluant les systèmes d'inspection des produits de viande de porc et de volaille destinés à l'exportation au Canada, https://inspection.canada.ca/fra/1530280996600/1530281090649'\n",
            "✅ 'DD1998-27 : Détermination du risque associé au cotonnier (Gossypium hirsutum L.) BXNMC de Calgene, https://inspection.canada.ca/fra/1312575778642/1312575878895'\n",
            "✅ 'L'ACIA suspend la licence pour la salubrité des aliments au Canada de Hannibal Inc., https://inspection.canada.ca/fra/1631811887170/1631811887513'\n",
            "✅ 'Néomycine et Chlorhydrate d'oxytétracycline (NEOTC) – Notices sur les substances médicatrices, https://inspection.canada.ca/fra/1591116481035/1591116578791'\n",
            "✅ 'Aflatoxins in Selected Corn Products, Nuts, Nut Products, Raisins, Cocoa Powder, Chili Powder and Paprika - April 1, 2012 to March 31, 2013, https://inspection.canada.ca/eng/1557171015830/1557171066945'\n",
            "✅ 'Privacy Notice Statement applicable to form CFIA/ACIA 5748 - Application for Recognition as a Compartment Under the Domestic Movement Control Program, https://inspection.canada.ca/eng/1416315920388/1416315922263'\n",
            "✅ 'Colorants alimentaires dans certains aliments – 1 avril 2020 au 31 mars 2021, https://inspection.canada.ca/fra/1665086622143/1665086622487'\n",
            "✅ 'Évaluation du programme sur la santé des animaux terrestres – Rapport final, https://inspection.canada.ca/fra/1593138902922/1593138903282'\n",
            "✅ 'Semence de mauvaises herbe : Zygophyllum fabago (Fabagelle), https://inspection.canada.ca/fra/1398182447174/1398182478751'\n",
            "✅ 'Guinéé Équatoriale – Exigences d'exportation pour viande et volaille, https://inspection.canada.ca/fra/1628109388523/1628109388898'\n",
            "✅ 'New OGD extension codes for organic seeds and grains (chapter 7.13) published on March 04, 2020, https://inspection.canada.ca/eng/1585604434137/1585604670154'\n",
            "✅ 'Rapport du Projet sur les aliments destinés aux enfants 2009-2010, https://inspection.canada.ca/fra/1348240784372/1348241294879'\n",
            "✅ 'Sanctions administratives pécuniaires (SAP) :  2023 – janvier à mars, https://inspection.canada.ca/fra/1682087016843/1682087017437'\n",
            "✅ 'Venezuelan Equine Encephalomyelitis (VEE) Fact Sheet, https://inspection.canada.ca/eng/1329841926239/1329842048136'\n",
            "✅ 'DD2002-40: Determination of the Safety of BASF's Imazethapyr Tolerant (CLEARFIELD) Rice, https://inspection.canada.ca/eng/1312560479497/1312560985823'\n",
            "❌ 'Food Product Innovation initiative: summary of changes, https://inspection.canada.ca/eng/1656945690152/1656945690465'\n",
            "✅ 'Présence de gluten non déclaré dans les mélanges à pâtisserie sans gluten — 1 avril 2017 au 31 mars 2018, https://inspection.canada.ca/fra/1612991713363/1612992029819'\n",
            "✅ 'Exigences pour les exploitants d'abattoirs, les usines d'équarrissage, les établissements de collecte de carcasses et les laboratoires d’examen post-mortem : Programme d'identification et de traçabilité des animaux d'élevage, https://inspection.canada.ca/fra/1398951633117/1398951666534'\n",
            "✅ 'Faits sur la salubrité des aliments – grippe porcine, https://inspection.canada.ca/fra/1344126449254/1344126665524'\n",
            "✅ 'Directive 2009-09 : Végétaux à caractères nouveaux réglementés par la partie V du Règlement sur les semences: Notes d'orientation pour déterminer quand aviser l'ACIA, https://inspection.canada.ca/fra/1304466419931/1304466812439'\n",
            "❌ 'Executive Group (EX), https://inspection.canada.ca/eng/1341175126101/1341175229378'\n",
            "✅ 'Pest risk analysis: How we evaluate fruits, vegetables, plants and wood products from new countries of origin, https://inspection.canada.ca/eng/1425496755404/1425496838700'\n",
            "✅ 'Japon - Exigences d'exportation pour viande et volaille, https://inspection.canada.ca/fra/1368732121726/1368732186661'\n",
            "✅ 'Document de décision 2018-123 : Détermination de l'innocuité du coton (Gossypium hirsutum) évènement GHB811 de BASF Canada Inc., https://inspection.canada.ca/fra/1557524933819/1557524934100'\n",
            "❌ 'Tableau détaillé des essais au champ en conditions confinées – 2018, https://inspection.canada.ca/fra/1541802693766/1541802694051'\n",
            "✅ 'Bolivia - Export requirements for fish and seafood, https://inspection.canada.ca/eng/1304357262164/1304358777866'\n",
            "✅ 'European Union (EU) - Export requirements for processed egg, https://inspection.canada.ca/eng/1541613320951/1541613354275'\n",
            "✅ 'DD2008-72: Determination of the Safety of Bayer CropScience's GlyTol™ Cotton Event GHB614, https://inspection.canada.ca/eng/1310671106210/1310671297891'\n",
            "✅ 'DD1995-05 : Détermination du risque environnemental associé à la lignée GTS 40-3-2 de soja (Glycine max L.) tolérante au glyphosate de Monsanto Canada Inc., https://inspection.canada.ca/fra/1303709052087/1303752086643'\n",
            "❌ 'Various raw beef and raw veal products recalled due to E. coli O157:H7, https://inspection.canada.ca/eng/1571192117978/1571192124399'\n",
            "✅ 'D- 97-07: Phytosanitary Requirements for the Importation from the United States and Domestic Movement of Elm Material (Ulmus spp. and Zelkova spp.) to Prevent the Introduction and Spread of Dutch Elm Disease Ophiostoma ulmi (Buisman) Nannf. and Ophiostoma novo-ulmi  (Brasier) within Canada, https://inspection.canada.ca/eng/1323853706282/1323853796330'\n",
            "❌ 'Annexe K : Valeur Fo, https://inspection.canada.ca/fra/1537271958735/1537271958969'\n",
            "✅ 'Avis à l'industrie - nouvelles mesures de conformité pour les établissements qui déplacent du matériel de pépinière hôte de la spongieuse à l'extérieur d'une zone réglementée, https://inspection.canada.ca/fra/1615926058034/1615926326849'\n",
            "✅ 'Bulletin conjoint La spongieuse asiatique (SA) est maintenant désignée sous le nom de « complexe de la spongieuse volante (CSV) », https://inspection.canada.ca/fra/1675710454172/1675710455014'\n",
            "✅ 'Undeclared Allergens and Gluten in Herb and Spice Products – April 1, 2015 to March 31, 2016 and April 1, 2017 to March 31, 2018, https://inspection.canada.ca/eng/1595528213794/1595529245865'\n",
            "❌ 'Primary control zone (PCZ-160 – Ontario), https://inspection.canada.ca/eng/1669770970195/1669770970538'\n",
            "✅ 'Rapport sur ce que nous avons entendu –  Consultation sur les valeurs maximales d'éléments nutritifs dans les aliments destinés aux petits ruminants (moutons et chèvres), https://inspection.canada.ca/fra/1619114442468/1619114442843'\n",
            "✅ 'DD2006-58 : Détermination de l'innocuité du riz (Oryza sativa) LLrice62 tolérant au glufosinate-ammonium mis au point par Bayer CropScience, https://inspection.canada.ca/fra/1311615040608/1311615626192'\n",
            "✅ 'DD2002-38 : Détermination du risque environnemental associé aux lignées de pomme de terre RBMT21-129 et RBMT21-350 résistantes au doryphore de la pomme de terre et au virus de l'enroulement de la pomme de terre par la société Monsanto Canada Inc., https://inspection.canada.ca/fra/1312563281724/1312563343683'\n",
            "❌ 'Expert Advisory Committee: member biographies, https://inspection.canada.ca/eng/1579713552799/1579713553315'\n",
            "❌ 'Importer des végétaux et des matières connexes au Canada, https://inspection.canada.ca/fra/1343413109997/1343413207770'\n",
            "❌ 'Malachite Green - Questions and Answers, https://inspection.canada.ca/eng/1332268890141/1332268947157'\n",
            "❌ 'Permissions émises : 2019 - avril à juin, https://inspection.canada.ca/fra/1566415451679/1566415452113'\n",
            "Accuracy: 33/44\n"
          ]
        }
      ],
      "source": [
        "test_index(\"v_0_0_2\", titles_urls)"
      ]
    },
    {
      "cell_type": "markdown",
      "id": "437bd811",
      "metadata": {},
      "source": [
        "2 conclusions from the results:\n",
        "- Even though the title is not included in the chunks, `v_0_0_1` can still match the content. It's a semantic search after all.\n",
        "- `v_0_0_2` still misses some search by title which indicates that there are other problems worth investigating.\n"
      ]
    },
    {
      "cell_type": "markdown",
      "id": "748581ba",
      "metadata": {},
      "source": [
        "## Creating `v_0_0_4` now renamed `v_0_0_2`\n"
      ]
    },
    {
      "cell_type": "code",
      "execution_count": null,
      "id": "fb97d6a1",
      "metadata": {
        "metadata": {}
      },
      "outputs": [],
      "source": [
        "conn_string = (\n",
        "    f\"dbname={database} \"\n",
        "    f\"user={user} \"\n",
        "    f\"password={password} \"\n",
        "    f\"host={host} \"\n",
        "    f\"port={port}\"\n",
        ")\n",
        "query = \"\"\"\n",
        "    SELECT DISTINCT url_id\n",
        "    FROM louis_v005.unique_documents\n",
        "    WHERE url_id IS NOT NULL;\n",
        "    \"\"\"\n",
        "with psycopg.connect(conn_string) as conn:\n",
        "    with conn.cursor() as cur:\n",
        "        results = cur.execute(query).fetchall()\n",
        "        url_ids = [r[0] for r in results]\n",
        "\n",
        "pprint(url_ids[0:5])\n",
        "save_to_pickle(url_ids, \"url_ids.pkl\")"
      ]
    },
    {
      "cell_type": "markdown",
      "id": "6618cbf5",
      "metadata": {},
      "source": [
        "### Create documents from `url_ids`\n",
        "\n",
        "#### Utility classes and functions\n"
      ]
    },
    {
      "cell_type": "code",
      "execution_count": 11,
      "metadata": {},
      "outputs": [],
      "source": [
        "import re\n",
        "from datetime import datetime, timezone\n",
        "from typing import Callable\n",
        "from urllib.parse import urljoin\n",
        "import asyncio\n",
        "import aiohttp\n",
        "\n",
        "import html2text\n",
        "from bs4 import BeautifulSoup\n",
        "from llama_index.core.schema import Document\n",
        "\n",
        "\n",
        "DEFAULT_BASE_URL = \"https://inspection.canada.ca\"\n",
        "DEFAULT_N_WORKERS = 100\n",
        "DEFAULT_EXCLUDED_KEYS = [\n",
        "    \"url_id\",\n",
        "    \"last_crawled\",\n",
        "    \"url\",\n",
        "    \"description\",\n",
        "    \"viewport\",\n",
        "    \"language\",\n",
        "    \"type\",\n",
        "    \"subject\",\n",
        "    \"creator\",\n",
        "    \"issued\",\n",
        "    \"modified\",\n",
        "    \"audience\",\n",
        "]\n",
        "DEFAULT_URL_ID_REGEX = r\"/[a-z]{3}/[0-9]+/[0-9]+$\"\n",
        "\n",
        "\n",
        "class AsyncWorkerQueue:\n",
        "    \"\"\"A class representing an asynchronous worker queue.\"\"\"\n",
        "\n",
        "    def __init__(self, num_workers, maxsize=0):\n",
        "        self.num_workers = num_workers\n",
        "        self.queue = asyncio.Queue(maxsize=maxsize)\n",
        "        self.futures = []\n",
        "        self.workers = []\n",
        "\n",
        "    async def worker(self, name):\n",
        "        \"\"\"A coroutine that processes tasks from the queue.\"\"\"\n",
        "        while True:\n",
        "            future, task, args, kwargs = await self.queue.get()\n",
        "            if task is None:\n",
        "                break\n",
        "            try:\n",
        "                result = await task(*args, **kwargs)\n",
        "                future.set_result(result)\n",
        "            except Exception as e:\n",
        "                print(f\"Worker {name} encountered an error: {e}\")\n",
        "                # error_trace = traceback.format_exc()\n",
        "                # print(f\"Worker {name} encountered an error: {e}\\n{error_trace}\")\n",
        "                future.set_exception(e)\n",
        "            finally:\n",
        "                self.queue.task_done()\n",
        "\n",
        "    async def run(self, tasks_with_params):\n",
        "        \"\"\"\n",
        "        A coroutine that runs the worker tasks and processes the given tasks\n",
        "        with parameters.\n",
        "        \"\"\"\n",
        "        self.workers = [\n",
        "            asyncio.create_task(self.worker(f\"Worker-{i}\"))\n",
        "            for i in range(self.num_workers)\n",
        "        ]\n",
        "\n",
        "        for task, args, kwargs in tasks_with_params:\n",
        "            future = asyncio.Future()\n",
        "            self.futures.append(future)\n",
        "            await self.queue.put((future, task, args, kwargs))\n",
        "\n",
        "        await self.queue.join()\n",
        "\n",
        "        for _ in self.workers:\n",
        "            await self.queue.put((None, None, None, None))\n",
        "        await asyncio.gather(*self.workers, return_exceptions=True)\n",
        "\n",
        "        results = []\n",
        "        for future in self.futures:\n",
        "            try:\n",
        "                result = await future\n",
        "                results.append(result)\n",
        "            finally:\n",
        "                continue\n",
        "\n",
        "        return results\n",
        "\n",
        "\n",
        "class WebPageReader:\n",
        "    @classmethod\n",
        "    async def get_html_from_url(cls, url):\n",
        "        \"\"\"Retrieve HTML content from a given URL asynchronously\"\"\"\n",
        "        async with aiohttp.ClientSession() as session:\n",
        "            async with session.get(url) as response:\n",
        "                response.raise_for_status()\n",
        "                content_type = response.headers.get(\"content-type\")\n",
        "                if \"text/html\" not in content_type:\n",
        "                    raise ValueError(\"The returned content is not HTML\")\n",
        "                return await response.text()\n",
        "\n",
        "\n",
        "class MetadataExtractor:  # <--------- This extracts the metadata from the head section\n",
        "    @classmethod\n",
        "    async def extract_from_soup(cls, soup: BeautifulSoup):\n",
        "        \"\"\"Extract metadata from the soup\"\"\"\n",
        "        metadata: dict[str, str] = {}\n",
        "        if header := soup.find(\"head\"):\n",
        "            metas = header.find_all(\"meta\")\n",
        "            for meta in metas:\n",
        "                name = meta.get(\"name\", \"\").replace(\"dcterms.\", \"\")\n",
        "                content = meta.get(\"content\")\n",
        "                if name and content:\n",
        "                    metadata[name] = content\n",
        "        return metadata\n",
        "\n",
        "\n",
        "class AiLabWebPageReader:\n",
        "    \"\"\"AiLab web page reader.\"\"\"\n",
        "\n",
        "    html_to_text: bool\n",
        "    base_url: str\n",
        "    _metadata_fn: Callable[[str], dict] | None\n",
        "    url_id_regex: str\n",
        "\n",
        "    def __init__(\n",
        "        self,\n",
        "        html_to_text: bool = False,\n",
        "        base_url: str = DEFAULT_BASE_URL,\n",
        "        url_id_regex: str = DEFAULT_URL_ID_REGEX,\n",
        "        metadata_fn: Callable[[BeautifulSoup], dict] | None = None,\n",
        "    ) -> None:\n",
        "        \"\"\"Initialize with parameters.\"\"\"\n",
        "        self.html_to_text = html_to_text\n",
        "        self.base_url = base_url\n",
        "        self.url_id_regex = url_id_regex\n",
        "        self._metadata_fn = metadata_fn\n",
        "\n",
        "    async def load_document(self, url_id: str):\n",
        "        \"\"\"Load data from the input directory.\"\"\"\n",
        "        assert re.match(self.url_id_regex, url_id), \"Invalid URL ID\"\n",
        "        url = urljoin(self.base_url, url_id)\n",
        "        response = await WebPageReader.get_html_from_url(url)\n",
        "        response = BeautifulSoup(response, \"html.parser\")\n",
        "\n",
        "        metadata: dict[str, str] | None = None  # <----------- metadata extraction here\n",
        "        if self._metadata_fn is not None:\n",
        "            metadata = await self._metadata_fn(response)\n",
        "            metadata[\"url\"] = url\n",
        "            metadata[\"url_id\"] = url_id\n",
        "            metadata[\"last_crawled\"] = datetime.now(timezone.utc).isoformat()\n",
        "\n",
        "        excluded_keys = list(metadata.keys())  # <- exclude all metadata from embeddings\n",
        "\n",
        "        # prune irrelevant sections like header, footer, etc.\n",
        "        response = (response.find(\"main\") or response).prettify()\n",
        "\n",
        "        if self.html_to_text:\n",
        "            response = html2text.html2text(response)\n",
        "\n",
        "        return Document(\n",
        "            text=response,\n",
        "            id_=url,\n",
        "            metadata=metadata or {},  # <---------- metadata are added to the nodes here\n",
        "            excluded_embed_metadata_keys=excluded_keys,\n",
        "            excluded_llm_metadata_keys=excluded_keys,\n",
        "        )\n",
        "\n",
        "    async def load_documents(\n",
        "        self,\n",
        "        url_ids: list[str],\n",
        "        n_workers: int = DEFAULT_N_WORKERS,\n",
        "    ) -> list[Document]:\n",
        "        \"\"\"Load data from the input directory.\"\"\"\n",
        "        assert isinstance(url_ids, list), \"urls must be a list of strings.\"\n",
        "        tasks = [(self.load_document, (u,), {}) for u in url_ids]\n",
        "        async_queue = AsyncWorkerQueue(num_workers=n_workers)\n",
        "        documents = await async_queue.run(tasks)\n",
        "        return documents"
      ]
    },
    {
      "cell_type": "markdown",
      "id": "461a198d",
      "metadata": {},
      "source": [
        "#### Creating the documents\n"
      ]
    },
    {
      "cell_type": "code",
      "execution_count": null,
      "id": "2b126c54",
      "metadata": {
        "metadata": {}
      },
      "outputs": [],
      "source": [
        "url_ids = load_from_pickle(\"url_ids.pkl\", folder=\"\")\n",
        "pprint(url_ids[2:4])\n",
        "documents = await AiLabWebPageReader(\n",
        "    html_to_text=True, metadata_fn=MetadataExtractor.extract_from_soup\n",
        ").load_documents(url_ids)\n",
        "save_to_pickle(documents, \"documents.pkl\")"
      ]
    },
    {
      "cell_type": "code",
      "execution_count": 21,
      "id": "6ffe4828",
      "metadata": {},
      "outputs": [
        {
          "name": "stdout",
          "output_type": "stream",
          "text": [
            "len(documents): 11054\n",
            "metadata to be included: None\n"
          ]
        }
      ],
      "source": [
        "documents = load_from_pickle(\"documents.pkl\")\n",
        "print(\"len(documents):\", len(documents))\n",
        "print(\n",
        "    \"metadata to be included:\",\n",
        "    SentenceSplitter()._get_metadata_str(documents[0]) or \"None\",\n",
        ")"
      ]
    },
    {
      "cell_type": "markdown",
      "id": "59bb559f",
      "metadata": {},
      "source": [
        "### Create nodes from documents\n",
        "\n",
        "By trial, I found that a chunk size of `512` tokens raises an error where, for some nodes, the metadata size is already larger than `512` tokens, leaving no room for the actual node text. I resorted to using `768` which is still reasonable.\n",
        "\n",
        "The `overlap` parameter used below helps ensure that contextual information isn't lost by cutting the text abruptly from one chunk to another.\n"
      ]
    },
    {
      "cell_type": "code",
      "execution_count": 22,
      "id": "eba7c2dc",
      "metadata": {},
      "outputs": [
        {
          "name": "stderr",
          "output_type": "stream",
          "text": [
            "/home/k-allagbe/miniconda3/envs/llamaindex-db/lib/python3.11/site-packages/tqdm/auto.py:21: TqdmWarning: IProgress not found. Please update jupyter and ipywidgets. See https://ipywidgets.readthedocs.io/en/stable/user_install.html\n",
            "  from .autonotebook import tqdm as notebook_tqdm\n",
            "Parsing nodes: 100%|██████████| 11054/11054 [00:59<00:00, 186.24it/s]\n"
          ]
        }
      ],
      "source": [
        "parser = SentenceSplitter(chunk_size=256, chunk_overlap=50)  # <--------- chunk size 256\n",
        "nodes = parser.get_nodes_from_documents(documents, show_progress=True)\n",
        "save_to_pickle(nodes, \"nodes.pkl\")"
      ]
    },
    {
      "cell_type": "code",
      "execution_count": 6,
      "id": "588efbf7",
      "metadata": {
        "metadata": {}
      },
      "outputs": [
        {
          "name": "stdout",
          "output_type": "stream",
          "text": [
            "len(nodes): 237183\n",
            "metadata to be included None\n"
          ]
        }
      ],
      "source": [
        "nodes = load_from_pickle(\"nodes.pkl\")\n",
        "print(\"len(nodes):\", len(nodes))\n",
        "print(\n",
        "    \"metadata to be included\", SentenceSplitter()._get_metadata_str(nodes[0]) or \"None\"\n",
        ")"
      ]
    },
    {
      "cell_type": "markdown",
      "id": "71c49e0e",
      "metadata": {},
      "source": [
        "- ✅ `title` and `keywords` metadata will be included in embeddings\n"
      ]
    },
    {
      "cell_type": "markdown",
      "id": "c0232fd1",
      "metadata": {
        "id": "c0232fd1"
      },
      "source": [
        "### Create the vector store table\n"
      ]
    },
    {
      "cell_type": "code",
      "execution_count": 7,
      "id": "8731da62",
      "metadata": {
        "colab": {
          "referenced_widgets": [
            "55d642be4afd424dbeddcc98a6313baa",
            "4bedc19d901346dbafbeff1d25638562"
          ]
        },
        "id": "8731da62",
        "metadata": {},
        "outputId": "bc5f1134-e829-4357-9caa-f3012cc011be"
      },
      "outputs": [],
      "source": [
        "# nodes = load_from_pickle(\"nodes.pkl\")\n",
        "vector_store = PGVectorStore.from_params(\n",
        "    database=llamaindex_db,\n",
        "    host=host,\n",
        "    password=password,\n",
        "    port=port,\n",
        "    user=user,\n",
        "    embed_dim=1536,\n",
        "    schema_name=llamaindex_schema,\n",
        ")\n",
        "\n",
        "storage_context = StorageContext.from_defaults(\n",
        "    vector_store=vector_store,\n",
        ")"
      ]
    },
    {
      "cell_type": "code",
      "execution_count": 8,
      "id": "401716d9",
      "metadata": {},
      "outputs": [],
      "source": [
        "# create the table with a single entry\n",
        "index = VectorStoreIndex(nodes[:1], storage_context=storage_context)"
      ]
    },
    {
      "cell_type": "markdown",
      "id": "15962400",
      "metadata": {},
      "source": [
        "### Create the `hnsw` index on the vector store table\n"
      ]
    },
    {
      "cell_type": "code",
      "execution_count": 9,
      "id": "e7ad283b",
      "metadata": {
        "metadata": {}
      },
      "outputs": [],
      "source": [
        "connection_string = (\n",
        "    f\"dbname={llamaindex_db} \"\n",
        "    f\"user={user} \"\n",
        "    f\"password={password} \"\n",
        "    f\"host={host} \"\n",
        "    f\"port={port}\"\n",
        ")\n",
        "\n",
        "schema = Identifier(llamaindex_schema)\n",
        "index_query = SQL(\n",
        "    \"CREATE INDEX ON {}.data_llamaindex USING hnsw (embedding vector_cosine_ops)\"\n",
        ").format(schema)\n",
        "\n",
        "with psycopg.connect(connection_string) as conn:\n",
        "    conn.autocommit = True\n",
        "    with conn.cursor() as cur:\n",
        "        cur.execute(index_query)"
      ]
    },
    {
      "cell_type": "markdown",
      "id": "4f16df53",
      "metadata": {},
      "source": [
        "### Populate the vector store table\n"
      ]
    },
    {
      "cell_type": "code",
      "execution_count": null,
      "id": "43a46162",
      "metadata": {},
      "outputs": [],
      "source": [
        "index.insert_nodes(nodes[1:], show_progress=True)"
      ]
    }
  ],
  "metadata": {
    "colab": {
      "provenance": []
    },
    "kernelspec": {
      "display_name": "Python 3 (ipykernel)",
      "language": "python",
      "name": "python3"
    },
    "language_info": {
      "codemirror_mode": {
        "name": "ipython",
        "version": 3
      },
      "file_extension": ".py",
      "mimetype": "text/x-python",
      "name": "python",
      "nbconvert_exporter": "python",
      "pygments_lexer": "ipython3",
      "version": "3.11.8"
    }
  },
  "nbformat": 4,
  "nbformat_minor": 5
}
