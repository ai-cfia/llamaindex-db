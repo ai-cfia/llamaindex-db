{
  "cells": [
    {
      "cell_type": "code",
      "execution_count": 1,
      "id": "185c4378",
      "metadata": {},
      "outputs": [],
      "source": [
        "from llama_index.llms import AzureOpenAI\n",
        "from llama_index.embeddings import AzureOpenAIEmbedding\n",
        "from llama_index import VectorStoreIndex, SimpleDirectoryReader, ServiceContext\n",
        "import logging\n",
        "import sys\n",
        "from collections.abc import Iterator\n",
        "from sqlalchemy import make_url, create_engine, MetaData\n",
        "from llama_index import ServiceContext, SimpleDirectoryReader, StorageContext\n",
        "from llama_index.indices.vector_store import VectorStoreIndex\n",
        "from llama_index.vector_stores import PGVectorStore\n",
        "import textwrap\n",
        "import openai\n",
        "from llama_index import download_loader\n",
        "import os\n",
        "\n",
        "logging.basicConfig(\n",
        "    stream=sys.stdout, level=logging.INFO\n",
        ")  # logging.DEBUG for more verbose output\n",
        "logging.getLogger().addHandler(logging.StreamHandler(stream=sys.stdout))"
      ]
    },
    {
      "cell_type": "code",
      "execution_count": 2,
      "id": "9f52d78c",
      "metadata": {},
      "outputs": [],
      "source": [
        "# constants\n",
        "DEFAULT_LLM_MODEL=\"gpt-4\"\n",
        "DEFAULT_LLM_DEPLOYMENT_NAME=\"ailab-llm\"\n",
        "DEFAULT_EMBED_MODEL=\"text-embedding-ada-002\"\n",
        "DEFAULT_EMBED_DEPLOYMENT_NAME=\"ada\"\n"
      ]
    },
    {
      "cell_type": "code",
      "execution_count": 4,
      "id": "f7d09f04",
      "metadata": {},
      "outputs": [],
      "source": [
        "api_key = os.getenv(\"API_KEY\")\n",
        "azure_endpoint = os.getenv(\"AZURE_ENDPOINT\")\n",
        "api_version = os.getenv(\"API_VERSION\")\n",
        "\n",
        "# create llm and embedding model apis\n",
        "llm = AzureOpenAI(\n",
        "    model=os.getenv(\"LLM_MODEL\", DEFAULT_LLM_MODEL),\n",
        "    deployment_name=os.getenv(\"LLM_DEPLOYMENT_NAME\", DEFAULT_LLM_DEPLOYMENT_NAME),\n",
        "    api_key=api_key,\n",
        "    azure_endpoint=azure_endpoint,\n",
        "    api_version=api_version,\n",
        ")\n",
        "\n",
        "# You need to deploy your own embedding model as well as your own chat completion model\n",
        "embed_model = AzureOpenAIEmbedding(\n",
        "    model=os.getenv(\"EMBED_MODEL\", DEFAULT_EMBED_MODEL),\n",
        "    deployment_name=os.getenv(\"EMBED_DEPLOYMENT_NAME\", DEFAULT_EMBED_DEPLOYMENT_NAME),\n",
        "    api_key=api_key,\n",
        "    azure_endpoint=azure_endpoint,\n",
        "    api_version=api_version,\n",
        ")"
      ]
    },
    {
      "cell_type": "code",
      "execution_count": 5,
      "id": "a3d2a72e",
      "metadata": {},
      "outputs": [],
      "source": [
        "# create service with llm and embedding model\n",
        "from llama_index import set_global_service_context\n",
        "\n",
        "service_context = ServiceContext.from_defaults(\n",
        "    llm=llm,\n",
        "    embed_model=embed_model,\n",
        ")\n",
        "set_global_service_context(service_context)"
      ]
    },
    {
      "cell_type": "code",
      "execution_count": null,
      "id": "790bb47c",
      "metadata": {},
      "outputs": [],
      "source": [
        "# load document from directory if any. In this notebook we only connect to postgresql database as documents so it is commented out.\n",
        "# This documents can add .csv, .pdf, .docx and more https://docs.llamaindex.ai/en/stable/examples/data_connectors/simple_directory_reader.html\n",
        "\n",
        "# documents = SimpleDirectoryReader(\"./data/paul_graham\").load_data()"
      ]
    },
    {
      "cell_type": "code",
      "execution_count": null,
      "id": "f57165d9",
      "metadata": {},
      "outputs": [],
      "source": [
        "# Connect to postgresql database\n",
        "DatabaseReader = download_loader('DatabaseReader')\n",
        "reader = DatabaseReader(\n",
        "    scheme = os.getenv(\"DB_SCHEME\"), # Database Scheme\n",
        "    host = os.getenv(\"DB_HOST\"), # Database Host\n",
        "    port = os.getenv(\"DB_PORT\"), # Database Port\n",
        "    user = os.getenv(\"DB_USER\"), # Database User\n",
        "    password = os.getenv(\"DB_PASSWORD\"), # Database Password\n",
        "    dbname = os.getenv(\"DB_NAME\"), # Database Name\n",
        ")\n",
        "# Retrieve specified data from connected postgresql database \n",
        "query = f\"\"\"\n",
        "SELECT\n",
        "    text_content\n",
        "FROM \n",
        "    louis_v005.chunk\n",
        "WHERE\n",
        "    text_content IS NOT NULL;\n",
        "\"\"\"\n",
        "documents = reader.load_data(query=query)"
      ]
    },
    {
      "cell_type": "code",
      "execution_count": null,
      "id": "507c9626",
      "metadata": {},
      "outputs": [],
      "source": [
        "# create index for given documents\n",
        "service_context = ServiceContext.from_defaults(chunk_size=512) # control batch size \n",
        "index = VectorStoreIndex.from_documents(\n",
        "    documents, service_context=service_context, show_progress=True\n",
        ")"
      ]
    },
    {
      "cell_type": "code",
      "execution_count": null,
      "id": "57505b60",
      "metadata": {},
      "outputs": [],
      "source": [
        "# make a query\n",
        "query = \"Hello, how do I import my cat to Canada from France?\"\n",
        "query_engine = index.as_query_engine()\n",
        "answer = query_engine.query(query)\n",
        "\n",
        "print(answer.get_formatted_sources())\n",
        "print(\"query was:\", query)\n",
        "print(\"answer was:\", answer)"
      ]
    },
    {
      "cell_type": "code",
      "execution_count": null,
      "id": "edd90461",
      "metadata": {},
      "outputs": [],
      "source": []
    }
  ],
  "metadata": {
    "kernelspec": {
      "display_name": "Python 3",
      "language": "python",
      "name": "python3"
    },
    "language_info": {
      "codemirror_mode": {
        "name": "ipython",
        "version": 3
      },
      "file_extension": ".py",
      "mimetype": "text/x-python",
      "name": "python",
      "nbconvert_exporter": "python",
      "pygments_lexer": "ipython3",
      "version": "3.11.7"
    }
  },
  "nbformat": 4,
  "nbformat_minor": 5
}
