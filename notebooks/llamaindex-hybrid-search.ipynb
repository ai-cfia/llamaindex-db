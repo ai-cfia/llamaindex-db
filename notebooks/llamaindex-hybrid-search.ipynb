{
 "cells": [
  {
   "cell_type": "code",
   "execution_count": 11,
   "id": "802d71f5-dfaa-4cb3-adcc-199dee2a1972",
   "metadata": {},
   "outputs": [],
   "source": [
    "from llama_index.llms.azure_openai import AzureOpenAI\n",
    "from llama_index.embeddings.azure_openai import AzureOpenAIEmbedding\n",
    "from llama_index.core import VectorStoreIndex, SimpleDirectoryReader, ServiceContext\n",
    "import logging\n",
    "import sys\n",
    "from collections.abc import Iterator\n",
    "from sqlalchemy import make_url, create_engine, MetaData\n",
    "from llama_index.core import ServiceContext, SimpleDirectoryReader, StorageContext\n",
    "from llama_index.core import VectorStoreIndex\n",
    "#from llama_index.vector_stores import PGVectorStore\n",
    "import textwrap\n",
    "import openai\n",
    "from tqdm import tqdm\n",
    "# customize textnode - purpose is to add id to each node\n",
    "#from llama_index.schema import TextNode\n",
    "# customize stages of querying  https://docs.llamaindex.ai/en/latest/understanding/querying/querying.html\n",
    "from llama_index.core import get_response_synthesizer\n",
    "from llama_index.core.indices.vector_store.retrievers.retriever import VectorIndexRetriever\n",
    "from llama_index.core.query_engine import RetrieverQueryEngine\n",
    "from llama_index.core.postprocessor import SimilarityPostprocessor\n",
    "import pandas as pd\n",
    "\n",
    "logging.basicConfig(\n",
    "    stream=sys.stdout, level=logging.INFO\n",
    ")  # logging.DEBUG for more verbose output\n",
    "logging.getLogger().addHandler(logging.StreamHandler(stream=sys.stdout))\n",
    "pd.set_option('max_colwidth', 2000)"
   ]
  },
  {
   "cell_type": "code",
   "execution_count": 3,
   "id": "f7d09f04",
   "metadata": {},
   "outputs": [],
   "source": [
    "api_key = \"bac09550d21e4536b3aef7006af9d1bb\"\n",
    "azure_endpoint = \"https://azure-open-ai-common-infra.openai.azure.com/\"\n",
    "api_version = \"2023-07-01-preview\"\n",
    "\n",
    "# create llm and embedding model apis\n",
    "\n",
    "llm = AzureOpenAI(\n",
    "    model=\"gpt-4\",\n",
    "    deployment_name=\"ailab-llm\",\n",
    "    api_key=api_key,\n",
    "    azure_endpoint=azure_endpoint,\n",
    "    api_version=api_version,\n",
    ")\n",
    "\n",
    "# You need to deploy your own embedding model as well as your own chat completion model\n",
    "embed_model = AzureOpenAIEmbedding(\n",
    "    model=\"text-embedding-ada-002\",\n",
    "    deployment_name=\"ada\",\n",
    "    api_key=api_key,\n",
    "    azure_endpoint=azure_endpoint,\n",
    "    api_version=api_version,\n",
    ")"
   ]
  },
  {
   "cell_type": "code",
   "execution_count": 4,
   "id": "a3d2a72e",
   "metadata": {},
   "outputs": [
    {
     "name": "stderr",
     "output_type": "stream",
     "text": [
      "C:\\Users\\leeto\\AppData\\Local\\Temp\\ipykernel_21916\\461982355.py:4: DeprecationWarning: Call to deprecated class method from_defaults. (ServiceContext is deprecated, please use `llama_index.settings.Settings` instead.) -- Deprecated since version 0.10.0.\n",
      "  service_context = ServiceContext.from_defaults(\n"
     ]
    }
   ],
   "source": [
    "# create service with llm and embedding model\n",
    "from llama_index.core import set_global_service_context\n",
    "\n",
    "service_context = ServiceContext.from_defaults(\n",
    "    llm=llm,\n",
    "    embed_model=embed_model,\n",
    ")\n",
    "set_global_service_context(service_context)"
   ]
  },
  {
   "cell_type": "code",
   "execution_count": 7,
   "id": "d9933b37",
   "metadata": {},
   "outputs": [],
   "source": [
    "# we need to write metadata for each document. In this example we do it looping a csv file\n",
    "# customize document - https://docs.llamaindex.ai/en/latest/module_guides/loading/documents_and_nodes/usage_documents.html\n",
    "import pandas as pd\n",
    "from llama_index.core.schema import Document\n",
    "df = pd.read_csv('./data/document_test/document_np_embedding_cluster.csv', encoding='utf-8-sig')"
   ]
  },
  {
   "cell_type": "code",
   "execution_count": 6,
   "id": "3e6461a8-18be-47bf-8f43-005258ac228e",
   "metadata": {},
   "outputs": [
    {
     "data": {
      "text/plain": [
       "Index(['Unnamed: 0', 'id', 'title', 'subtitle', 'content', 'embedding',\n",
       "       'score', 'cluster'],\n",
       "      dtype='object')"
      ]
     },
     "execution_count": 6,
     "metadata": {},
     "output_type": "execute_result"
    }
   ],
   "source": [
    "df.columns"
   ]
  },
  {
   "cell_type": "code",
   "execution_count": 70,
   "id": "ac00bd2e-6d34-49f7-b2a9-b36747e89665",
   "metadata": {},
   "outputs": [
    {
     "name": "stderr",
     "output_type": "stream",
     "text": [
      "100%|████████████████████████████████████████████████████████████████████████| 103836/103836 [00:55<00:00, 1860.40it/s]\n"
     ]
    }
   ],
   "source": [
    "docs = []\n",
    "# create list of document llama_index.schema items\n",
    "from tqdm import tqdm\n",
    "for i in tqdm(range(len(df))):\n",
    "    curr = df.iloc[i]\n",
    "    # extra_info takes meta data such as id, title, etc\n",
    "    node = Document(text=curr['content'],  metadata={'id_':curr['id'],'title':curr['title'], 'subtitle':curr['subtitle']})\n",
    "    docs.append(node)\n"
   ]
  },
  {
   "cell_type": "code",
   "execution_count": 71,
   "id": "e2b05b85-5389-460b-b0fc-7c5252a8ca53",
   "metadata": {},
   "outputs": [
    {
     "name": "stderr",
     "output_type": "stream",
     "text": [
      "C:\\Users\\leeto\\AppData\\Local\\Temp\\ipykernel_21916\\3407459272.py:6: DeprecationWarning: Call to deprecated class method from_defaults. (ServiceContext is deprecated, please use `llama_index.settings.Settings` instead.) -- Deprecated since version 0.10.0.\n",
      "  service_context = ServiceContext.from_defaults(chunk_size=512) # control batch size\n"
     ]
    },
    {
     "data": {
      "application/vnd.jupyter.widget-view+json": {
       "model_id": "52481e52f17941f1b8e214499e916609",
       "version_major": 2,
       "version_minor": 0
      },
      "text/plain": [
       "Parsing nodes:   0%|          | 0/1000 [00:00<?, ?it/s]"
      ]
     },
     "metadata": {},
     "output_type": "display_data"
    },
    {
     "data": {
      "application/vnd.jupyter.widget-view+json": {
       "model_id": "60bd1948d17a4a03b2f2e20f153377a6",
       "version_major": 2,
       "version_minor": 0
      },
      "text/plain": [
       "Generating embeddings:   0%|          | 0/1003 [00:00<?, ?it/s]"
      ]
     },
     "metadata": {},
     "output_type": "display_data"
    },
    {
     "name": "stdout",
     "output_type": "stream",
     "text": [
      "INFO:httpx:HTTP Request: POST https://azure-open-ai-common-infra.openai.azure.com//openai/deployments/ada/embeddings?api-version=2023-07-01-preview \"HTTP/1.1 200 OK\"\n",
      "HTTP Request: POST https://azure-open-ai-common-infra.openai.azure.com//openai/deployments/ada/embeddings?api-version=2023-07-01-preview \"HTTP/1.1 200 OK\"\n",
      "HTTP Request: POST https://azure-open-ai-common-infra.openai.azure.com//openai/deployments/ada/embeddings?api-version=2023-07-01-preview \"HTTP/1.1 200 OK\"\n",
      "INFO:httpx:HTTP Request: POST https://azure-open-ai-common-infra.openai.azure.com//openai/deployments/ada/embeddings?api-version=2023-07-01-preview \"HTTP/1.1 200 OK\"\n",
      "HTTP Request: POST https://azure-open-ai-common-infra.openai.azure.com//openai/deployments/ada/embeddings?api-version=2023-07-01-preview \"HTTP/1.1 200 OK\"\n",
      "HTTP Request: POST https://azure-open-ai-common-infra.openai.azure.com//openai/deployments/ada/embeddings?api-version=2023-07-01-preview \"HTTP/1.1 200 OK\"\n",
      "INFO:httpx:HTTP Request: POST https://azure-open-ai-common-infra.openai.azure.com//openai/deployments/ada/embeddings?api-version=2023-07-01-preview \"HTTP/1.1 200 OK\"\n",
      "HTTP Request: POST https://azure-open-ai-common-infra.openai.azure.com//openai/deployments/ada/embeddings?api-version=2023-07-01-preview \"HTTP/1.1 200 OK\"\n",
      "HTTP Request: POST https://azure-open-ai-common-infra.openai.azure.com//openai/deployments/ada/embeddings?api-version=2023-07-01-preview \"HTTP/1.1 200 OK\"\n",
      "INFO:httpx:HTTP Request: POST https://azure-open-ai-common-infra.openai.azure.com//openai/deployments/ada/embeddings?api-version=2023-07-01-preview \"HTTP/1.1 200 OK\"\n",
      "HTTP Request: POST https://azure-open-ai-common-infra.openai.azure.com//openai/deployments/ada/embeddings?api-version=2023-07-01-preview \"HTTP/1.1 200 OK\"\n",
      "HTTP Request: POST https://azure-open-ai-common-infra.openai.azure.com//openai/deployments/ada/embeddings?api-version=2023-07-01-preview \"HTTP/1.1 200 OK\"\n",
      "INFO:httpx:HTTP Request: POST https://azure-open-ai-common-infra.openai.azure.com//openai/deployments/ada/embeddings?api-version=2023-07-01-preview \"HTTP/1.1 200 OK\"\n",
      "HTTP Request: POST https://azure-open-ai-common-infra.openai.azure.com//openai/deployments/ada/embeddings?api-version=2023-07-01-preview \"HTTP/1.1 200 OK\"\n",
      "HTTP Request: POST https://azure-open-ai-common-infra.openai.azure.com//openai/deployments/ada/embeddings?api-version=2023-07-01-preview \"HTTP/1.1 200 OK\"\n",
      "INFO:httpx:HTTP Request: POST https://azure-open-ai-common-infra.openai.azure.com//openai/deployments/ada/embeddings?api-version=2023-07-01-preview \"HTTP/1.1 200 OK\"\n",
      "HTTP Request: POST https://azure-open-ai-common-infra.openai.azure.com//openai/deployments/ada/embeddings?api-version=2023-07-01-preview \"HTTP/1.1 200 OK\"\n",
      "HTTP Request: POST https://azure-open-ai-common-infra.openai.azure.com//openai/deployments/ada/embeddings?api-version=2023-07-01-preview \"HTTP/1.1 200 OK\"\n",
      "INFO:httpx:HTTP Request: POST https://azure-open-ai-common-infra.openai.azure.com//openai/deployments/ada/embeddings?api-version=2023-07-01-preview \"HTTP/1.1 200 OK\"\n",
      "HTTP Request: POST https://azure-open-ai-common-infra.openai.azure.com//openai/deployments/ada/embeddings?api-version=2023-07-01-preview \"HTTP/1.1 200 OK\"\n",
      "HTTP Request: POST https://azure-open-ai-common-infra.openai.azure.com//openai/deployments/ada/embeddings?api-version=2023-07-01-preview \"HTTP/1.1 200 OK\"\n",
      "INFO:httpx:HTTP Request: POST https://azure-open-ai-common-infra.openai.azure.com//openai/deployments/ada/embeddings?api-version=2023-07-01-preview \"HTTP/1.1 200 OK\"\n",
      "HTTP Request: POST https://azure-open-ai-common-infra.openai.azure.com//openai/deployments/ada/embeddings?api-version=2023-07-01-preview \"HTTP/1.1 200 OK\"\n",
      "HTTP Request: POST https://azure-open-ai-common-infra.openai.azure.com//openai/deployments/ada/embeddings?api-version=2023-07-01-preview \"HTTP/1.1 200 OK\"\n",
      "INFO:httpx:HTTP Request: POST https://azure-open-ai-common-infra.openai.azure.com//openai/deployments/ada/embeddings?api-version=2023-07-01-preview \"HTTP/1.1 200 OK\"\n",
      "HTTP Request: POST https://azure-open-ai-common-infra.openai.azure.com//openai/deployments/ada/embeddings?api-version=2023-07-01-preview \"HTTP/1.1 200 OK\"\n",
      "HTTP Request: POST https://azure-open-ai-common-infra.openai.azure.com//openai/deployments/ada/embeddings?api-version=2023-07-01-preview \"HTTP/1.1 200 OK\"\n",
      "INFO:httpx:HTTP Request: POST https://azure-open-ai-common-infra.openai.azure.com//openai/deployments/ada/embeddings?api-version=2023-07-01-preview \"HTTP/1.1 200 OK\"\n",
      "HTTP Request: POST https://azure-open-ai-common-infra.openai.azure.com//openai/deployments/ada/embeddings?api-version=2023-07-01-preview \"HTTP/1.1 200 OK\"\n",
      "HTTP Request: POST https://azure-open-ai-common-infra.openai.azure.com//openai/deployments/ada/embeddings?api-version=2023-07-01-preview \"HTTP/1.1 200 OK\"\n",
      "INFO:httpx:HTTP Request: POST https://azure-open-ai-common-infra.openai.azure.com//openai/deployments/ada/embeddings?api-version=2023-07-01-preview \"HTTP/1.1 200 OK\"\n",
      "HTTP Request: POST https://azure-open-ai-common-infra.openai.azure.com//openai/deployments/ada/embeddings?api-version=2023-07-01-preview \"HTTP/1.1 200 OK\"\n",
      "HTTP Request: POST https://azure-open-ai-common-infra.openai.azure.com//openai/deployments/ada/embeddings?api-version=2023-07-01-preview \"HTTP/1.1 200 OK\"\n",
      "INFO:httpx:HTTP Request: POST https://azure-open-ai-common-infra.openai.azure.com//openai/deployments/ada/embeddings?api-version=2023-07-01-preview \"HTTP/1.1 200 OK\"\n",
      "HTTP Request: POST https://azure-open-ai-common-infra.openai.azure.com//openai/deployments/ada/embeddings?api-version=2023-07-01-preview \"HTTP/1.1 200 OK\"\n",
      "HTTP Request: POST https://azure-open-ai-common-infra.openai.azure.com//openai/deployments/ada/embeddings?api-version=2023-07-01-preview \"HTTP/1.1 200 OK\"\n",
      "INFO:httpx:HTTP Request: POST https://azure-open-ai-common-infra.openai.azure.com//openai/deployments/ada/embeddings?api-version=2023-07-01-preview \"HTTP/1.1 200 OK\"\n",
      "HTTP Request: POST https://azure-open-ai-common-infra.openai.azure.com//openai/deployments/ada/embeddings?api-version=2023-07-01-preview \"HTTP/1.1 200 OK\"\n",
      "HTTP Request: POST https://azure-open-ai-common-infra.openai.azure.com//openai/deployments/ada/embeddings?api-version=2023-07-01-preview \"HTTP/1.1 200 OK\"\n",
      "INFO:httpx:HTTP Request: POST https://azure-open-ai-common-infra.openai.azure.com//openai/deployments/ada/embeddings?api-version=2023-07-01-preview \"HTTP/1.1 200 OK\"\n",
      "HTTP Request: POST https://azure-open-ai-common-infra.openai.azure.com//openai/deployments/ada/embeddings?api-version=2023-07-01-preview \"HTTP/1.1 200 OK\"\n",
      "HTTP Request: POST https://azure-open-ai-common-infra.openai.azure.com//openai/deployments/ada/embeddings?api-version=2023-07-01-preview \"HTTP/1.1 200 OK\"\n",
      "INFO:httpx:HTTP Request: POST https://azure-open-ai-common-infra.openai.azure.com//openai/deployments/ada/embeddings?api-version=2023-07-01-preview \"HTTP/1.1 200 OK\"\n",
      "HTTP Request: POST https://azure-open-ai-common-infra.openai.azure.com//openai/deployments/ada/embeddings?api-version=2023-07-01-preview \"HTTP/1.1 200 OK\"\n",
      "HTTP Request: POST https://azure-open-ai-common-infra.openai.azure.com//openai/deployments/ada/embeddings?api-version=2023-07-01-preview \"HTTP/1.1 200 OK\"\n",
      "INFO:httpx:HTTP Request: POST https://azure-open-ai-common-infra.openai.azure.com//openai/deployments/ada/embeddings?api-version=2023-07-01-preview \"HTTP/1.1 200 OK\"\n",
      "HTTP Request: POST https://azure-open-ai-common-infra.openai.azure.com//openai/deployments/ada/embeddings?api-version=2023-07-01-preview \"HTTP/1.1 200 OK\"\n",
      "HTTP Request: POST https://azure-open-ai-common-infra.openai.azure.com//openai/deployments/ada/embeddings?api-version=2023-07-01-preview \"HTTP/1.1 200 OK\"\n",
      "INFO:httpx:HTTP Request: POST https://azure-open-ai-common-infra.openai.azure.com//openai/deployments/ada/embeddings?api-version=2023-07-01-preview \"HTTP/1.1 200 OK\"\n",
      "HTTP Request: POST https://azure-open-ai-common-infra.openai.azure.com//openai/deployments/ada/embeddings?api-version=2023-07-01-preview \"HTTP/1.1 200 OK\"\n",
      "HTTP Request: POST https://azure-open-ai-common-infra.openai.azure.com//openai/deployments/ada/embeddings?api-version=2023-07-01-preview \"HTTP/1.1 200 OK\"\n",
      "INFO:httpx:HTTP Request: POST https://azure-open-ai-common-infra.openai.azure.com//openai/deployments/ada/embeddings?api-version=2023-07-01-preview \"HTTP/1.1 200 OK\"\n",
      "HTTP Request: POST https://azure-open-ai-common-infra.openai.azure.com//openai/deployments/ada/embeddings?api-version=2023-07-01-preview \"HTTP/1.1 200 OK\"\n",
      "HTTP Request: POST https://azure-open-ai-common-infra.openai.azure.com//openai/deployments/ada/embeddings?api-version=2023-07-01-preview \"HTTP/1.1 200 OK\"\n",
      "INFO:httpx:HTTP Request: POST https://azure-open-ai-common-infra.openai.azure.com//openai/deployments/ada/embeddings?api-version=2023-07-01-preview \"HTTP/1.1 200 OK\"\n",
      "HTTP Request: POST https://azure-open-ai-common-infra.openai.azure.com//openai/deployments/ada/embeddings?api-version=2023-07-01-preview \"HTTP/1.1 200 OK\"\n",
      "HTTP Request: POST https://azure-open-ai-common-infra.openai.azure.com//openai/deployments/ada/embeddings?api-version=2023-07-01-preview \"HTTP/1.1 200 OK\"\n",
      "INFO:httpx:HTTP Request: POST https://azure-open-ai-common-infra.openai.azure.com//openai/deployments/ada/embeddings?api-version=2023-07-01-preview \"HTTP/1.1 200 OK\"\n",
      "HTTP Request: POST https://azure-open-ai-common-infra.openai.azure.com//openai/deployments/ada/embeddings?api-version=2023-07-01-preview \"HTTP/1.1 200 OK\"\n",
      "HTTP Request: POST https://azure-open-ai-common-infra.openai.azure.com//openai/deployments/ada/embeddings?api-version=2023-07-01-preview \"HTTP/1.1 200 OK\"\n",
      "INFO:httpx:HTTP Request: POST https://azure-open-ai-common-infra.openai.azure.com//openai/deployments/ada/embeddings?api-version=2023-07-01-preview \"HTTP/1.1 200 OK\"\n",
      "HTTP Request: POST https://azure-open-ai-common-infra.openai.azure.com//openai/deployments/ada/embeddings?api-version=2023-07-01-preview \"HTTP/1.1 200 OK\"\n",
      "HTTP Request: POST https://azure-open-ai-common-infra.openai.azure.com//openai/deployments/ada/embeddings?api-version=2023-07-01-preview \"HTTP/1.1 200 OK\"\n",
      "INFO:httpx:HTTP Request: POST https://azure-open-ai-common-infra.openai.azure.com//openai/deployments/ada/embeddings?api-version=2023-07-01-preview \"HTTP/1.1 200 OK\"\n",
      "HTTP Request: POST https://azure-open-ai-common-infra.openai.azure.com//openai/deployments/ada/embeddings?api-version=2023-07-01-preview \"HTTP/1.1 200 OK\"\n",
      "HTTP Request: POST https://azure-open-ai-common-infra.openai.azure.com//openai/deployments/ada/embeddings?api-version=2023-07-01-preview \"HTTP/1.1 200 OK\"\n",
      "INFO:httpx:HTTP Request: POST https://azure-open-ai-common-infra.openai.azure.com//openai/deployments/ada/embeddings?api-version=2023-07-01-preview \"HTTP/1.1 200 OK\"\n",
      "HTTP Request: POST https://azure-open-ai-common-infra.openai.azure.com//openai/deployments/ada/embeddings?api-version=2023-07-01-preview \"HTTP/1.1 200 OK\"\n",
      "HTTP Request: POST https://azure-open-ai-common-infra.openai.azure.com//openai/deployments/ada/embeddings?api-version=2023-07-01-preview \"HTTP/1.1 200 OK\"\n",
      "INFO:httpx:HTTP Request: POST https://azure-open-ai-common-infra.openai.azure.com//openai/deployments/ada/embeddings?api-version=2023-07-01-preview \"HTTP/1.1 200 OK\"\n",
      "HTTP Request: POST https://azure-open-ai-common-infra.openai.azure.com//openai/deployments/ada/embeddings?api-version=2023-07-01-preview \"HTTP/1.1 200 OK\"\n",
      "HTTP Request: POST https://azure-open-ai-common-infra.openai.azure.com//openai/deployments/ada/embeddings?api-version=2023-07-01-preview \"HTTP/1.1 200 OK\"\n",
      "INFO:httpx:HTTP Request: POST https://azure-open-ai-common-infra.openai.azure.com//openai/deployments/ada/embeddings?api-version=2023-07-01-preview \"HTTP/1.1 200 OK\"\n",
      "HTTP Request: POST https://azure-open-ai-common-infra.openai.azure.com//openai/deployments/ada/embeddings?api-version=2023-07-01-preview \"HTTP/1.1 200 OK\"\n",
      "HTTP Request: POST https://azure-open-ai-common-infra.openai.azure.com//openai/deployments/ada/embeddings?api-version=2023-07-01-preview \"HTTP/1.1 200 OK\"\n",
      "INFO:httpx:HTTP Request: POST https://azure-open-ai-common-infra.openai.azure.com//openai/deployments/ada/embeddings?api-version=2023-07-01-preview \"HTTP/1.1 200 OK\"\n",
      "HTTP Request: POST https://azure-open-ai-common-infra.openai.azure.com//openai/deployments/ada/embeddings?api-version=2023-07-01-preview \"HTTP/1.1 200 OK\"\n",
      "HTTP Request: POST https://azure-open-ai-common-infra.openai.azure.com//openai/deployments/ada/embeddings?api-version=2023-07-01-preview \"HTTP/1.1 200 OK\"\n",
      "INFO:httpx:HTTP Request: POST https://azure-open-ai-common-infra.openai.azure.com//openai/deployments/ada/embeddings?api-version=2023-07-01-preview \"HTTP/1.1 200 OK\"\n",
      "HTTP Request: POST https://azure-open-ai-common-infra.openai.azure.com//openai/deployments/ada/embeddings?api-version=2023-07-01-preview \"HTTP/1.1 200 OK\"\n",
      "HTTP Request: POST https://azure-open-ai-common-infra.openai.azure.com//openai/deployments/ada/embeddings?api-version=2023-07-01-preview \"HTTP/1.1 200 OK\"\n",
      "INFO:httpx:HTTP Request: POST https://azure-open-ai-common-infra.openai.azure.com//openai/deployments/ada/embeddings?api-version=2023-07-01-preview \"HTTP/1.1 200 OK\"\n",
      "HTTP Request: POST https://azure-open-ai-common-infra.openai.azure.com//openai/deployments/ada/embeddings?api-version=2023-07-01-preview \"HTTP/1.1 200 OK\"\n",
      "HTTP Request: POST https://azure-open-ai-common-infra.openai.azure.com//openai/deployments/ada/embeddings?api-version=2023-07-01-preview \"HTTP/1.1 200 OK\"\n",
      "INFO:httpx:HTTP Request: POST https://azure-open-ai-common-infra.openai.azure.com//openai/deployments/ada/embeddings?api-version=2023-07-01-preview \"HTTP/1.1 200 OK\"\n",
      "HTTP Request: POST https://azure-open-ai-common-infra.openai.azure.com//openai/deployments/ada/embeddings?api-version=2023-07-01-preview \"HTTP/1.1 200 OK\"\n",
      "HTTP Request: POST https://azure-open-ai-common-infra.openai.azure.com//openai/deployments/ada/embeddings?api-version=2023-07-01-preview \"HTTP/1.1 200 OK\"\n",
      "INFO:httpx:HTTP Request: POST https://azure-open-ai-common-infra.openai.azure.com//openai/deployments/ada/embeddings?api-version=2023-07-01-preview \"HTTP/1.1 200 OK\"\n",
      "HTTP Request: POST https://azure-open-ai-common-infra.openai.azure.com//openai/deployments/ada/embeddings?api-version=2023-07-01-preview \"HTTP/1.1 200 OK\"\n",
      "HTTP Request: POST https://azure-open-ai-common-infra.openai.azure.com//openai/deployments/ada/embeddings?api-version=2023-07-01-preview \"HTTP/1.1 200 OK\"\n",
      "INFO:httpx:HTTP Request: POST https://azure-open-ai-common-infra.openai.azure.com//openai/deployments/ada/embeddings?api-version=2023-07-01-preview \"HTTP/1.1 200 OK\"\n",
      "HTTP Request: POST https://azure-open-ai-common-infra.openai.azure.com//openai/deployments/ada/embeddings?api-version=2023-07-01-preview \"HTTP/1.1 200 OK\"\n",
      "HTTP Request: POST https://azure-open-ai-common-infra.openai.azure.com//openai/deployments/ada/embeddings?api-version=2023-07-01-preview \"HTTP/1.1 200 OK\"\n",
      "INFO:httpx:HTTP Request: POST https://azure-open-ai-common-infra.openai.azure.com//openai/deployments/ada/embeddings?api-version=2023-07-01-preview \"HTTP/1.1 200 OK\"\n",
      "HTTP Request: POST https://azure-open-ai-common-infra.openai.azure.com//openai/deployments/ada/embeddings?api-version=2023-07-01-preview \"HTTP/1.1 200 OK\"\n",
      "HTTP Request: POST https://azure-open-ai-common-infra.openai.azure.com//openai/deployments/ada/embeddings?api-version=2023-07-01-preview \"HTTP/1.1 200 OK\"\n",
      "INFO:httpx:HTTP Request: POST https://azure-open-ai-common-infra.openai.azure.com//openai/deployments/ada/embeddings?api-version=2023-07-01-preview \"HTTP/1.1 200 OK\"\n",
      "HTTP Request: POST https://azure-open-ai-common-infra.openai.azure.com//openai/deployments/ada/embeddings?api-version=2023-07-01-preview \"HTTP/1.1 200 OK\"\n",
      "HTTP Request: POST https://azure-open-ai-common-infra.openai.azure.com//openai/deployments/ada/embeddings?api-version=2023-07-01-preview \"HTTP/1.1 200 OK\"\n",
      "INFO:httpx:HTTP Request: POST https://azure-open-ai-common-infra.openai.azure.com//openai/deployments/ada/embeddings?api-version=2023-07-01-preview \"HTTP/1.1 200 OK\"\n",
      "HTTP Request: POST https://azure-open-ai-common-infra.openai.azure.com//openai/deployments/ada/embeddings?api-version=2023-07-01-preview \"HTTP/1.1 200 OK\"\n",
      "HTTP Request: POST https://azure-open-ai-common-infra.openai.azure.com//openai/deployments/ada/embeddings?api-version=2023-07-01-preview \"HTTP/1.1 200 OK\"\n",
      "INFO:httpx:HTTP Request: POST https://azure-open-ai-common-infra.openai.azure.com//openai/deployments/ada/embeddings?api-version=2023-07-01-preview \"HTTP/1.1 200 OK\"\n",
      "HTTP Request: POST https://azure-open-ai-common-infra.openai.azure.com//openai/deployments/ada/embeddings?api-version=2023-07-01-preview \"HTTP/1.1 200 OK\"\n",
      "HTTP Request: POST https://azure-open-ai-common-infra.openai.azure.com//openai/deployments/ada/embeddings?api-version=2023-07-01-preview \"HTTP/1.1 200 OK\"\n",
      "INFO:httpx:HTTP Request: POST https://azure-open-ai-common-infra.openai.azure.com//openai/deployments/ada/embeddings?api-version=2023-07-01-preview \"HTTP/1.1 200 OK\"\n",
      "HTTP Request: POST https://azure-open-ai-common-infra.openai.azure.com//openai/deployments/ada/embeddings?api-version=2023-07-01-preview \"HTTP/1.1 200 OK\"\n",
      "HTTP Request: POST https://azure-open-ai-common-infra.openai.azure.com//openai/deployments/ada/embeddings?api-version=2023-07-01-preview \"HTTP/1.1 200 OK\"\n",
      "INFO:httpx:HTTP Request: POST https://azure-open-ai-common-infra.openai.azure.com//openai/deployments/ada/embeddings?api-version=2023-07-01-preview \"HTTP/1.1 200 OK\"\n",
      "HTTP Request: POST https://azure-open-ai-common-infra.openai.azure.com//openai/deployments/ada/embeddings?api-version=2023-07-01-preview \"HTTP/1.1 200 OK\"\n",
      "HTTP Request: POST https://azure-open-ai-common-infra.openai.azure.com//openai/deployments/ada/embeddings?api-version=2023-07-01-preview \"HTTP/1.1 200 OK\"\n",
      "INFO:httpx:HTTP Request: POST https://azure-open-ai-common-infra.openai.azure.com//openai/deployments/ada/embeddings?api-version=2023-07-01-preview \"HTTP/1.1 200 OK\"\n",
      "HTTP Request: POST https://azure-open-ai-common-infra.openai.azure.com//openai/deployments/ada/embeddings?api-version=2023-07-01-preview \"HTTP/1.1 200 OK\"\n",
      "HTTP Request: POST https://azure-open-ai-common-infra.openai.azure.com//openai/deployments/ada/embeddings?api-version=2023-07-01-preview \"HTTP/1.1 200 OK\"\n",
      "INFO:httpx:HTTP Request: POST https://azure-open-ai-common-infra.openai.azure.com//openai/deployments/ada/embeddings?api-version=2023-07-01-preview \"HTTP/1.1 200 OK\"\n",
      "HTTP Request: POST https://azure-open-ai-common-infra.openai.azure.com//openai/deployments/ada/embeddings?api-version=2023-07-01-preview \"HTTP/1.1 200 OK\"\n",
      "HTTP Request: POST https://azure-open-ai-common-infra.openai.azure.com//openai/deployments/ada/embeddings?api-version=2023-07-01-preview \"HTTP/1.1 200 OK\"\n",
      "INFO:httpx:HTTP Request: POST https://azure-open-ai-common-infra.openai.azure.com//openai/deployments/ada/embeddings?api-version=2023-07-01-preview \"HTTP/1.1 200 OK\"\n",
      "HTTP Request: POST https://azure-open-ai-common-infra.openai.azure.com//openai/deployments/ada/embeddings?api-version=2023-07-01-preview \"HTTP/1.1 200 OK\"\n",
      "HTTP Request: POST https://azure-open-ai-common-infra.openai.azure.com//openai/deployments/ada/embeddings?api-version=2023-07-01-preview \"HTTP/1.1 200 OK\"\n",
      "INFO:httpx:HTTP Request: POST https://azure-open-ai-common-infra.openai.azure.com//openai/deployments/ada/embeddings?api-version=2023-07-01-preview \"HTTP/1.1 200 OK\"\n",
      "HTTP Request: POST https://azure-open-ai-common-infra.openai.azure.com//openai/deployments/ada/embeddings?api-version=2023-07-01-preview \"HTTP/1.1 200 OK\"\n",
      "HTTP Request: POST https://azure-open-ai-common-infra.openai.azure.com//openai/deployments/ada/embeddings?api-version=2023-07-01-preview \"HTTP/1.1 200 OK\"\n",
      "INFO:httpx:HTTP Request: POST https://azure-open-ai-common-infra.openai.azure.com//openai/deployments/ada/embeddings?api-version=2023-07-01-preview \"HTTP/1.1 200 OK\"\n",
      "HTTP Request: POST https://azure-open-ai-common-infra.openai.azure.com//openai/deployments/ada/embeddings?api-version=2023-07-01-preview \"HTTP/1.1 200 OK\"\n",
      "HTTP Request: POST https://azure-open-ai-common-infra.openai.azure.com//openai/deployments/ada/embeddings?api-version=2023-07-01-preview \"HTTP/1.1 200 OK\"\n",
      "INFO:httpx:HTTP Request: POST https://azure-open-ai-common-infra.openai.azure.com//openai/deployments/ada/embeddings?api-version=2023-07-01-preview \"HTTP/1.1 200 OK\"\n",
      "HTTP Request: POST https://azure-open-ai-common-infra.openai.azure.com//openai/deployments/ada/embeddings?api-version=2023-07-01-preview \"HTTP/1.1 200 OK\"\n",
      "HTTP Request: POST https://azure-open-ai-common-infra.openai.azure.com//openai/deployments/ada/embeddings?api-version=2023-07-01-preview \"HTTP/1.1 200 OK\"\n",
      "INFO:httpx:HTTP Request: POST https://azure-open-ai-common-infra.openai.azure.com//openai/deployments/ada/embeddings?api-version=2023-07-01-preview \"HTTP/1.1 200 OK\"\n",
      "HTTP Request: POST https://azure-open-ai-common-infra.openai.azure.com//openai/deployments/ada/embeddings?api-version=2023-07-01-preview \"HTTP/1.1 200 OK\"\n",
      "HTTP Request: POST https://azure-open-ai-common-infra.openai.azure.com//openai/deployments/ada/embeddings?api-version=2023-07-01-preview \"HTTP/1.1 200 OK\"\n",
      "INFO:httpx:HTTP Request: POST https://azure-open-ai-common-infra.openai.azure.com//openai/deployments/ada/embeddings?api-version=2023-07-01-preview \"HTTP/1.1 200 OK\"\n",
      "HTTP Request: POST https://azure-open-ai-common-infra.openai.azure.com//openai/deployments/ada/embeddings?api-version=2023-07-01-preview \"HTTP/1.1 200 OK\"\n",
      "HTTP Request: POST https://azure-open-ai-common-infra.openai.azure.com//openai/deployments/ada/embeddings?api-version=2023-07-01-preview \"HTTP/1.1 200 OK\"\n",
      "INFO:httpx:HTTP Request: POST https://azure-open-ai-common-infra.openai.azure.com//openai/deployments/ada/embeddings?api-version=2023-07-01-preview \"HTTP/1.1 200 OK\"\n",
      "HTTP Request: POST https://azure-open-ai-common-infra.openai.azure.com//openai/deployments/ada/embeddings?api-version=2023-07-01-preview \"HTTP/1.1 200 OK\"\n",
      "HTTP Request: POST https://azure-open-ai-common-infra.openai.azure.com//openai/deployments/ada/embeddings?api-version=2023-07-01-preview \"HTTP/1.1 200 OK\"\n",
      "INFO:httpx:HTTP Request: POST https://azure-open-ai-common-infra.openai.azure.com//openai/deployments/ada/embeddings?api-version=2023-07-01-preview \"HTTP/1.1 200 OK\"\n",
      "HTTP Request: POST https://azure-open-ai-common-infra.openai.azure.com//openai/deployments/ada/embeddings?api-version=2023-07-01-preview \"HTTP/1.1 200 OK\"\n",
      "HTTP Request: POST https://azure-open-ai-common-infra.openai.azure.com//openai/deployments/ada/embeddings?api-version=2023-07-01-preview \"HTTP/1.1 200 OK\"\n",
      "INFO:httpx:HTTP Request: POST https://azure-open-ai-common-infra.openai.azure.com//openai/deployments/ada/embeddings?api-version=2023-07-01-preview \"HTTP/1.1 200 OK\"\n",
      "HTTP Request: POST https://azure-open-ai-common-infra.openai.azure.com//openai/deployments/ada/embeddings?api-version=2023-07-01-preview \"HTTP/1.1 200 OK\"\n",
      "HTTP Request: POST https://azure-open-ai-common-infra.openai.azure.com//openai/deployments/ada/embeddings?api-version=2023-07-01-preview \"HTTP/1.1 200 OK\"\n",
      "INFO:httpx:HTTP Request: POST https://azure-open-ai-common-infra.openai.azure.com//openai/deployments/ada/embeddings?api-version=2023-07-01-preview \"HTTP/1.1 200 OK\"\n",
      "HTTP Request: POST https://azure-open-ai-common-infra.openai.azure.com//openai/deployments/ada/embeddings?api-version=2023-07-01-preview \"HTTP/1.1 200 OK\"\n",
      "HTTP Request: POST https://azure-open-ai-common-infra.openai.azure.com//openai/deployments/ada/embeddings?api-version=2023-07-01-preview \"HTTP/1.1 200 OK\"\n",
      "INFO:httpx:HTTP Request: POST https://azure-open-ai-common-infra.openai.azure.com//openai/deployments/ada/embeddings?api-version=2023-07-01-preview \"HTTP/1.1 200 OK\"\n",
      "HTTP Request: POST https://azure-open-ai-common-infra.openai.azure.com//openai/deployments/ada/embeddings?api-version=2023-07-01-preview \"HTTP/1.1 200 OK\"\n",
      "HTTP Request: POST https://azure-open-ai-common-infra.openai.azure.com//openai/deployments/ada/embeddings?api-version=2023-07-01-preview \"HTTP/1.1 200 OK\"\n",
      "INFO:httpx:HTTP Request: POST https://azure-open-ai-common-infra.openai.azure.com//openai/deployments/ada/embeddings?api-version=2023-07-01-preview \"HTTP/1.1 200 OK\"\n",
      "HTTP Request: POST https://azure-open-ai-common-infra.openai.azure.com//openai/deployments/ada/embeddings?api-version=2023-07-01-preview \"HTTP/1.1 200 OK\"\n",
      "HTTP Request: POST https://azure-open-ai-common-infra.openai.azure.com//openai/deployments/ada/embeddings?api-version=2023-07-01-preview \"HTTP/1.1 200 OK\"\n",
      "INFO:httpx:HTTP Request: POST https://azure-open-ai-common-infra.openai.azure.com//openai/deployments/ada/embeddings?api-version=2023-07-01-preview \"HTTP/1.1 200 OK\"\n",
      "HTTP Request: POST https://azure-open-ai-common-infra.openai.azure.com//openai/deployments/ada/embeddings?api-version=2023-07-01-preview \"HTTP/1.1 200 OK\"\n",
      "HTTP Request: POST https://azure-open-ai-common-infra.openai.azure.com//openai/deployments/ada/embeddings?api-version=2023-07-01-preview \"HTTP/1.1 200 OK\"\n",
      "INFO:httpx:HTTP Request: POST https://azure-open-ai-common-infra.openai.azure.com//openai/deployments/ada/embeddings?api-version=2023-07-01-preview \"HTTP/1.1 200 OK\"\n",
      "HTTP Request: POST https://azure-open-ai-common-infra.openai.azure.com//openai/deployments/ada/embeddings?api-version=2023-07-01-preview \"HTTP/1.1 200 OK\"\n",
      "HTTP Request: POST https://azure-open-ai-common-infra.openai.azure.com//openai/deployments/ada/embeddings?api-version=2023-07-01-preview \"HTTP/1.1 200 OK\"\n",
      "INFO:httpx:HTTP Request: POST https://azure-open-ai-common-infra.openai.azure.com//openai/deployments/ada/embeddings?api-version=2023-07-01-preview \"HTTP/1.1 200 OK\"\n",
      "HTTP Request: POST https://azure-open-ai-common-infra.openai.azure.com//openai/deployments/ada/embeddings?api-version=2023-07-01-preview \"HTTP/1.1 200 OK\"\n",
      "HTTP Request: POST https://azure-open-ai-common-infra.openai.azure.com//openai/deployments/ada/embeddings?api-version=2023-07-01-preview \"HTTP/1.1 200 OK\"\n",
      "INFO:httpx:HTTP Request: POST https://azure-open-ai-common-infra.openai.azure.com//openai/deployments/ada/embeddings?api-version=2023-07-01-preview \"HTTP/1.1 200 OK\"\n",
      "HTTP Request: POST https://azure-open-ai-common-infra.openai.azure.com//openai/deployments/ada/embeddings?api-version=2023-07-01-preview \"HTTP/1.1 200 OK\"\n",
      "HTTP Request: POST https://azure-open-ai-common-infra.openai.azure.com//openai/deployments/ada/embeddings?api-version=2023-07-01-preview \"HTTP/1.1 200 OK\"\n",
      "INFO:httpx:HTTP Request: POST https://azure-open-ai-common-infra.openai.azure.com//openai/deployments/ada/embeddings?api-version=2023-07-01-preview \"HTTP/1.1 200 OK\"\n",
      "HTTP Request: POST https://azure-open-ai-common-infra.openai.azure.com//openai/deployments/ada/embeddings?api-version=2023-07-01-preview \"HTTP/1.1 200 OK\"\n",
      "HTTP Request: POST https://azure-open-ai-common-infra.openai.azure.com//openai/deployments/ada/embeddings?api-version=2023-07-01-preview \"HTTP/1.1 200 OK\"\n",
      "INFO:httpx:HTTP Request: POST https://azure-open-ai-common-infra.openai.azure.com//openai/deployments/ada/embeddings?api-version=2023-07-01-preview \"HTTP/1.1 200 OK\"\n",
      "HTTP Request: POST https://azure-open-ai-common-infra.openai.azure.com//openai/deployments/ada/embeddings?api-version=2023-07-01-preview \"HTTP/1.1 200 OK\"\n",
      "HTTP Request: POST https://azure-open-ai-common-infra.openai.azure.com//openai/deployments/ada/embeddings?api-version=2023-07-01-preview \"HTTP/1.1 200 OK\"\n",
      "INFO:httpx:HTTP Request: POST https://azure-open-ai-common-infra.openai.azure.com//openai/deployments/ada/embeddings?api-version=2023-07-01-preview \"HTTP/1.1 200 OK\"\n",
      "HTTP Request: POST https://azure-open-ai-common-infra.openai.azure.com//openai/deployments/ada/embeddings?api-version=2023-07-01-preview \"HTTP/1.1 200 OK\"\n",
      "HTTP Request: POST https://azure-open-ai-common-infra.openai.azure.com//openai/deployments/ada/embeddings?api-version=2023-07-01-preview \"HTTP/1.1 200 OK\"\n",
      "INFO:httpx:HTTP Request: POST https://azure-open-ai-common-infra.openai.azure.com//openai/deployments/ada/embeddings?api-version=2023-07-01-preview \"HTTP/1.1 200 OK\"\n",
      "HTTP Request: POST https://azure-open-ai-common-infra.openai.azure.com//openai/deployments/ada/embeddings?api-version=2023-07-01-preview \"HTTP/1.1 200 OK\"\n",
      "HTTP Request: POST https://azure-open-ai-common-infra.openai.azure.com//openai/deployments/ada/embeddings?api-version=2023-07-01-preview \"HTTP/1.1 200 OK\"\n",
      "INFO:httpx:HTTP Request: POST https://azure-open-ai-common-infra.openai.azure.com//openai/deployments/ada/embeddings?api-version=2023-07-01-preview \"HTTP/1.1 200 OK\"\n",
      "HTTP Request: POST https://azure-open-ai-common-infra.openai.azure.com//openai/deployments/ada/embeddings?api-version=2023-07-01-preview \"HTTP/1.1 200 OK\"\n",
      "HTTP Request: POST https://azure-open-ai-common-infra.openai.azure.com//openai/deployments/ada/embeddings?api-version=2023-07-01-preview \"HTTP/1.1 200 OK\"\n",
      "INFO:httpx:HTTP Request: POST https://azure-open-ai-common-infra.openai.azure.com//openai/deployments/ada/embeddings?api-version=2023-07-01-preview \"HTTP/1.1 200 OK\"\n",
      "HTTP Request: POST https://azure-open-ai-common-infra.openai.azure.com//openai/deployments/ada/embeddings?api-version=2023-07-01-preview \"HTTP/1.1 200 OK\"\n",
      "HTTP Request: POST https://azure-open-ai-common-infra.openai.azure.com//openai/deployments/ada/embeddings?api-version=2023-07-01-preview \"HTTP/1.1 200 OK\"\n",
      "INFO:httpx:HTTP Request: POST https://azure-open-ai-common-infra.openai.azure.com//openai/deployments/ada/embeddings?api-version=2023-07-01-preview \"HTTP/1.1 200 OK\"\n",
      "HTTP Request: POST https://azure-open-ai-common-infra.openai.azure.com//openai/deployments/ada/embeddings?api-version=2023-07-01-preview \"HTTP/1.1 200 OK\"\n",
      "HTTP Request: POST https://azure-open-ai-common-infra.openai.azure.com//openai/deployments/ada/embeddings?api-version=2023-07-01-preview \"HTTP/1.1 200 OK\"\n",
      "INFO:httpx:HTTP Request: POST https://azure-open-ai-common-infra.openai.azure.com//openai/deployments/ada/embeddings?api-version=2023-07-01-preview \"HTTP/1.1 200 OK\"\n",
      "HTTP Request: POST https://azure-open-ai-common-infra.openai.azure.com//openai/deployments/ada/embeddings?api-version=2023-07-01-preview \"HTTP/1.1 200 OK\"\n",
      "HTTP Request: POST https://azure-open-ai-common-infra.openai.azure.com//openai/deployments/ada/embeddings?api-version=2023-07-01-preview \"HTTP/1.1 200 OK\"\n",
      "INFO:httpx:HTTP Request: POST https://azure-open-ai-common-infra.openai.azure.com//openai/deployments/ada/embeddings?api-version=2023-07-01-preview \"HTTP/1.1 200 OK\"\n",
      "HTTP Request: POST https://azure-open-ai-common-infra.openai.azure.com//openai/deployments/ada/embeddings?api-version=2023-07-01-preview \"HTTP/1.1 200 OK\"\n",
      "HTTP Request: POST https://azure-open-ai-common-infra.openai.azure.com//openai/deployments/ada/embeddings?api-version=2023-07-01-preview \"HTTP/1.1 200 OK\"\n",
      "INFO:httpx:HTTP Request: POST https://azure-open-ai-common-infra.openai.azure.com//openai/deployments/ada/embeddings?api-version=2023-07-01-preview \"HTTP/1.1 200 OK\"\n",
      "HTTP Request: POST https://azure-open-ai-common-infra.openai.azure.com//openai/deployments/ada/embeddings?api-version=2023-07-01-preview \"HTTP/1.1 200 OK\"\n",
      "HTTP Request: POST https://azure-open-ai-common-infra.openai.azure.com//openai/deployments/ada/embeddings?api-version=2023-07-01-preview \"HTTP/1.1 200 OK\"\n",
      "INFO:httpx:HTTP Request: POST https://azure-open-ai-common-infra.openai.azure.com//openai/deployments/ada/embeddings?api-version=2023-07-01-preview \"HTTP/1.1 200 OK\"\n",
      "HTTP Request: POST https://azure-open-ai-common-infra.openai.azure.com//openai/deployments/ada/embeddings?api-version=2023-07-01-preview \"HTTP/1.1 200 OK\"\n",
      "HTTP Request: POST https://azure-open-ai-common-infra.openai.azure.com//openai/deployments/ada/embeddings?api-version=2023-07-01-preview \"HTTP/1.1 200 OK\"\n",
      "INFO:httpx:HTTP Request: POST https://azure-open-ai-common-infra.openai.azure.com//openai/deployments/ada/embeddings?api-version=2023-07-01-preview \"HTTP/1.1 200 OK\"\n",
      "HTTP Request: POST https://azure-open-ai-common-infra.openai.azure.com//openai/deployments/ada/embeddings?api-version=2023-07-01-preview \"HTTP/1.1 200 OK\"\n",
      "HTTP Request: POST https://azure-open-ai-common-infra.openai.azure.com//openai/deployments/ada/embeddings?api-version=2023-07-01-preview \"HTTP/1.1 200 OK\"\n",
      "INFO:httpx:HTTP Request: POST https://azure-open-ai-common-infra.openai.azure.com//openai/deployments/ada/embeddings?api-version=2023-07-01-preview \"HTTP/1.1 200 OK\"\n",
      "HTTP Request: POST https://azure-open-ai-common-infra.openai.azure.com//openai/deployments/ada/embeddings?api-version=2023-07-01-preview \"HTTP/1.1 200 OK\"\n",
      "HTTP Request: POST https://azure-open-ai-common-infra.openai.azure.com//openai/deployments/ada/embeddings?api-version=2023-07-01-preview \"HTTP/1.1 200 OK\"\n",
      "INFO:httpx:HTTP Request: POST https://azure-open-ai-common-infra.openai.azure.com//openai/deployments/ada/embeddings?api-version=2023-07-01-preview \"HTTP/1.1 200 OK\"\n",
      "HTTP Request: POST https://azure-open-ai-common-infra.openai.azure.com//openai/deployments/ada/embeddings?api-version=2023-07-01-preview \"HTTP/1.1 200 OK\"\n",
      "HTTP Request: POST https://azure-open-ai-common-infra.openai.azure.com//openai/deployments/ada/embeddings?api-version=2023-07-01-preview \"HTTP/1.1 200 OK\"\n",
      "INFO:httpx:HTTP Request: POST https://azure-open-ai-common-infra.openai.azure.com//openai/deployments/ada/embeddings?api-version=2023-07-01-preview \"HTTP/1.1 200 OK\"\n",
      "HTTP Request: POST https://azure-open-ai-common-infra.openai.azure.com//openai/deployments/ada/embeddings?api-version=2023-07-01-preview \"HTTP/1.1 200 OK\"\n",
      "HTTP Request: POST https://azure-open-ai-common-infra.openai.azure.com//openai/deployments/ada/embeddings?api-version=2023-07-01-preview \"HTTP/1.1 200 OK\"\n",
      "INFO:httpx:HTTP Request: POST https://azure-open-ai-common-infra.openai.azure.com//openai/deployments/ada/embeddings?api-version=2023-07-01-preview \"HTTP/1.1 200 OK\"\n",
      "HTTP Request: POST https://azure-open-ai-common-infra.openai.azure.com//openai/deployments/ada/embeddings?api-version=2023-07-01-preview \"HTTP/1.1 200 OK\"\n",
      "HTTP Request: POST https://azure-open-ai-common-infra.openai.azure.com//openai/deployments/ada/embeddings?api-version=2023-07-01-preview \"HTTP/1.1 200 OK\"\n",
      "INFO:httpx:HTTP Request: POST https://azure-open-ai-common-infra.openai.azure.com//openai/deployments/ada/embeddings?api-version=2023-07-01-preview \"HTTP/1.1 200 OK\"\n",
      "HTTP Request: POST https://azure-open-ai-common-infra.openai.azure.com//openai/deployments/ada/embeddings?api-version=2023-07-01-preview \"HTTP/1.1 200 OK\"\n",
      "HTTP Request: POST https://azure-open-ai-common-infra.openai.azure.com//openai/deployments/ada/embeddings?api-version=2023-07-01-preview \"HTTP/1.1 200 OK\"\n",
      "INFO:httpx:HTTP Request: POST https://azure-open-ai-common-infra.openai.azure.com//openai/deployments/ada/embeddings?api-version=2023-07-01-preview \"HTTP/1.1 200 OK\"\n",
      "HTTP Request: POST https://azure-open-ai-common-infra.openai.azure.com//openai/deployments/ada/embeddings?api-version=2023-07-01-preview \"HTTP/1.1 200 OK\"\n",
      "HTTP Request: POST https://azure-open-ai-common-infra.openai.azure.com//openai/deployments/ada/embeddings?api-version=2023-07-01-preview \"HTTP/1.1 200 OK\"\n",
      "INFO:httpx:HTTP Request: POST https://azure-open-ai-common-infra.openai.azure.com//openai/deployments/ada/embeddings?api-version=2023-07-01-preview \"HTTP/1.1 200 OK\"\n",
      "HTTP Request: POST https://azure-open-ai-common-infra.openai.azure.com//openai/deployments/ada/embeddings?api-version=2023-07-01-preview \"HTTP/1.1 200 OK\"\n",
      "HTTP Request: POST https://azure-open-ai-common-infra.openai.azure.com//openai/deployments/ada/embeddings?api-version=2023-07-01-preview \"HTTP/1.1 200 OK\"\n",
      "INFO:httpx:HTTP Request: POST https://azure-open-ai-common-infra.openai.azure.com//openai/deployments/ada/embeddings?api-version=2023-07-01-preview \"HTTP/1.1 200 OK\"\n",
      "HTTP Request: POST https://azure-open-ai-common-infra.openai.azure.com//openai/deployments/ada/embeddings?api-version=2023-07-01-preview \"HTTP/1.1 200 OK\"\n",
      "HTTP Request: POST https://azure-open-ai-common-infra.openai.azure.com//openai/deployments/ada/embeddings?api-version=2023-07-01-preview \"HTTP/1.1 200 OK\"\n",
      "INFO:httpx:HTTP Request: POST https://azure-open-ai-common-infra.openai.azure.com//openai/deployments/ada/embeddings?api-version=2023-07-01-preview \"HTTP/1.1 200 OK\"\n",
      "HTTP Request: POST https://azure-open-ai-common-infra.openai.azure.com//openai/deployments/ada/embeddings?api-version=2023-07-01-preview \"HTTP/1.1 200 OK\"\n",
      "HTTP Request: POST https://azure-open-ai-common-infra.openai.azure.com//openai/deployments/ada/embeddings?api-version=2023-07-01-preview \"HTTP/1.1 200 OK\"\n",
      "INFO:httpx:HTTP Request: POST https://azure-open-ai-common-infra.openai.azure.com//openai/deployments/ada/embeddings?api-version=2023-07-01-preview \"HTTP/1.1 200 OK\"\n",
      "HTTP Request: POST https://azure-open-ai-common-infra.openai.azure.com//openai/deployments/ada/embeddings?api-version=2023-07-01-preview \"HTTP/1.1 200 OK\"\n",
      "HTTP Request: POST https://azure-open-ai-common-infra.openai.azure.com//openai/deployments/ada/embeddings?api-version=2023-07-01-preview \"HTTP/1.1 200 OK\"\n",
      "INFO:httpx:HTTP Request: POST https://azure-open-ai-common-infra.openai.azure.com//openai/deployments/ada/embeddings?api-version=2023-07-01-preview \"HTTP/1.1 200 OK\"\n",
      "HTTP Request: POST https://azure-open-ai-common-infra.openai.azure.com//openai/deployments/ada/embeddings?api-version=2023-07-01-preview \"HTTP/1.1 200 OK\"\n",
      "HTTP Request: POST https://azure-open-ai-common-infra.openai.azure.com//openai/deployments/ada/embeddings?api-version=2023-07-01-preview \"HTTP/1.1 200 OK\"\n",
      "INFO:httpx:HTTP Request: POST https://azure-open-ai-common-infra.openai.azure.com//openai/deployments/ada/embeddings?api-version=2023-07-01-preview \"HTTP/1.1 200 OK\"\n",
      "HTTP Request: POST https://azure-open-ai-common-infra.openai.azure.com//openai/deployments/ada/embeddings?api-version=2023-07-01-preview \"HTTP/1.1 200 OK\"\n",
      "HTTP Request: POST https://azure-open-ai-common-infra.openai.azure.com//openai/deployments/ada/embeddings?api-version=2023-07-01-preview \"HTTP/1.1 200 OK\"\n",
      "INFO:httpx:HTTP Request: POST https://azure-open-ai-common-infra.openai.azure.com//openai/deployments/ada/embeddings?api-version=2023-07-01-preview \"HTTP/1.1 200 OK\"\n",
      "HTTP Request: POST https://azure-open-ai-common-infra.openai.azure.com//openai/deployments/ada/embeddings?api-version=2023-07-01-preview \"HTTP/1.1 200 OK\"\n",
      "HTTP Request: POST https://azure-open-ai-common-infra.openai.azure.com//openai/deployments/ada/embeddings?api-version=2023-07-01-preview \"HTTP/1.1 200 OK\"\n",
      "INFO:httpx:HTTP Request: POST https://azure-open-ai-common-infra.openai.azure.com//openai/deployments/ada/embeddings?api-version=2023-07-01-preview \"HTTP/1.1 200 OK\"\n",
      "HTTP Request: POST https://azure-open-ai-common-infra.openai.azure.com//openai/deployments/ada/embeddings?api-version=2023-07-01-preview \"HTTP/1.1 200 OK\"\n",
      "HTTP Request: POST https://azure-open-ai-common-infra.openai.azure.com//openai/deployments/ada/embeddings?api-version=2023-07-01-preview \"HTTP/1.1 200 OK\"\n",
      "INFO:httpx:HTTP Request: POST https://azure-open-ai-common-infra.openai.azure.com//openai/deployments/ada/embeddings?api-version=2023-07-01-preview \"HTTP/1.1 200 OK\"\n",
      "HTTP Request: POST https://azure-open-ai-common-infra.openai.azure.com//openai/deployments/ada/embeddings?api-version=2023-07-01-preview \"HTTP/1.1 200 OK\"\n",
      "HTTP Request: POST https://azure-open-ai-common-infra.openai.azure.com//openai/deployments/ada/embeddings?api-version=2023-07-01-preview \"HTTP/1.1 200 OK\"\n",
      "INFO:httpx:HTTP Request: POST https://azure-open-ai-common-infra.openai.azure.com//openai/deployments/ada/embeddings?api-version=2023-07-01-preview \"HTTP/1.1 200 OK\"\n",
      "HTTP Request: POST https://azure-open-ai-common-infra.openai.azure.com//openai/deployments/ada/embeddings?api-version=2023-07-01-preview \"HTTP/1.1 200 OK\"\n",
      "HTTP Request: POST https://azure-open-ai-common-infra.openai.azure.com//openai/deployments/ada/embeddings?api-version=2023-07-01-preview \"HTTP/1.1 200 OK\"\n",
      "INFO:httpx:HTTP Request: POST https://azure-open-ai-common-infra.openai.azure.com//openai/deployments/ada/embeddings?api-version=2023-07-01-preview \"HTTP/1.1 200 OK\"\n",
      "HTTP Request: POST https://azure-open-ai-common-infra.openai.azure.com//openai/deployments/ada/embeddings?api-version=2023-07-01-preview \"HTTP/1.1 200 OK\"\n",
      "HTTP Request: POST https://azure-open-ai-common-infra.openai.azure.com//openai/deployments/ada/embeddings?api-version=2023-07-01-preview \"HTTP/1.1 200 OK\"\n",
      "INFO:httpx:HTTP Request: POST https://azure-open-ai-common-infra.openai.azure.com//openai/deployments/ada/embeddings?api-version=2023-07-01-preview \"HTTP/1.1 200 OK\"\n",
      "HTTP Request: POST https://azure-open-ai-common-infra.openai.azure.com//openai/deployments/ada/embeddings?api-version=2023-07-01-preview \"HTTP/1.1 200 OK\"\n",
      "HTTP Request: POST https://azure-open-ai-common-infra.openai.azure.com//openai/deployments/ada/embeddings?api-version=2023-07-01-preview \"HTTP/1.1 200 OK\"\n",
      "INFO:httpx:HTTP Request: POST https://azure-open-ai-common-infra.openai.azure.com//openai/deployments/ada/embeddings?api-version=2023-07-01-preview \"HTTP/1.1 200 OK\"\n",
      "HTTP Request: POST https://azure-open-ai-common-infra.openai.azure.com//openai/deployments/ada/embeddings?api-version=2023-07-01-preview \"HTTP/1.1 200 OK\"\n",
      "HTTP Request: POST https://azure-open-ai-common-infra.openai.azure.com//openai/deployments/ada/embeddings?api-version=2023-07-01-preview \"HTTP/1.1 200 OK\"\n",
      "INFO:httpx:HTTP Request: POST https://azure-open-ai-common-infra.openai.azure.com//openai/deployments/ada/embeddings?api-version=2023-07-01-preview \"HTTP/1.1 200 OK\"\n",
      "HTTP Request: POST https://azure-open-ai-common-infra.openai.azure.com//openai/deployments/ada/embeddings?api-version=2023-07-01-preview \"HTTP/1.1 200 OK\"\n",
      "HTTP Request: POST https://azure-open-ai-common-infra.openai.azure.com//openai/deployments/ada/embeddings?api-version=2023-07-01-preview \"HTTP/1.1 200 OK\"\n",
      "INFO:httpx:HTTP Request: POST https://azure-open-ai-common-infra.openai.azure.com//openai/deployments/ada/embeddings?api-version=2023-07-01-preview \"HTTP/1.1 200 OK\"\n",
      "HTTP Request: POST https://azure-open-ai-common-infra.openai.azure.com//openai/deployments/ada/embeddings?api-version=2023-07-01-preview \"HTTP/1.1 200 OK\"\n",
      "HTTP Request: POST https://azure-open-ai-common-infra.openai.azure.com//openai/deployments/ada/embeddings?api-version=2023-07-01-preview \"HTTP/1.1 200 OK\"\n",
      "INFO:httpx:HTTP Request: POST https://azure-open-ai-common-infra.openai.azure.com//openai/deployments/ada/embeddings?api-version=2023-07-01-preview \"HTTP/1.1 200 OK\"\n",
      "HTTP Request: POST https://azure-open-ai-common-infra.openai.azure.com//openai/deployments/ada/embeddings?api-version=2023-07-01-preview \"HTTP/1.1 200 OK\"\n",
      "HTTP Request: POST https://azure-open-ai-common-infra.openai.azure.com//openai/deployments/ada/embeddings?api-version=2023-07-01-preview \"HTTP/1.1 200 OK\"\n",
      "INFO:httpx:HTTP Request: POST https://azure-open-ai-common-infra.openai.azure.com//openai/deployments/ada/embeddings?api-version=2023-07-01-preview \"HTTP/1.1 200 OK\"\n",
      "HTTP Request: POST https://azure-open-ai-common-infra.openai.azure.com//openai/deployments/ada/embeddings?api-version=2023-07-01-preview \"HTTP/1.1 200 OK\"\n",
      "HTTP Request: POST https://azure-open-ai-common-infra.openai.azure.com//openai/deployments/ada/embeddings?api-version=2023-07-01-preview \"HTTP/1.1 200 OK\"\n",
      "INFO:httpx:HTTP Request: POST https://azure-open-ai-common-infra.openai.azure.com//openai/deployments/ada/embeddings?api-version=2023-07-01-preview \"HTTP/1.1 200 OK\"\n",
      "HTTP Request: POST https://azure-open-ai-common-infra.openai.azure.com//openai/deployments/ada/embeddings?api-version=2023-07-01-preview \"HTTP/1.1 200 OK\"\n",
      "HTTP Request: POST https://azure-open-ai-common-infra.openai.azure.com//openai/deployments/ada/embeddings?api-version=2023-07-01-preview \"HTTP/1.1 200 OK\"\n",
      "INFO:httpx:HTTP Request: POST https://azure-open-ai-common-infra.openai.azure.com//openai/deployments/ada/embeddings?api-version=2023-07-01-preview \"HTTP/1.1 200 OK\"\n",
      "HTTP Request: POST https://azure-open-ai-common-infra.openai.azure.com//openai/deployments/ada/embeddings?api-version=2023-07-01-preview \"HTTP/1.1 200 OK\"\n",
      "HTTP Request: POST https://azure-open-ai-common-infra.openai.azure.com//openai/deployments/ada/embeddings?api-version=2023-07-01-preview \"HTTP/1.1 200 OK\"\n",
      "INFO:httpx:HTTP Request: POST https://azure-open-ai-common-infra.openai.azure.com//openai/deployments/ada/embeddings?api-version=2023-07-01-preview \"HTTP/1.1 200 OK\"\n",
      "HTTP Request: POST https://azure-open-ai-common-infra.openai.azure.com//openai/deployments/ada/embeddings?api-version=2023-07-01-preview \"HTTP/1.1 200 OK\"\n",
      "HTTP Request: POST https://azure-open-ai-common-infra.openai.azure.com//openai/deployments/ada/embeddings?api-version=2023-07-01-preview \"HTTP/1.1 200 OK\"\n",
      "INFO:httpx:HTTP Request: POST https://azure-open-ai-common-infra.openai.azure.com//openai/deployments/ada/embeddings?api-version=2023-07-01-preview \"HTTP/1.1 200 OK\"\n",
      "HTTP Request: POST https://azure-open-ai-common-infra.openai.azure.com//openai/deployments/ada/embeddings?api-version=2023-07-01-preview \"HTTP/1.1 200 OK\"\n",
      "HTTP Request: POST https://azure-open-ai-common-infra.openai.azure.com//openai/deployments/ada/embeddings?api-version=2023-07-01-preview \"HTTP/1.1 200 OK\"\n",
      "INFO:httpx:HTTP Request: POST https://azure-open-ai-common-infra.openai.azure.com//openai/deployments/ada/embeddings?api-version=2023-07-01-preview \"HTTP/1.1 200 OK\"\n",
      "HTTP Request: POST https://azure-open-ai-common-infra.openai.azure.com//openai/deployments/ada/embeddings?api-version=2023-07-01-preview \"HTTP/1.1 200 OK\"\n",
      "HTTP Request: POST https://azure-open-ai-common-infra.openai.azure.com//openai/deployments/ada/embeddings?api-version=2023-07-01-preview \"HTTP/1.1 200 OK\"\n",
      "INFO:httpx:HTTP Request: POST https://azure-open-ai-common-infra.openai.azure.com//openai/deployments/ada/embeddings?api-version=2023-07-01-preview \"HTTP/1.1 200 OK\"\n",
      "HTTP Request: POST https://azure-open-ai-common-infra.openai.azure.com//openai/deployments/ada/embeddings?api-version=2023-07-01-preview \"HTTP/1.1 200 OK\"\n",
      "HTTP Request: POST https://azure-open-ai-common-infra.openai.azure.com//openai/deployments/ada/embeddings?api-version=2023-07-01-preview \"HTTP/1.1 200 OK\"\n",
      "INFO:httpx:HTTP Request: POST https://azure-open-ai-common-infra.openai.azure.com//openai/deployments/ada/embeddings?api-version=2023-07-01-preview \"HTTP/1.1 200 OK\"\n",
      "HTTP Request: POST https://azure-open-ai-common-infra.openai.azure.com//openai/deployments/ada/embeddings?api-version=2023-07-01-preview \"HTTP/1.1 200 OK\"\n",
      "HTTP Request: POST https://azure-open-ai-common-infra.openai.azure.com//openai/deployments/ada/embeddings?api-version=2023-07-01-preview \"HTTP/1.1 200 OK\"\n",
      "INFO:httpx:HTTP Request: POST https://azure-open-ai-common-infra.openai.azure.com//openai/deployments/ada/embeddings?api-version=2023-07-01-preview \"HTTP/1.1 200 OK\"\n",
      "HTTP Request: POST https://azure-open-ai-common-infra.openai.azure.com//openai/deployments/ada/embeddings?api-version=2023-07-01-preview \"HTTP/1.1 200 OK\"\n",
      "HTTP Request: POST https://azure-open-ai-common-infra.openai.azure.com//openai/deployments/ada/embeddings?api-version=2023-07-01-preview \"HTTP/1.1 200 OK\"\n",
      "INFO:httpx:HTTP Request: POST https://azure-open-ai-common-infra.openai.azure.com//openai/deployments/ada/embeddings?api-version=2023-07-01-preview \"HTTP/1.1 200 OK\"\n",
      "HTTP Request: POST https://azure-open-ai-common-infra.openai.azure.com//openai/deployments/ada/embeddings?api-version=2023-07-01-preview \"HTTP/1.1 200 OK\"\n",
      "HTTP Request: POST https://azure-open-ai-common-infra.openai.azure.com//openai/deployments/ada/embeddings?api-version=2023-07-01-preview \"HTTP/1.1 200 OK\"\n",
      "INFO:httpx:HTTP Request: POST https://azure-open-ai-common-infra.openai.azure.com//openai/deployments/ada/embeddings?api-version=2023-07-01-preview \"HTTP/1.1 200 OK\"\n",
      "HTTP Request: POST https://azure-open-ai-common-infra.openai.azure.com//openai/deployments/ada/embeddings?api-version=2023-07-01-preview \"HTTP/1.1 200 OK\"\n",
      "HTTP Request: POST https://azure-open-ai-common-infra.openai.azure.com//openai/deployments/ada/embeddings?api-version=2023-07-01-preview \"HTTP/1.1 200 OK\"\n",
      "INFO:httpx:HTTP Request: POST https://azure-open-ai-common-infra.openai.azure.com//openai/deployments/ada/embeddings?api-version=2023-07-01-preview \"HTTP/1.1 200 OK\"\n",
      "HTTP Request: POST https://azure-open-ai-common-infra.openai.azure.com//openai/deployments/ada/embeddings?api-version=2023-07-01-preview \"HTTP/1.1 200 OK\"\n",
      "HTTP Request: POST https://azure-open-ai-common-infra.openai.azure.com//openai/deployments/ada/embeddings?api-version=2023-07-01-preview \"HTTP/1.1 200 OK\"\n",
      "It took 36.296531200408936 seconds.\n"
     ]
    }
   ],
   "source": [
    "# debugging runtime THIS TAKES 4 HOURS\n",
    "import time\n",
    "start = time.time()\n",
    "\n",
    "# create index for given documents\n",
    "service_context = ServiceContext.from_defaults(chunk_size=512) # control batch size \n",
    "index = VectorStoreIndex.from_documents(\n",
    "    docs[:1000], service_context=service_context, show_progress=True, vector_store_query_mode=\"hybrid\"\n",
    ")\n",
    "print('It took', time.time()-start, 'seconds.')"
   ]
  },
  {
   "cell_type": "code",
   "execution_count": 10,
   "id": "ab7c71d4-8124-45c1-9888-adff67c6e869",
   "metadata": {},
   "outputs": [
    {
     "name": "stdout",
     "output_type": "stream",
     "text": [
      "hello\n"
     ]
    }
   ],
   "source": [
    "print('hello')"
   ]
  },
  {
   "cell_type": "code",
   "execution_count": 11,
   "id": "c58bd043-6ed7-45b2-be64-74bfe7b30b1a",
   "metadata": {},
   "outputs": [],
   "source": [
    "index.storage_context.persist(persist_dir=\"./index_hybrid\")"
   ]
  },
  {
   "cell_type": "code",
   "execution_count": 5,
   "id": "bcc47a5f-2933-4aa2-8403-cd8e3b4bad20",
   "metadata": {},
   "outputs": [
    {
     "name": "stdout",
     "output_type": "stream",
     "text": [
      "INFO:llama_index.core.indices.loading:Loading all indices.\n",
      "Loading all indices.\n"
     ]
    }
   ],
   "source": [
    "from llama_index.core import StorageContext, load_index_from_storage\n",
    "\n",
    "# rebuild storage context\n",
    "storage_context = StorageContext.from_defaults(persist_dir=\"./index_hybrid\")\n",
    "\n",
    "# load index\n",
    "index = load_index_from_storage(storage_context)"
   ]
  },
  {
   "cell_type": "code",
   "execution_count": 74,
   "id": "bd61ecc8-0ea2-4131-87b9-d5740e5f6932",
   "metadata": {},
   "outputs": [
    {
     "data": {
      "text/plain": [
       "236                                                                                                                                                                                                                                                                                                                                                                                                                                                                                                                                                                                                                                                                                                                                                                                                                                                                                                                                                                                                                                                                                                                                                                                                                                                                                                                                                                                                                                                                                                                                                                                                                                                                                                                                                               This page has been archived Information identified as archived is provided for reference, research or record-keeping purposes. It is not subject to the Government of Canada Web Standards and has not been altered or updated since it was archived. Please contact us to request a format other than those available.\n",
       "4709                                                                                                                                                                                                                                           2\\n1 Background On December 17, 2007 the Prime Minister announced the Food and Consumer Safety Action Plan (FCSAP)\\n The Plan introduced new measures on food and product safety to ensure that Canadians have confidence in the quality and safety of what they buy\\n The FCSAP is a horizontal initiative aimed at modernizing and strengthening Canada's safety system for food, health and consumer products\\n The FCSAP is an integrated, risk-based action plan built on three pillars: active prevention; targeted oversight; and rapid response\\n It is a joint federal initiative with Health Canada (HC), the Public Health Agency of Canada (PHAC) and the Canadian Institutes of Health Research (CIHR)\\n The Canadian Food Inspection Agency (CFIA) is the lead federal government organization responsible for delivering on the Government's commitments to enhance food safety\\n The food portion of the FCSAP was developed jointly by the CFIA, Health Canada and the PHAC\\n The Food Safety Action Plan (FSAP) is a five-year (2008-2013) project for the CFIA\\n It is a major component of the Government of Canada's broader Food and Consumer Safety Action Plan\\n Initiatives under CFIA's FSAP aim to enhance oversight of imported and domestic food products\\n This will allow the CFIA to respond more quickly and effectively to food safety threats, while also being able to identify potential risks sooner and with more precision\\n Total funding for the CFIA FSAP project is $223\\n4M over five years (2008-2013)\\n The CFIA is in year four (fiscal year (FY) 2011-12) of implementing the FSAP with a $52\\n4M budget\\n Food Safety Action Plan (FSAP) CFIA Resources Year 1 2008-09 Year 2 2009-10 Year 3 2010-11 Year 4 2011-12 Year 5 2012-13 Ongoing Total $ (Y1-Y5) FTEs 119\\n0 185\\n0 241\\n0 262\n",
       "7811                                                                                                                                                                                                                                                                                                                                                                                                                                                                                                                                                                                                                                                                                                                                                                                                                                                                                                                                                                                                                                                                                                                                                                                                                                                                                                                                                                                                      2.2 Objective The objective of this audit was to provide assurance that the project management framework used in the design and implementation of the Food Safety Action Plan was in accordance with accepted standards.\\n2.3 Scope The scope of the audit was the FSAP five-year project (2008-2013). The audit period initially covered was from April 2008 to December 2010. Upon the recommendation of the CFIA Audit Committee, the period of the audit was extended to October 2011. This was to allow the Project Management Office an opportunity to implement recently adopted Agency project management practices and to enable a review of the FSAP Transition Plan.\n",
       "11037     Finding 3.2: Reporting and Monitoring Regular reporting and monitoring of FSAP key indicators and high-level financial results is in place; however, there was no formal monitoring of FSAP deliverables and activity results. We expected to find the reporting of FSAP activities would include regular status reports and results in order to guide the delivery of the project and to provide the Agency with a clear understanding of the results and achievements of the FSAP activities. We found that in the first three years of the project, annual reports highlighting the overall achievements of the initiative were produced. With the exception of these reports, status updates and ongoing monitoring of FSAP activities were limited and as such we were not able to conduct a review of the financial data for this period of time. As there was not an overall Integrated Project Plan guiding the project, reporting on the FSAP areas of activity was inconsistent in its level of detail and tracking results was difficult. There were independent reviews conducted surrounding the IM/IT activity (one of the thirteen activities) of the project in Years 2 and 3 of the initiative. This resulted in increased attention to the FSAP activities and actions were taken to strengthen the overall project management framework including the formalization of core project management processes, and clarifying and defining resource requirements. Regular monthly dashboard reports are completed and are provided for information at governance committee meetings. The dashboards are completed by area of activity and provide high level project information as well as status indicators on overall project health, scope, cost, schedule, risks and issues. Formal monitoring of the financial variances between the forecasted amounts and the budgeted amounts has also begun. The FSAP PMO is completing its first detailed analysis between the Branch work-plans and the actuals being reported. However, at the time of our audit,...\n",
       "17336     1.2 Audit Objective The objective of this audit was to provide assurance that the project management framework used in the design and implementation of the Food Safety Action Plan was in accordance with accepted standards.\\n1.3 Audit Scope The scope of the audit was the FSAP five-year project (2008-2013). The audit period initially covered was from April 2008 to December 2010. Upon the recommendation of the CFIA Audit Committee, the period of the audit was extended to October 2011. This was to allow the Project Management Office an opportunity to implement recently adopted Agency project management practices and to enable a review of the FSAP Transition Plan.\\n1.4 Main Findings and Recommendations The Agency has made progress to enhance the overall project management framework for the management of FSAP. Taking into consideration that the FSAP initiative is now in its fourth year, the audit placed particular emphasis on information that could be applied to future initiatives of this type. Governance Finding 1.1: There is a clearly defined and active governance structure in place to provide overall direction, decision making and resource commitment to the FSAP project. Risk Management Finding 2.1: Significant progress has been made in the development of a rigorous risk management approach but there remains some opportunity for enhancement. Internal Control Finding 3.1: A formal project management methodology is in place but the FSAP integrated project plan is still undergoing refinements. Finding 3.2: Regular reporting and monitoring of FSAP key indicators and high-level financial results is in place; however, there was no formal monitoring of FSAP deliverables and activity results. Finding 3.3: Initial planning is underway for the management of ongoing Agency funding of $54.9M. Recommendation: The VP of the Policy and Programs Branch should ensure that a detailed Transition Plan is developed, documented and implemented.\\n1.5 Statement of Assurance In my professi...\n",
       "27016                                                                                                                                                                                                                                                                                                                                                                                                                                                                                                                                                                                                                                                                                                                                                                                                                                                                                                                                                                                                                                              Governance A project governance structure to provide overall direction, decision making and resource commitment to the FSAP Project was established and is working effectively. Effective oversight bodies are established. The oversight body (or bodies) has a clearly communicated mandate that includes roles with respect to governance, risk management and control. Authority, responsibility and accountability are clear and communicated.\\nRisk Management A documented risk management process exists and is being employed to identify, assess and respond to risk. Management has a documented approach with respect to risk management that: identifies the risks that may preclude the achievement of objective; assesses the risks it has identified; formally responds to its risks. A documented risk management process exists and is being used to identify and assess risks, develop a risk response, and maintain and monitor the risk action plan. Planning and resource allocations consider risk information.\n",
       "32573                                                                                                                                                                                                                                                                                                                                                                                                                                                                                                                                                                                                                                                                                                                                                                                                                                                                                                                                                                                                                                                                                                                                                                                                                                                                                                                                                                                                                                                                                                                                                                                                                                                                                                                                                                                                                                                                                                                                                                                                                                               Archived This page has been archived.\n",
       "52762                                                                                                                                                                                                                                                                                                                                                                                                                                                                                                                                                                                                                                                                                                                                                                                                                            0 290\\n0 289\\n0 $M $22\\n9 $39\\n3 $52\\n4 $52\\n4 $56\\n4 $54\\n9 $223\\n4 CFIA's objectives of the FSAP are to: Enhance capacity to identify risks, determine where they come from, and how to reduce and mitigate them; Provide inspectors with additional tools to prioritize their activities, verify compliance, and take enforcement actions; Improve consumers' ability to be well engaged in order to make informed decisions - they must play an active role in the safety of their food; and Ensure that industry and stakeholders play an active role in the safety of food by improving the Agency's guidance to assist them in implementing effective control systems\\n Under FCSAP, thirteen interdependent areas of activity have been identified specifically for CFIA's action: Risk Mapping/Baseline Surveillance; Development & Implementation of Food Safety Systems; Implementation of Importer Licensing; Enhanced Offshore Efforts; Appropriate Regulatory Backstops; Public Consultation & Engagement Tools; Product of Canada Labelling Enhanced Inspection of High Risk Sectors; Border Blitzes; Enhanced Tracking of Imports; Enhanced Recall Capacity; Targeted Consumer Risk Communication; and IM/IT Enabled Business Projects\\n\n",
       "65972     Internal Control Project status and results are monitored, tracked, controlled, and reported to the appropriate levels within the Agency. A communication strategy/plan has been developed and implemented regarding communication of results and progress to external stakeholders (outside of the FSAP PMO). The activities, schedules and resources needed to achieve objectives have been integrated into the budget. Budgets for FSAP initiatives are established and expenditures are monitored against the established budgets. A formal process is in place to challenge the assumptions and related resource allocations within the budget. Forecasts are monitored on a regular basis. Transactions are coded and recorded accurately and in a timely manner to support accurate and timely information processing. Reviews are conducted to analyze and compare and explain financial variances between actual and plan. Financial and non-financial reporting is reviewed and approved. The project plan is complete and reflects the FSAP as a whole including key tasks, milestones and deliverables. FSAP has a clearly defined and communicated Plan (strategic directions and strategic objectives, aligned with its mandate). A resource plan is in place identifying skilled, knowledgeable and experienced personnel for the FSAP PMO with clearly defined roles and responsibilities that are documented, communicated and understood. A documented risk management process exists to monitor issues and is being used to identify, assess, develop and monitor plans and review concerns on a regular basis. The oversight body/bodies request and receive sufficient, complete, timely and accurate information. Management monitors issues and adjusts course as needed. A documented issue management process exists and is being used to identify and assess issues, develop and monitor an action plan, and review open issues on a regular basis. Project management expertise, tools and processes are in place to guide the FSAP delivery and ...\n",
       "69058     3.1 Introduction and Context The FSAP initiative is currently in its fourth year. While there has been much progress to enhance the overall project management framework being employed, we found that some components could not be fully implemented as intended and need more time to mature. Commencing April 2010, there was a shifting emphasis within the Agency towards a more focused approach on how projects are to be managed. In particular, there was greater engagement by Senior Management on the status, success and progress of large Agency initiatives, such as FSAP. This led to the formal roll-out of an Agency Enterprise Project Management Office (ePMO), which provides tools and templates as well as training on various aspects of Project Management to Agency personnel. Taking into consideration that the FSAP initiative is now in year four of five, the audit placed particular emphasis on information that could be applied to future initiatives of this type.\\n3.2 Governance Finding 1.1: Governance There is a clearly defined and active governance structure in place to provide overall direction, decision making and resource commitment to the FSAP project. We expected to find an established project governance structure working effectively to provide overall direction, decision making and resource commitment to the FSAP Project. The initial governance structure was enhanced commencing September 2010 with the PMO reorganized under an Associate Vice-President. The FSAP governance structure now has three (3) governance committees: FSAP Senior Project Advisory Committee (SPAC), FSAP Steering Committee (SC), and FSAP Management Committee (MC). The revised governance structure has formalized roles and responsibilities for each committee. In addition, weekly updates to senior management have begun and a deliverable dashboard has been implemented. Based on a sample review of Records of Decisions from the three FSAP governance committees, the committees are meeting on a monthly ba...\n",
       "72062                                                                                                                                                                                                                                                                                                                                                                                                                                                                                                                                                                                                                                                                                                                                                                                                                                                                                                                                                                                                                                                                                                                                                                                                                                                                                                                                                                                                                                                                                                                                                                                                            Table of Contents 1.0 Executive Summary 1.1 Introduction 1.2 Audit Objective 1.3 Audit Scope 1.4 Main Findings and Recommendations 1.5 Statement of Assurance 1.6 Audit Opinion 2.0 About the Audit 2.1 Background 2.2 Objective 2.3 Scope 2.4 Methodology 3.0 Findings and Recommendations 3.1 Introduction and Context 3.2 Governance 3.3 Risk Management 3.4 Internal Control Recommendation Appendix A: Audit Criteria Appendix B: Management Response & Action Plan\n",
       "82831                                                                                                                                                                                                                                                                                                  Governance A project governance structure to provide overall direction, decision making and resource commitment to the FSAP Project was established and is working effectively.\\nRisk Management A documented risk management process exists and is being employed to identify, assess and respond to risk.\\nControls The Project plan is complete and reflects the FSAP project as a whole including key tasks, milestones, dependencies and deliverables. Project management expertise, tools and processes are in place to guide the FSAP delivery and are functioning properly. A documented process exists to monitor issues and is being used to identify, assess, develop and monitor plans, and review concerns on a regular basis. Project status and results are monitored, tracked, controlled and reported to the appropriate levels within the Agency. FSAP Transition Plan, from a project to the program area, is complete and reflects the ongoing activities of FSAP in the future. The following audit approaches were applied during the conduct of the audit to ensure the collection of appropriate audit evidence: Conducting interviews with FSAP PMO team members and other senior management; Reviewing and analyzing FSAP project management documents/data; Detailed review of the governance committee structure including records of decisions, minutes; Testing of key Project Management processes (e.g., Project Plan, Issues Management, Risk Management, Change Management); Recording of observations and evidence; and Concluding on observations with regard to audit criteria. Audit planning was initiated in June 2010. Audit fieldwork began in September 2010 and was restarted in September 2011 with fieldwork ending in October 2011.\n",
       "88973                                                                                                                                                                                                                                                                                                                                                                                                                                                                                        Finding 3.1: Project Management Methodology A formal project management methodology is in place but the FSAP integrated project plan is still undergoing refinements. We expected to find that a FSAP PMO would be established with project management expertise, tools and processes to guide the project delivery. This includes reporting of activities against an integrated project plan along with key tasks, milestones, deliverables and completion rate identified. Progress has been made in the development of a project plan for FSAP. In conjunction with the Agency-wide roll-out and adoption of an Enterprise Project Management Office (ePMO) methodology in 2010, the FSAP PMO implemented ePMO templates in Year 3. A FSAP project scope document has since been prepared and a detailed Integrated Project Plan with a defined work breakdown structure, identifying milestones, deliverables and dependencies was still under development at the time of undertaking the audit. The FSAP PMO has now formally documented the core project management processes such as Issues Management, Risk Management, and Change Management. Roles and responsibilities for FSAP PMO staff were drafted, documented and communicated. Staff received training from the ePMO on core project management principles, processes, tools, techniques and templates. In addition, the FSAP PMO is supplementing these resources with staff that have knowledge of branch activities to assist with overall FSAP integration and planning. Staffing remains a challenge for the FSAP PMO.\n",
       "101728    1.1 Introduction On December 17, 2007 the Prime Minister announced the Food and Consumer Safety Action Plan (FCSAP). The Plan introduced new measures on food and product safety to ensure that Canadians have confidence in the quality and safety of what they buy. The FCSAP is a horizontal initiative aimed at modernizing and strengthening Canada's safety system for food, health and consumer products. The FCSAP is an integrated, risk-based action plan built on the three pillars of active prevention, targeted oversight, and rapid response. It is a joint federal initiative with Health Canada (HC), the Public Health Agency of Canada (PHAC) and the Canadian Institutes of Health Research (CIHR). The Canadian Food Inspection Agency (CFIA) is the lead federal government organization responsible for delivering on the Government's commitments to enhance food safety. The food portion of the FCSAP was developed jointly by the CFIA, Health Canada and the PHAC. The Food Safety Action Plan (FSAP) is a five-year (2008-2013) project for the CFIA and it is a major component of the Government of Canada's broader FCSAP. Initiatives under the CFIA's FSAP aim to enhance oversight of imported and domestic food products. They will allow the CFIA to respond more quickly and effectively to food safety threats, while also being able to identify potential risks sooner and with more precision. Total funding for the CFIA FSAP project is $223.4M over five years (2008-2013). The CFIA is in year four (fiscal year (FY) 2011-12) of implementing the FSAP with a $52.4M budget. Commencing April 2010, there was a shifting emphasis within the Agency towards a more focused approach on how projects are to be managed. In particular, there was greater engagement by Senior Management and the formal roll-out of an Agency Enterprise Project Management Office (ePMO) providing tools, templates and training on various aspects of Project Management to Agency personnel. This audit was approved in the Internal Audit ...\n",
       "101729                                                                                                                                                                                                                                                                                                                                   Finding 2.1: Risk Management Significant progress has been made in the development of a rigorous risk management approach but there remains some opportunity for enhancement. We expected to find a documented risk management process being employed to identify, assess and respond to risk. As part of the enhanced governance structure, a Project Manager responsible for risk identification and risk management was identified. In addition, a consulting firm was engaged to conduct an assessment of risks to the project and establish a comprehensive baseline risk register for ongoing use. Risks began to be formally tracked in March 2011. A random sample of identified risks was conducted to determine if risks were being identified in a consistent way and discussed/actioned at the appropriate governance level. We found that risks are being tracked, documented, discussed and actioned at the appropriate governance levels. Further refinement was made to the risk management process through the definition and documentation of formal risk management documents including process flowcharts, risk management procedures and defining roles. Nevertheless, the methodology used to define risks may be further improved to support a consistent and comprehensive approach; for example, criteria for how probability and impact levels are measured and assigned (high, medium and low) were not included in the description, risk assessment procedures do not take into consideration external and internal factors, and the project risk types are defined against project scope, cost or schedule but do not provide definitions. The documentation for the mitigation strategies could also be amplified.\n",
       "101730                                                                                                                                                                                                                                                                                                                                                                                                                                                                                                                                                                                                                                                                                                                                                             Finding 3.3: Transition Plan Initial planning is underway for the management of ongoing Agency funding of $54.9M. We expected to find a Transition Plan covering the wind-down activities of the FSAP PMO and plans for the ongoing activities of FSAP for the future. A Transition Plan identifies the remaining work to be completed as well as resources required to complete the work with clearly defined roles and responsibilities. We found that the FSAP transition activities are in the initial planning stages with limited documentation available at this time concerning the ongoing management of the $54.9M allocated for FY 2012-13. It is understood that as a direct output from the Program Design activity there will be identification of resources and accountabilities for ongoing FSAP activity (e.g., budget allocation, and number of FTEs). In recognition of the ongoing activity that will be conducted after Year 5 of the FSAP initiative, the FSAP PMO has identified a transition lead tasked with developing the overall Transition Plan. At the time of our audit an outline for a detailed Transition Plan had been developed.\\nRecommendation: The VP of the Policy and Programs Branch should ensure that a detailed Transition Plan is developed, documented and implemented.\n",
       "Name: content, dtype: object"
      ]
     },
     "execution_count": 74,
     "metadata": {},
     "output_type": "execute_result"
    }
   ],
   "source": [
    "df[df['title'].str.contains(\"Audit of the Project Management of the Food Safety Action Plan - Canadian Food Inspection Agency\")]['content']\n"
   ]
  },
  {
   "cell_type": "code",
   "execution_count": 72,
   "id": "5d40c6c1-0550-43d7-8987-a77074a6ed34",
   "metadata": {},
   "outputs": [
    {
     "data": {
      "text/plain": [
       "title\n",
       "Convention collective entre l'Agence canadienne d'inspection des aliments et l'Institut professionnel de la fonction publique du Canada concernant l'unité de négociation du groupe Informatique (IN) - Agence canadienne d'inspection des aliments    24\n",
       "D-08-04: Plant Protection Import Requirements for Plants and Plant Parts for Planting - Canadian Food Inspection Agency                                                                                                                                15\n",
       "Documents proposés à l'incorporation par renvoi – Tableau canadien des ingrédients des aliments du bétail (TCIAB) - Agence canadienne d'inspection des aliments                                                                                        12\n",
       "Règlement sur la santé des animaux partie XII : modification au règlement sur le transport des animauxDocument d'orientation à l'intention des parties réglementées - Agence canadienne d'inspection des aliments                                      12\n",
       "D-02-04 : Programme de certification des bleuets et exigences phytosanitaires en territoire canadien visant à prévenir la dissémination de la mouche du bleuet (Rhagoletis mendax) au Canada - Agence canadienne d'inspection des aliments              8\n",
       "                                                                                                                                                                                                                                                       ..\n",
       "Non-Compliant and Disposed Imported Food Products: 2014 – October to December - Canadian Food Inspection Agency                                                                                                                                         1\n",
       "Audit of the Project Management of the Food Safety Action Plan - Canadian Food Inspection Agency                                                                                                                                                        1\n",
       "E. coli O157:H7 Food Safety Investigation Cardinal Meat Specialists Ltd. - Canadian Food Inspection Agency                                                                                                                                              1\n",
       "Non-Compliant and Disposed Imported Food Products: 2013 - October to December - Canadian Food Inspection Agency                                                                                                                                         1\n",
       "Déclarations - Agence canadienne d'inspection des aliments                                                                                                                                                                                              1\n",
       "Name: count, Length: 696, dtype: int64"
      ]
     },
     "execution_count": 72,
     "metadata": {},
     "output_type": "execute_result"
    }
   ],
   "source": [
    "df[:1000]['title'].value_counts()"
   ]
  },
  {
   "cell_type": "code",
   "execution_count": 73,
   "id": "12253830-9541-4631-832f-59f2c6fd0d97",
   "metadata": {},
   "outputs": [],
   "source": [
    "from llama_index.core.vector_stores import MetadataFilters\n",
    "from llama_index.core.vector_stores import ExactMatchFilter\n",
    "\n",
    "\n",
    "filters = MetadataFilters(filters=[\n",
    "    ExactMatchFilter(\n",
    "        key=\"title\", \n",
    "        value='Audit of the Project Management of the Food Safety Action Plan - Canadian Food Inspection Agency'\n",
    "    ),\n",
    "])"
   ]
  },
  {
   "cell_type": "code",
   "execution_count": 77,
   "id": "cbb5feb4-e919-4011-a602-0c8ee6406339",
   "metadata": {},
   "outputs": [
    {
     "name": "stdout",
     "output_type": "stream",
     "text": [
      "INFO:httpx:HTTP Request: POST https://azure-open-ai-common-infra.openai.azure.com//openai/deployments/ada/embeddings?api-version=2023-07-01-preview \"HTTP/1.1 200 OK\"\n",
      "HTTP Request: POST https://azure-open-ai-common-infra.openai.azure.com//openai/deployments/ada/embeddings?api-version=2023-07-01-preview \"HTTP/1.1 200 OK\"\n",
      "HTTP Request: POST https://azure-open-ai-common-infra.openai.azure.com//openai/deployments/ada/embeddings?api-version=2023-07-01-preview \"HTTP/1.1 200 OK\"\n",
      "INFO:httpx:HTTP Request: POST https://azure-open-ai-common-infra.openai.azure.com//openai/deployments/ailab-llm/chat/completions?api-version=2023-07-01-preview \"HTTP/1.1 200 OK\"\n",
      "HTTP Request: POST https://azure-open-ai-common-infra.openai.azure.com//openai/deployments/ailab-llm/chat/completions?api-version=2023-07-01-preview \"HTTP/1.1 200 OK\"\n",
      "HTTP Request: POST https://azure-open-ai-common-infra.openai.azure.com//openai/deployments/ailab-llm/chat/completions?api-version=2023-07-01-preview \"HTTP/1.1 200 OK\"\n"
     ]
    }
   ],
   "source": [
    "from llama_index.core.vector_stores import MetadataFilters\n",
    "\n",
    "query_engine = index.as_query_engine(\n",
    "    similarity_top_k=10,\n",
    "    filters= filters\n",
    ")\n",
    "\n",
    "response = query_engine.query(\n",
    "    \"Is the following statement true? CFIA's objectives of the FSAP are to: Enhance capacity to identify risks, determine where they come from, and how to reduce and mitigate them; Provide inspectors with additional tools to prioritize their activities, verify compliance, and take enforcement actions\", \n",
    ")"
   ]
  },
  {
   "cell_type": "code",
   "execution_count": 78,
   "id": "5d1fbeac-8bbb-453d-b9de-fb6309705ada",
   "metadata": {},
   "outputs": [
    {
     "data": {
      "text/plain": [
       "[NodeWithScore(node=TextNode(id_='98396b6b-1162-4458-98f5-e086c0472169', embedding=None, metadata={'id_': 'c7828675-ee69-40f5-be05-08810f1e2608', 'title': 'Audit of the Project Management of the Food Safety Action Plan - Canadian Food Inspection Agency', 'subtitle': 'This page has been archived'}, excluded_embed_metadata_keys=[], excluded_llm_metadata_keys=[], relationships={<NodeRelationship.SOURCE: '1'>: RelatedNodeInfo(node_id='0f5d2e2b-565f-4482-8c65-7191dc0c38af', node_type=<ObjectType.DOCUMENT: '4'>, metadata={'id_': 'c7828675-ee69-40f5-be05-08810f1e2608', 'title': 'Audit of the Project Management of the Food Safety Action Plan - Canadian Food Inspection Agency', 'subtitle': 'This page has been archived'}, hash='212ff06e2c831f51ea9358e3fc8618abc0758244f4da9d365b07bd90dcc20b7b')}, text='This page has been archived Information identified as archived is provided for reference, research or record-keeping purposes. It is not subject to the Government of Canada Web Standards and has not been altered or updated since it was archived. Please contact us to request a format other than those available.', start_char_idx=0, end_char_idx=311, text_template='{metadata_str}\\n\\n{content}', metadata_template='{key}: {value}', metadata_seperator='\\n'), score=0.8025282648281987)]"
      ]
     },
     "execution_count": 78,
     "metadata": {},
     "output_type": "execute_result"
    }
   ],
   "source": [
    "response.source_nodes"
   ]
  },
  {
   "cell_type": "code",
   "execution_count": 25,
   "id": "576f79d4-25a4-420a-8e85-6ac16b2f4f3b",
   "metadata": {},
   "outputs": [
    {
     "data": {
      "text/html": [
       "<div>\n",
       "<style scoped>\n",
       "    .dataframe tbody tr th:only-of-type {\n",
       "        vertical-align: middle;\n",
       "    }\n",
       "\n",
       "    .dataframe tbody tr th {\n",
       "        vertical-align: top;\n",
       "    }\n",
       "\n",
       "    .dataframe thead th {\n",
       "        text-align: right;\n",
       "    }\n",
       "</style>\n",
       "<table border=\"1\" class=\"dataframe\">\n",
       "  <thead>\n",
       "    <tr style=\"text-align: right;\">\n",
       "      <th></th>\n",
       "      <th>Unnamed: 0</th>\n",
       "      <th>id</th>\n",
       "      <th>title</th>\n",
       "      <th>subtitle</th>\n",
       "      <th>content</th>\n",
       "      <th>embedding</th>\n",
       "      <th>score</th>\n",
       "      <th>cluster</th>\n",
       "    </tr>\n",
       "  </thead>\n",
       "  <tbody>\n",
       "    <tr>\n",
       "      <th>103821</th>\n",
       "      <td>103821</td>\n",
       "      <td>08bc5d69-6638-42bd-8fe7-c988d962202b</td>\n",
       "      <td>Canadian Standards of Identity: Volume 8 – Icewine - Canadian Food Inspection Agency</td>\n",
       "      <td>Canadian Standards of Identity: Volume 8 – Icewine</td>\n",
       "      <td>Canadian Standards of Identity: Volume 8 – Icewine Icewine 1. Icewine, ice wine or ice-wine is wine that is made exclusively from grapes naturally frozen on the vine and that, if made in Canada, has been determined by an entity acting under the authority of the law of the province in which it was made to have been made exclusively from such grapes.</td>\n",
       "      <td>[0.0135606555,-0.036940645,0.00447646,-0.05159088,0.011322426,0.0008975894,-0.023616282,0.0026632315,-0.0065768524,-0.038489684,0.01358691,0.017643293,-0.02743637,-0.011263352,-0.0036559948,0.031059546,0.018102754,-0.008926665,0.017590784,-0.019481136,-0.026517449,-0.0072200974,0.012838646,-0.012753317,-0.0045519434,0.006107546,0.009464892,-0.016684989,0.011900033,-0.010042499,0.012733626,-0.0053855362,0.001168343,0.0049063843,-0.005940171,-0.018417813,-0.0091826515,-0.01296992,0.0009328694,0.01776144,0.034840252,0.005605421,-0.00269605,0.01647495,0.00011455751,0.036152996,-0.022316664,0.02872286,0.00687222,0.011283043,0.03489276,0.00905794,-0.02095141,0.012779572,-0.00419422,-0.011821268,-0.022986164,-0.0031817656,0.007213534,-0.014571469,-0.012024744,0.00639635,-0.02990433,0.024023233,-0.0275939,-0.006754073,-0.017328234,0.012884592,0.013705058,-0.009635548,0.030718233,0.023668792,0.024272654,0.009103887,0.0021479789,0.0022890992,-0.018339047,-0.026963782,0.0017853332,-0.010226283,0.0123069845,-0.023865703,-0.015057185,0.017183831,0.0062913303,0.03016688,-0.0037281958,0.014702744,0.006248666,0.0004165914,0.003367191,0.020885773,0.0047160364,0.0059073525,-0.03344874,0.0054314826,0.033895075,0.013967606,0.0060747275,-0.019848704,0.009300798,-0.0005829408,0.007298862,-0.016763754,-0.022933654,0.012412004,0.006251948,-0.00046110168,0.014151391,0.0008943075,-0.01492591,0.036573075,0.041010153,-0.0476789,0.01585796,0.03814837,0.016448695,0.00010655797,0.011913161,-0.02769892,-0.004627426,-0.0049195117,0.03279237,0.010370686,0.014952165,0.017144449,-0.027515134,-0.019586155,0.0038135243,-0.035234075,0.028329037,-0.015844831,0.010239411,0.0061600558,-0.0034065733,0.025861077,-0.015451008,-0.0027830193,0.01868036,0.0033836002,0.00262549,0.014006989,-0.024692733,-0.0009706108,-0.008834774,-0.000644886,0.011900033,0.017800821,0.0010140955,-0.005372409,0.008624734,-0.024587713,0.026123624,0.0065243426,0.024285782,0.016658735,-0.0041843746,0.011027058,-0.006852529,0.000635...</td>\n",
       "      <td>0.616868</td>\n",
       "      <td>6709</td>\n",
       "    </tr>\n",
       "  </tbody>\n",
       "</table>\n",
       "</div>"
      ],
      "text/plain": [
       "        Unnamed: 0                                    id  \\\n",
       "103821      103821  08bc5d69-6638-42bd-8fe7-c988d962202b   \n",
       "\n",
       "                                                                                       title  \\\n",
       "103821  Canadian Standards of Identity: Volume 8 – Icewine - Canadian Food Inspection Agency   \n",
       "\n",
       "                                                  subtitle  \\\n",
       "103821  Canadian Standards of Identity: Volume 8 – Icewine   \n",
       "\n",
       "                                                                                                                                                                                                                                                                                                                                                               content  \\\n",
       "103821  Canadian Standards of Identity: Volume 8 – Icewine Icewine 1. Icewine, ice wine or ice-wine is wine that is made exclusively from grapes naturally frozen on the vine and that, if made in Canada, has been determined by an entity acting under the authority of the law of the province in which it was made to have been made exclusively from such grapes.   \n",
       "\n",
       "                                                                                                                                                                                                                                                                                                                                                                                                                                                                                                                                                                                                                                                                                                                                                                                                                                                                                                                                                                                                                                                                                                                                                                                                                                                                                                                                                                                                                                                                                                                                                                                                                                                                                                                                                                                                                                                                                                                                                                                                                                                                              embedding  \\\n",
       "103821  [0.0135606555,-0.036940645,0.00447646,-0.05159088,0.011322426,0.0008975894,-0.023616282,0.0026632315,-0.0065768524,-0.038489684,0.01358691,0.017643293,-0.02743637,-0.011263352,-0.0036559948,0.031059546,0.018102754,-0.008926665,0.017590784,-0.019481136,-0.026517449,-0.0072200974,0.012838646,-0.012753317,-0.0045519434,0.006107546,0.009464892,-0.016684989,0.011900033,-0.010042499,0.012733626,-0.0053855362,0.001168343,0.0049063843,-0.005940171,-0.018417813,-0.0091826515,-0.01296992,0.0009328694,0.01776144,0.034840252,0.005605421,-0.00269605,0.01647495,0.00011455751,0.036152996,-0.022316664,0.02872286,0.00687222,0.011283043,0.03489276,0.00905794,-0.02095141,0.012779572,-0.00419422,-0.011821268,-0.022986164,-0.0031817656,0.007213534,-0.014571469,-0.012024744,0.00639635,-0.02990433,0.024023233,-0.0275939,-0.006754073,-0.017328234,0.012884592,0.013705058,-0.009635548,0.030718233,0.023668792,0.024272654,0.009103887,0.0021479789,0.0022890992,-0.018339047,-0.026963782,0.0017853332,-0.010226283,0.0123069845,-0.023865703,-0.015057185,0.017183831,0.0062913303,0.03016688,-0.0037281958,0.014702744,0.006248666,0.0004165914,0.003367191,0.020885773,0.0047160364,0.0059073525,-0.03344874,0.0054314826,0.033895075,0.013967606,0.0060747275,-0.019848704,0.009300798,-0.0005829408,0.007298862,-0.016763754,-0.022933654,0.012412004,0.006251948,-0.00046110168,0.014151391,0.0008943075,-0.01492591,0.036573075,0.041010153,-0.0476789,0.01585796,0.03814837,0.016448695,0.00010655797,0.011913161,-0.02769892,-0.004627426,-0.0049195117,0.03279237,0.010370686,0.014952165,0.017144449,-0.027515134,-0.019586155,0.0038135243,-0.035234075,0.028329037,-0.015844831,0.010239411,0.0061600558,-0.0034065733,0.025861077,-0.015451008,-0.0027830193,0.01868036,0.0033836002,0.00262549,0.014006989,-0.024692733,-0.0009706108,-0.008834774,-0.000644886,0.011900033,0.017800821,0.0010140955,-0.005372409,0.008624734,-0.024587713,0.026123624,0.0065243426,0.024285782,0.016658735,-0.0041843746,0.011027058,-0.006852529,0.000635...   \n",
       "\n",
       "           score  cluster  \n",
       "103821  0.616868     6709  "
      ]
     },
     "execution_count": 25,
     "metadata": {},
     "output_type": "execute_result"
    }
   ],
   "source": [
    "df[df['id'] == '08bc5d69-6638-42bd-8fe7-c988d962202b']"
   ]
  },
  {
   "cell_type": "code",
   "execution_count": 15,
   "id": "beeec30c-179f-4c1d-828f-1c390a5f1949",
   "metadata": {},
   "outputs": [
    {
     "data": {
      "text/plain": [
       "title\n",
       "Certifications biologiques révoquées - Agence canadienne d'inspection des aliments                                                                                                                                                                     558\n",
       "Documents proposés à l'incorporation par renvoi – Tableau canadien des ingrédients des aliments du bétail (TCIAB) - Agence canadienne d'inspection des aliments                                                                                        557\n",
       "Cancelled organic certifications - Canadian Food Inspection Agency                                                                                                                                                                                     554\n",
       "Règlement sur la santé des animaux partie XII : modification au règlement sur le transport des animauxDocument d'orientation à l'intention des parties réglementées - Agence canadienne d'inspection des aliments                                      468\n",
       "Convention collective entre l'Agence canadienne d'inspection des aliments et l'Institut professionnel de la fonction publique du Canada concernant l'unité de négociation du groupe Informatique (IN) - Agence canadienne d'inspection des aliments    410\n",
       "                                                                                                                                                                                                                                                      ... \n",
       "Service standard for new registration (no data) - Canadian Food Inspection Agency                                                                                                                                                                        1\n",
       "Coolwater Fish Ltd. Fined $7,500 for contravening the Fish Inspection Act and Food and Drugs Act - Canadian Food Inspection Agency                                                                                                                       1\n",
       "Tunisia - Export requirements for honey - Canadian Food Inspection Agency                                                                                                                                                                                1\n",
       "Internationally renowned Winnipeg lab fights avian influenza and other animal viruses with cutting-edge science - Canadian Food Inspection Agency                                                                                                        1\n",
       "Canadian Standards of Identity: Volume 8 – Icewine - Canadian Food Inspection Agency                                                                                                                                                                     1\n",
       "Name: count, Length: 12495, dtype: int64"
      ]
     },
     "execution_count": 15,
     "metadata": {},
     "output_type": "execute_result"
    }
   ],
   "source": [
    "pd.set_option('max_colwidth', 1000)\n",
    "df['title'].value_counts()\n"
   ]
  },
  {
   "cell_type": "code",
   "execution_count": 18,
   "id": "78386d29-3fe0-40a8-8d74-fac5beedfdb3",
   "metadata": {},
   "outputs": [
    {
     "name": "stdout",
     "output_type": "stream",
     "text": [
      "INFO:httpx:HTTP Request: POST https://azure-open-ai-common-infra.openai.azure.com//openai/deployments/ada/embeddings?api-version=2023-07-01-preview \"HTTP/1.1 200 OK\"\n",
      "HTTP Request: POST https://azure-open-ai-common-infra.openai.azure.com//openai/deployments/ada/embeddings?api-version=2023-07-01-preview \"HTTP/1.1 200 OK\"\n",
      "INFO:httpx:HTTP Request: POST https://azure-open-ai-common-infra.openai.azure.com//openai/deployments/ailab-llm/chat/completions?api-version=2023-07-01-preview \"HTTP/1.1 200 OK\"\n",
      "HTTP Request: POST https://azure-open-ai-common-infra.openai.azure.com//openai/deployments/ailab-llm/chat/completions?api-version=2023-07-01-preview \"HTTP/1.1 200 OK\"\n"
     ]
    }
   ],
   "source": [
    "# configure response synthesizer\n",
    "response_synthesizer = get_response_synthesizer()\n",
    "\n",
    "query_engine = index.as_query_engine(\n",
    "    similarity_top_k=15,\n",
    "    response_synthesizer=response_synthesizer,\n",
    "    node_postprocessors=[SimilarityPostprocessor(similarity_cutoff=0.7)],\n",
    "    \n",
    ")\n",
    "\n",
    "response = query_engine.query(\"Service standard for new registration (no data) - Canadian Food Inspection Agency\")"
   ]
  },
  {
   "cell_type": "code",
   "execution_count": null,
   "id": "81528dc0-728e-40ca-bf7a-15bd70ee1249",
   "metadata": {},
   "outputs": [],
   "source": [
    "df[df['title']==\"Service standard for new registration (no data) - Canadian Food Inspection Agency\"]"
   ]
  },
  {
   "cell_type": "code",
   "execution_count": 24,
   "id": "adda88d2-c459-403f-9c6e-01ed30c77a65",
   "metadata": {},
   "outputs": [
    {
     "name": "stdout",
     "output_type": "stream",
     "text": [
      "e5f6dd3b-89e5-4e1b-8cab-f7f9d2384e19\n"
     ]
    }
   ],
   "source": [
    "print(response.source_nodes[0].metadata['id_'])"
   ]
  },
  {
   "cell_type": "code",
   "execution_count": null,
   "id": "f4ccbc6f-015c-4b14-bb00-e2078d99b672",
   "metadata": {},
   "outputs": [],
   "source": [
    "df[df['id']=='e5f6dd3b-89e5-4e1b-8cab-f7f9d2384e19']"
   ]
  },
  {
   "cell_type": "code",
   "execution_count": null,
   "id": "2f57299c-999d-4048-8ea3-16e7a1789b9f",
   "metadata": {},
   "outputs": [],
   "source": [
    "\n",
    "from llama_index import StorageContext, load_index_from_storage\n",
    "import time\n",
    "start = time.time()\n",
    "\n",
    "# rebuild storage context\n",
    "storage_context = StorageContext.from_defaults(persist_dir=\"./index\")\n",
    "# load index\n",
    "index = load_index_from_storage(storage_context)\n",
    "# configure retriever for debugging and retrieving metadata \n",
    "retriever = VectorIndexRetriever(\n",
    "    index=index,\n",
    "    similarity_top_k=15,\n",
    "    mode=VectorStoreQueryMode.HYBRID\n",
    ")\n",
    "# configure response synthesizer\n",
    "response_synthesizer = get_response_synthesizer()\n",
    "\n",
    "# assemble query engine\n",
    "query_engine = RetrieverQueryEngine(\n",
    "    retriever=retriever,\n",
    "    response_synthesizer=response_synthesizer,\n",
    "    node_postprocessors=[SimilarityPostprocessor(similarity_cutoff=0.7)],\n",
    ")\n",
    "\n",
    "print('It took', time.time()-start, 'seconds.')"
   ]
  },
  {
   "cell_type": "code",
   "execution_count": 28,
   "id": "cfe70a4c-3461-4a25-956b-8c6264bc2d08",
   "metadata": {},
   "outputs": [],
   "source": [
    "from llama_index.core import Settings\n",
    "nodes = Settings.node_parser.get_nodes_from_documents(docs)"
   ]
  },
  {
   "cell_type": "code",
   "execution_count": 31,
   "id": "aa772a72-3c31-4ca7-89a1-dd08313f9096",
   "metadata": {},
   "outputs": [
    {
     "data": {
      "application/vnd.jupyter.widget-view+json": {
       "model_id": "a6ae1aec353a4db4a46c3dac5c7c44e3",
       "version_major": 2,
       "version_minor": 0
      },
      "text/plain": [
       "Parsing nodes:   0%|          | 0/103836 [00:00<?, ?it/s]"
      ]
     },
     "metadata": {},
     "output_type": "display_data"
    },
    {
     "data": {
      "application/vnd.jupyter.widget-view+json": {
       "model_id": "b6ad6b43ee324b39868838605a11aa0b",
       "version_major": 2,
       "version_minor": 0
      },
      "text/plain": [
       "Extracting keywords from nodes:   0%|          | 0/104256 [00:00<?, ?it/s]"
      ]
     },
     "metadata": {},
     "output_type": "display_data"
    },
    {
     "name": "stdout",
     "output_type": "stream",
     "text": [
      "It took 166.25920867919922 seconds.\n"
     ]
    }
   ],
   "source": [
    "## build simplekeywordtableindex\n",
    "from llama_index.core import SimpleKeywordTableIndex\n",
    "\n",
    "start = time.time()\n",
    "keyword_index = SimpleKeywordTableIndex.from_documents(docs, service_context=service_context, show_progress=True)\n",
    "print('It took', time.time()-start, 'seconds.')"
   ]
  },
  {
   "cell_type": "code",
   "execution_count": 32,
   "id": "8db80d40-be18-4ffe-abe5-3ebd41dde624",
   "metadata": {},
   "outputs": [],
   "source": [
    "# import QueryBundle\n",
    "from llama_index.core import QueryBundle\n",
    "\n",
    "# import NodeWithScore\n",
    "from llama_index.core.schema import NodeWithScore\n",
    "\n",
    "# Retrievers\n",
    "from llama_index.core.retrievers import (\n",
    "    BaseRetriever,\n",
    "    VectorIndexRetriever,\n",
    "    KeywordTableSimpleRetriever,\n",
    ")\n",
    "\n",
    "from typing import List"
   ]
  },
  {
   "cell_type": "code",
   "execution_count": 33,
   "id": "40e457cd-ac0b-40cc-b119-d0c6840de61f",
   "metadata": {},
   "outputs": [],
   "source": [
    "class CustomRetriever(BaseRetriever):\n",
    "    \"\"\"Custom retriever that performs both semantic search and hybrid search.\"\"\"\n",
    "\n",
    "    def __init__(\n",
    "        self,\n",
    "        vector_retriever: VectorIndexRetriever,\n",
    "        keyword_retriever: KeywordTableSimpleRetriever,\n",
    "        mode: str = \"AND\",\n",
    "    ) -> None:\n",
    "        \"\"\"Init params.\"\"\"\n",
    "\n",
    "        self._vector_retriever = vector_retriever\n",
    "        self._keyword_retriever = keyword_retriever\n",
    "        if mode not in (\"AND\", \"OR\"):\n",
    "            raise ValueError(\"Invalid mode.\")\n",
    "        self._mode = mode\n",
    "        super().__init__()\n",
    "\n",
    "    def _retrieve(self, query_bundle: QueryBundle) -> List[NodeWithScore]:\n",
    "        \"\"\"Retrieve nodes given query.\"\"\"\n",
    "\n",
    "        vector_nodes = self._vector_retriever.retrieve(query_bundle)\n",
    "        keyword_nodes = self._keyword_retriever.retrieve(query_bundle)\n",
    "\n",
    "        vector_ids = {n.node.node_id for n in vector_nodes}\n",
    "        keyword_ids = {n.node.node_id for n in keyword_nodes}\n",
    "\n",
    "        combined_dict = {n.node.node_id: n for n in vector_nodes}\n",
    "        combined_dict.update({n.node.node_id: n for n in keyword_nodes})\n",
    "\n",
    "        if self._mode == \"AND\":\n",
    "            retrieve_ids = vector_ids.intersection(keyword_ids)\n",
    "        else:\n",
    "            retrieve_ids = vector_ids.union(keyword_ids)\n",
    "\n",
    "        retrieve_nodes = [combined_dict[rid] for rid in retrieve_ids]\n",
    "        return retrieve_nodes"
   ]
  },
  {
   "cell_type": "code",
   "execution_count": 34,
   "id": "1fdb11ca-b44e-4f1c-be06-9980dcf1f9c9",
   "metadata": {},
   "outputs": [],
   "source": [
    "from llama_index.core import get_response_synthesizer\n",
    "from llama_index.core.query_engine import RetrieverQueryEngine\n",
    "\n",
    "# define custom retriever\n",
    "vector_retriever = VectorIndexRetriever(index=index, similarity_top_k=15)\n",
    "keyword_retriever = KeywordTableSimpleRetriever(index=keyword_index)\n",
    "custom_retriever = CustomRetriever(vector_retriever, keyword_retriever)\n",
    "\n",
    "# define response synthesizer\n",
    "response_synthesizer = get_response_synthesizer()\n",
    "\n",
    "# assemble query engine\n",
    "custom_query_engine = RetrieverQueryEngine(\n",
    "    retriever=custom_retriever,\n",
    "    response_synthesizer=response_synthesizer,\n",
    ")\n",
    "\n",
    "# vector query engine\n",
    "vector_query_engine = RetrieverQueryEngine(\n",
    "    retriever=vector_retriever,\n",
    "    response_synthesizer=response_synthesizer,\n",
    ")\n",
    "# keyword query engine\n",
    "keyword_query_engine = RetrieverQueryEngine(\n",
    "    retriever=keyword_retriever,\n",
    "    response_synthesizer=response_synthesizer,\n",
    ")"
   ]
  },
  {
   "cell_type": "code",
   "execution_count": 47,
   "id": "b213c9a8-3127-4906-a50a-5849a0b5c339",
   "metadata": {},
   "outputs": [
    {
     "name": "stdout",
     "output_type": "stream",
     "text": [
      "INFO:httpx:HTTP Request: POST https://azure-open-ai-common-infra.openai.azure.com//openai/deployments/ada/embeddings?api-version=2023-07-01-preview \"HTTP/1.1 200 OK\"\n",
      "HTTP Request: POST https://azure-open-ai-common-infra.openai.azure.com//openai/deployments/ada/embeddings?api-version=2023-07-01-preview \"HTTP/1.1 200 OK\"\n",
      "INFO:llama_index.core.indices.keyword_table.retrievers:> Starting query: Coolwater Fish Ltd. Fined $7,500 for contravening the Fish Inspection Act and Food and Drugs Act - Canadian Food Inspection Agency\n",
      "> Starting query: Coolwater Fish Ltd. Fined $7,500 for contravening the Fish Inspection Act and Food and Drugs Act - Canadian Food Inspection Agency\n",
      "INFO:llama_index.core.indices.keyword_table.retrievers:query keywords: ['ltd', 'act', 'inspection', 'food', 'contravening', '7', 'fish', '500', 'fined', 'coolwater']\n",
      "query keywords: ['ltd', 'act', 'inspection', 'food', 'contravening', '7', 'fish', '500', 'fined', 'coolwater']\n",
      "INFO:llama_index.core.indices.keyword_table.retrievers:> Extracted keywords: ['ltd', 'act', 'inspection', 'food', 'contravening', '7', 'fish', '500', 'fined', 'coolwater']\n",
      "> Extracted keywords: ['ltd', 'act', 'inspection', 'food', 'contravening', '7', 'fish', '500', 'fined', 'coolwater']\n",
      "Empty Response\n"
     ]
    }
   ],
   "source": [
    "response = custom_query_engine.query(\n",
    "    \"Coolwater Fish Ltd. Fined $7,500 for contravening the Fish Inspection Act and Food and Drugs Act - Canadian Food Inspection Agency\"\n",
    ")\n",
    "print(response)"
   ]
  },
  {
   "cell_type": "code",
   "execution_count": 48,
   "id": "01284b6f-f443-412a-a577-b50d61986c90",
   "metadata": {},
   "outputs": [
    {
     "ename": "IndexError",
     "evalue": "list index out of range",
     "output_type": "error",
     "traceback": [
      "\u001b[1;31m---------------------------------------------------------------------------\u001b[0m",
      "\u001b[1;31mIndexError\u001b[0m                                Traceback (most recent call last)",
      "Cell \u001b[1;32mIn[48], line 1\u001b[0m\n\u001b[1;32m----> 1\u001b[0m \u001b[38;5;28mprint\u001b[39m(\u001b[43mresponse\u001b[49m\u001b[38;5;241;43m.\u001b[39;49m\u001b[43msource_nodes\u001b[49m\u001b[43m[\u001b[49m\u001b[38;5;241;43m0\u001b[39;49m\u001b[43m]\u001b[49m\u001b[38;5;241m.\u001b[39mmetadata)\n",
      "\u001b[1;31mIndexError\u001b[0m: list index out of range"
     ]
    }
   ],
   "source": [
    "print(response.source_nodes[0].metadata)"
   ]
  },
  {
   "cell_type": "code",
   "execution_count": 42,
   "id": "9ce92b97-8298-4cf5-8cc0-72bdf59abd10",
   "metadata": {},
   "outputs": [
    {
     "name": "stdout",
     "output_type": "stream",
     "text": [
      "INFO:httpx:HTTP Request: POST https://azure-open-ai-common-infra.openai.azure.com//openai/deployments/ada/embeddings?api-version=2023-07-01-preview \"HTTP/1.1 200 OK\"\n",
      "HTTP Request: POST https://azure-open-ai-common-infra.openai.azure.com//openai/deployments/ada/embeddings?api-version=2023-07-01-preview \"HTTP/1.1 200 OK\"\n",
      "INFO:httpx:HTTP Request: POST https://azure-open-ai-common-infra.openai.azure.com//openai/deployments/ailab-llm/chat/completions?api-version=2023-07-01-preview \"HTTP/1.1 200 OK\"\n",
      "HTTP Request: POST https://azure-open-ai-common-infra.openai.azure.com//openai/deployments/ailab-llm/chat/completions?api-version=2023-07-01-preview \"HTTP/1.1 200 OK\"\n",
      "The service standard for new registration (no data) is set to be completed in 465 days. The performance target for achieving this standard is set at 90%. In the annual performance of 2018-19, 92% of 370 submissions were processed within the service standard.\n"
     ]
    }
   ],
   "source": [
    "response = vector_query_engine.query(\n",
    "    \"Service standard for new registration (no data) - Canadian Food Inspection Agency\"\n",
    ")\n",
    "print(response)"
   ]
  },
  {
   "cell_type": "code",
   "execution_count": 43,
   "id": "0732bee1-1ed3-450b-8548-5ac9917b01ba",
   "metadata": {},
   "outputs": [
    {
     "name": "stdout",
     "output_type": "stream",
     "text": [
      "{'id_': 'e5f6dd3b-89e5-4e1b-8cab-f7f9d2384e19'}\n"
     ]
    }
   ],
   "source": [
    "print(response.source_nodes[0].metadata)"
   ]
  },
  {
   "cell_type": "code",
   "execution_count": 45,
   "id": "e6725f6c-df2a-495e-a1aa-0580b5cecc4b",
   "metadata": {},
   "outputs": [
    {
     "name": "stdout",
     "output_type": "stream",
     "text": [
      "INFO:llama_index.core.indices.keyword_table.retrievers:> Starting query: Service standard for new registration (no data) - Canadian Food Inspection Agency\n",
      "> Starting query: Service standard for new registration (no data) - Canadian Food Inspection Agency\n",
      "INFO:llama_index.core.indices.keyword_table.retrievers:query keywords: ['registration', 'service', 'food', 'inspection', 'agency', 'standard', 'new', 'canadian', 'data']\n",
      "query keywords: ['registration', 'service', 'food', 'inspection', 'agency', 'standard', 'new', 'canadian', 'data']\n",
      "INFO:llama_index.core.indices.keyword_table.retrievers:> Extracted keywords: ['registration', 'service', 'food', 'inspection', 'agency', 'standard', 'new', 'canadian', 'data']\n",
      "> Extracted keywords: ['registration', 'service', 'food', 'inspection', 'agency', 'standard', 'new', 'canadian', 'data']\n",
      "INFO:httpx:HTTP Request: POST https://azure-open-ai-common-infra.openai.azure.com//openai/deployments/ailab-llm/chat/completions?api-version=2023-07-01-preview \"HTTP/1.1 200 OK\"\n",
      "HTTP Request: POST https://azure-open-ai-common-infra.openai.azure.com//openai/deployments/ailab-llm/chat/completions?api-version=2023-07-01-preview \"HTTP/1.1 200 OK\"\n",
      "The context does not provide specific information about the service standard for new registration (no data) at the Canadian Food Inspection Agency.\n"
     ]
    }
   ],
   "source": [
    "response = keyword_query_engine.query(\n",
    "    \"Service standard for new registration (no data) - Canadian Food Inspection Agency\"\n",
    ")\n",
    "print(response)"
   ]
  },
  {
   "cell_type": "code",
   "execution_count": 46,
   "id": "b209df7b-a8ef-4ec7-b519-0d71b186b59c",
   "metadata": {},
   "outputs": [
    {
     "name": "stdout",
     "output_type": "stream",
     "text": [
      "{'id_': '63095637-94e6-43cd-9c57-e1199f98a6e8'}\n"
     ]
    }
   ],
   "source": [
    "print(response.source_nodes[0].metadata)"
   ]
  },
  {
   "cell_type": "code",
   "execution_count": 50,
   "id": "3c548866-e184-4911-9ffe-f9b511bc1536",
   "metadata": {},
   "outputs": [
    {
     "ename": "AttributeError",
     "evalue": "'VectorStoreIndex' object has no attribute 'embedding_dict'",
     "output_type": "error",
     "traceback": [
      "\u001b[1;31m---------------------------------------------------------------------------\u001b[0m",
      "\u001b[1;31mAttributeError\u001b[0m                            Traceback (most recent call last)",
      "Cell \u001b[1;32mIn[50], line 1\u001b[0m\n\u001b[1;32m----> 1\u001b[0m \u001b[43mindex\u001b[49m\u001b[38;5;241;43m.\u001b[39;49m\u001b[43membedding_dict\u001b[49m\n",
      "\u001b[1;31mAttributeError\u001b[0m: 'VectorStoreIndex' object has no attribute 'embedding_dict'"
     ]
    }
   ],
   "source": [
    "index."
   ]
  },
  {
   "cell_type": "code",
   "execution_count": null,
   "id": "b37d7a57-81e4-4dcd-8b06-0b2d1e1f72a4",
   "metadata": {},
   "outputs": [],
   "source": []
  }
 ],
 "metadata": {
  "kernelspec": {
   "display_name": "Python 3 (ipykernel)",
   "language": "python",
   "name": "python3"
  },
  "language_info": {
   "codemirror_mode": {
    "name": "ipython",
    "version": 3
   },
   "file_extension": ".py",
   "mimetype": "text/x-python",
   "name": "python",
   "nbconvert_exporter": "python",
   "pygments_lexer": "ipython3",
   "version": "3.12.2"
  }
 },
 "nbformat": 4,
 "nbformat_minor": 5
}
